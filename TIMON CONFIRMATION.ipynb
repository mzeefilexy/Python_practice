{
 "cells": [
  {
   "cell_type": "code",
   "execution_count": 2,
   "id": "3a4fd171",
   "metadata": {},
   "outputs": [
    {
     "ename": "ModuleNotFoundError",
     "evalue": "No module named 'researchpy'",
     "output_type": "error",
     "traceback": [
      "\u001b[1;31m---------------------------------------------------------------------------\u001b[0m",
      "\u001b[1;31mModuleNotFoundError\u001b[0m                       Traceback (most recent call last)",
      "\u001b[1;32m<ipython-input-2-218a76f8d56f>\u001b[0m in \u001b[0;36m<module>\u001b[1;34m\u001b[0m\n\u001b[0;32m      1\u001b[0m \u001b[1;31m# getting dependancies\u001b[0m\u001b[1;33m\u001b[0m\u001b[1;33m\u001b[0m\u001b[1;33m\u001b[0m\u001b[0m\n\u001b[0;32m      2\u001b[0m \u001b[1;32mimport\u001b[0m \u001b[0mpandas\u001b[0m \u001b[1;32mas\u001b[0m \u001b[0mpd\u001b[0m\u001b[1;33m\u001b[0m\u001b[1;33m\u001b[0m\u001b[0m\n\u001b[1;32m----> 3\u001b[1;33m \u001b[1;32mimport\u001b[0m \u001b[0mresearchpy\u001b[0m \u001b[1;32mas\u001b[0m \u001b[0mrp\u001b[0m\u001b[1;33m\u001b[0m\u001b[1;33m\u001b[0m\u001b[0m\n\u001b[0m\u001b[0;32m      4\u001b[0m \u001b[1;32mimport\u001b[0m \u001b[0mnumpy\u001b[0m \u001b[1;32mas\u001b[0m \u001b[0mnp\u001b[0m\u001b[1;33m\u001b[0m\u001b[1;33m\u001b[0m\u001b[0m\n\u001b[0;32m      5\u001b[0m \u001b[1;32mimport\u001b[0m \u001b[0mstatsmodels\u001b[0m\u001b[1;33m.\u001b[0m\u001b[0mapi\u001b[0m \u001b[1;32mas\u001b[0m \u001b[0msm\u001b[0m\u001b[1;33m\u001b[0m\u001b[1;33m\u001b[0m\u001b[0m\n",
      "\u001b[1;31mModuleNotFoundError\u001b[0m: No module named 'researchpy'"
     ]
    }
   ],
   "source": [
    "# getting dependancies\n",
    "import pandas as pd\n",
    "import researchpy as rp\n",
    "import numpy as np\n",
    "import statsmodels.api as sm\n",
    "import scipy.stats as stats\n",
    "import seaborn as sns\n",
    "import matplotlib as plt"
   ]
  },
  {
   "cell_type": "code",
   "execution_count": 3,
   "id": "7e60d163",
   "metadata": {},
   "outputs": [
    {
     "name": "stdout",
     "output_type": "stream",
     "text": [
      "Note: you may need to restart the kernel to use updated packages.\n"
     ]
    },
    {
     "name": "stderr",
     "output_type": "stream",
     "text": [
      "'C:\\Program' is not recognized as an internal or external command,\n",
      "operable program or batch file.\n"
     ]
    }
   ],
   "source": [
    "pip --user install researchpy"
   ]
  },
  {
   "cell_type": "code",
   "execution_count": null,
   "id": "a69ced97",
   "metadata": {},
   "outputs": [],
   "source": [
    "# getting the data\n",
    "df=pd.read_csv(r'C:\\Users\\BIMMY\\Downloads\\FinalData.csv')\n",
    "df.head()"
   ]
  },
  {
   "cell_type": "code",
   "execution_count": null,
   "id": "593d587d",
   "metadata": {},
   "outputs": [],
   "source": [
    "# get count plot for the outcome\n",
    "ax = sns.countplot(x='outcome', data=df)\n",
    "plt.show()"
   ]
  },
  {
   "cell_type": "code",
   "execution_count": null,
   "id": "6b522251",
   "metadata": {},
   "outputs": [],
   "source": [
    "# logistic regression model\n",
    "import statsmodels.api as sm \n",
    "# get independent variables\n",
    "X=df[['AGEINMONTHS','DAYSADMITTED','HIV_exposed','Malnutrition']]"
   ]
  },
  {
   "cell_type": "code",
   "execution_count": null,
   "id": "0a080731",
   "metadata": {},
   "outputs": [],
   "source": [
    "X2=df[['HIV_exposed','Malnutrition']]"
   ]
  },
  {
   "cell_type": "code",
   "execution_count": null,
   "id": "4cc28a83",
   "metadata": {},
   "outputs": [],
   "source": [
    "X3=df[['HIV_exposed']]"
   ]
  },
  {
   "cell_type": "code",
   "execution_count": null,
   "id": "1f66a006",
   "metadata": {},
   "outputs": [],
   "source": [
    "X4=df[['Malnutrition']]"
   ]
  },
  {
   "cell_type": "code",
   "execution_count": null,
   "id": "2a87e6cf",
   "metadata": {},
   "outputs": [],
   "source": [
    "# to get intercept -- this is optional\n",
    "# X = sm.add_constant(X)\n",
    "# get response variables"
   ]
  },
  {
   "cell_type": "code",
   "execution_count": null,
   "id": "3c114f50",
   "metadata": {},
   "outputs": [],
   "source": [
    "Y = df.outcome\n",
    "\n"
   ]
  },
  {
   "cell_type": "code",
   "execution_count": null,
   "id": "c4ec9c18",
   "metadata": {},
   "outputs": [],
   "source": [
    "# fit the model with maximum likelihood function\n",
    "model = sm.Logit(endog=Y, exog=X).fit()\n",
    "# output message"
   ]
  },
  {
   "cell_type": "code",
   "execution_count": null,
   "id": "5d69d582",
   "metadata": {},
   "outputs": [],
   "source": [
    "print(model.summary())"
   ]
  },
  {
   "cell_type": "code",
   "execution_count": null,
   "id": "c4d0b795",
   "metadata": {},
   "outputs": [],
   "source": [
    "# get odds ratio\n",
    "np.exp(model.params)"
   ]
  },
  {
   "cell_type": "code",
   "execution_count": null,
   "id": "35ca9db8",
   "metadata": {},
   "outputs": [],
   "source": [
    "#The above results are the log odds which is not intuitive (straight forward) in it's interpretation.\n",
    "#Let's convert this to odds ratio and interpret the model again.\n",
    "#To convert the log odds coefficients and confidence intervals, one needs to take the exponential of the values.\n",
    "\n",
    "model_odds = pd.DataFrame(np.exp(model.params), columns= ['OR'])\n",
    "model_odds['z-value']= model.pvalues\n",
    "model_odds[['2.5%', '97.5%']] = np.exp(model.conf_int())\n",
    "\n",
    "model_odds"
   ]
  },
  {
   "cell_type": "code",
   "execution_count": null,
   "id": "3f1651cf",
   "metadata": {},
   "outputs": [],
   "source": [
    "model2 = sm.Logit(endog=Y, exog=X2).fit()"
   ]
  },
  {
   "cell_type": "code",
   "execution_count": null,
   "id": "7e614830",
   "metadata": {},
   "outputs": [],
   "source": [
    "model3 = sm.Logit(endog=Y, exog=X3).fit()"
   ]
  },
  {
   "cell_type": "code",
   "execution_count": null,
   "id": "549cfb51",
   "metadata": {},
   "outputs": [],
   "source": [
    "model4 = sm.Logit(endog=Y, exog=X4).fit()"
   ]
  },
  {
   "cell_type": "code",
   "execution_count": null,
   "id": "33ddfd9e",
   "metadata": {},
   "outputs": [],
   "source": [
    "print(model2.summary())"
   ]
  },
  {
   "cell_type": "code",
   "execution_count": null,
   "id": "0efcf4d6",
   "metadata": {},
   "outputs": [],
   "source": [
    "print(model3.summary())"
   ]
  },
  {
   "cell_type": "code",
   "execution_count": null,
   "id": "7c088fa7",
   "metadata": {},
   "outputs": [],
   "source": [
    "print(model4.summary())"
   ]
  },
  {
   "cell_type": "code",
   "execution_count": null,
   "id": "0c3abd7d",
   "metadata": {},
   "outputs": [],
   "source": [
    "model2_odds = pd.DataFrame(np.exp(model2.params), columns= ['OR'])\n",
    "model2_odds['z-value']= model2.pvalues\n",
    "model2_odds[['2.5%', '97.5%']] = np.exp(model2.conf_int())\n",
    "\n",
    "model2_odds"
   ]
  },
  {
   "cell_type": "code",
   "execution_count": null,
   "id": "bab5cd29",
   "metadata": {},
   "outputs": [],
   "source": [
    "model3_odds = pd.DataFrame(np.exp(model3.params), columns= ['OR'])\n",
    "model3_odds['z-value']= model3.pvalues\n",
    "model3_odds[['2.5%', '97.5%']] = np.exp(model3.conf_int())\n",
    "\n",
    "model3_odds"
   ]
  },
  {
   "cell_type": "code",
   "execution_count": null,
   "id": "fde3f703",
   "metadata": {},
   "outputs": [],
   "source": [
    "model4_odds = pd.DataFrame(np.exp(model4.params), columns= ['OR'])\n",
    "model4_odds['z-value']= model4.pvalues\n",
    "model4_odds[['2.5%', '97.5%']] = np.exp(model4.conf_int())\n",
    "\n",
    "model4_odds"
   ]
  },
  {
   "cell_type": "code",
   "execution_count": null,
   "id": "2034e00c",
   "metadata": {},
   "outputs": [],
   "source": []
  },
  {
   "cell_type": "markdown",
   "id": "798ee28e",
   "metadata": {},
   "source": [
    "Interpretaion"
   ]
  },
  {
   "cell_type": "code",
   "execution_count": null,
   "id": "9b7f57fe",
   "metadata": {},
   "outputs": [],
   "source": [
    "#The p values for all independent variables are significant (p < 0.05) \n",
    "#and suggests that these variables are highly associated with the outcome."
   ]
  },
  {
   "cell_type": "code",
   "execution_count": null,
   "id": "741da5d0",
   "metadata": {},
   "outputs": [],
   "source": [
    "#The odds of dying decreases by a factor of 0.8 for every unit increase of a child's age in months;\n",
    "#The odds of dying also decreases by a factor of 0.75 for every unit increase in the days admitted in hospital.\n",
    "#likewise, the odds of dying increases by a factor of 6.9 if a child is HIV exposed, and 4.9 if a child is malnourished.\n",
    "\n"
   ]
  },
  {
   "cell_type": "markdown",
   "id": "5e2824cd",
   "metadata": {},
   "source": [
    "Prediction of test dataset using fitted model"
   ]
  },
  {
   "cell_type": "code",
   "execution_count": null,
   "id": "d7b5017e",
   "metadata": {},
   "outputs": [],
   "source": [
    "# get the predicted values for the test dataset [0, 1]\n",
    "pred = model.predict(exog=df[['AGEINMONTHS','DAYSADMITTED','HIV_exposed','Malnutrition']])\n",
    "pred.head()\n",
    "# output"
   ]
  },
  {
   "cell_type": "code",
   "execution_count": null,
   "id": "d0701f8a",
   "metadata": {},
   "outputs": [],
   "source": [
    "pred2 = model2.predict(exog=df[['HIV_exposed','Malnutrition']])\n",
    "pred2.head()"
   ]
  },
  {
   "cell_type": "code",
   "execution_count": null,
   "id": "7366b83e",
   "metadata": {},
   "outputs": [],
   "source": [
    "accuracy_score(y_true=list(df['outcome']), y_pred=list(round(pred2)))"
   ]
  },
  {
   "cell_type": "code",
   "execution_count": null,
   "id": "6902294c",
   "metadata": {},
   "outputs": [],
   "source": [
    "# predicted values > 0.5 classified as dischsrged (1) and <= 0.05 as dead (0)\n",
    "round(pred)"
   ]
  },
  {
   "cell_type": "code",
   "execution_count": null,
   "id": "d548553f",
   "metadata": {},
   "outputs": [],
   "source": [
    "# get confusion matrix and accuracy of the prediction\n",
    "# note: there may be slightly different results if you use sklearn LogisticRegression method\n",
    "from sklearn.metrics import accuracy_score, confusion_matrix\n",
    "confusion_matrix(y_true=list(df['outcome']), y_pred=list(round(pred)))\n",
    "\n"
   ]
  },
  {
   "cell_type": "markdown",
   "id": "f3fd86ea",
   "metadata": {},
   "source": [
    "In the confusion matrix, diagonal numbers (124 and 5) indicates the correct predictions [true negatives (TN) and true positives(TP)] for the discharged (0) and dead (1) outcomes for pneumonia.\n",
    "The other numbers (1 and 11) indicates incorrect predictions [false positives (FP) and false negatives (FN)] respectively"
   ]
  },
  {
   "cell_type": "code",
   "execution_count": null,
   "id": "4db43cf7",
   "metadata": {},
   "outputs": [],
   "source": [
    "# fitted model accuracy\n",
    "accuracy_score(y_true=list(df['outcome']), y_pred=list(round(pred)))\n",
    "# output"
   ]
  },
  {
   "cell_type": "markdown",
   "id": "f9eb1eb5",
   "metadata": {},
   "source": [
    "The above model is 91% accurate in its prediction of death via pneumonia."
   ]
  },
  {
   "cell_type": "code",
   "execution_count": null,
   "id": "29a1cefc",
   "metadata": {},
   "outputs": [],
   "source": [
    "from sklearn.metrics import roc_curve, auc, roc_auc_score\n",
    "from bioinfokit.visuz import stat\n",
    "\n",
    "fpr, tpr, thresholds = roc_curve(y_true=list(df['outcome']), y_score=list(pred))\n",
    "auc = roc_auc_score(y_true=list(df['outcome']), y_score=list(pred))\n",
    "# plot ROC\n",
    "stat.roc(fpr=fpr, tpr=tpr, auc=auc, shade_auc=True, per_class=True, legendpos='upper center', legendanchor=(0.5, 1.08), legendcols=3)"
   ]
  },
  {
   "cell_type": "code",
   "execution_count": null,
   "id": "a859a9d3",
   "metadata": {},
   "outputs": [],
   "source": [
    "import pandas as pd\n",
    "import numpy as np\n",
    "from sklearn.model_selection import train_test_split\n",
    "from sklearn.linear_model import LogisticRegression\n",
    "from sklearn import metrics\n",
    "#define the predictor variables and the response variable\n",
    "X = df[['AGEINMONTHS','DAYSADMITTED','HIV_exposed','Malnutrition']]\n",
    "y = df['outcome']\n",
    "\n",
    "#split the dataset into training (70%) and testing (30%) sets\n",
    "X_train,X_test,y_train,y_test = train_test_split(X,y,test_size=0.3,random_state=0) \n",
    "\n",
    "#instantiate the model\n",
    "model = LogisticRegression()\n",
    "\n",
    "#fit the model using the training data\n",
    "model.fit(X_train,y_train)"
   ]
  },
  {
   "cell_type": "code",
   "execution_count": null,
   "id": "5fbeda2a",
   "metadata": {},
   "outputs": [],
   "source": [
    "#use model to predict probability that given y value is 1\n",
    "y_pred_proba = model.predict_proba(X_test)[::,1]\n",
    "\n",
    "#calculate AUC of model\n",
    "auc = metrics.roc_auc_score(y_test, y_pred_proba)\n",
    "\n",
    "#print AUC score\n",
    "print(auc)\n",
    "\n"
   ]
  },
  {
   "cell_type": "code",
   "execution_count": null,
   "id": "9d2e42cd",
   "metadata": {},
   "outputs": [],
   "source": [
    "print(model.intercept_, model.coef_, model.score(X_train,y_train))\n"
   ]
  },
  {
   "cell_type": "code",
   "execution_count": null,
   "id": "b8ec209e",
   "metadata": {},
   "outputs": [],
   "source": [
    "from sklearn import preprocessing\n",
    "import matplotlib.pyplot as plt \n",
    "plt.rc(\"font\", size=14)\n",
    "from sklearn.linear_model import LogisticRegression\n",
    "from sklearn.model_selection import train_test_split\n",
    "import seaborn as sns\n",
    "sns.set(style=\"white\")\n",
    "sns.set(style=\"whitegrid\", color_codes=True)\n",
    "from sklearn.metrics import roc_auc_score\n",
    "from sklearn.metrics import roc_curve\n",
    "logit_roc_auc = roc_auc_score(y_test, model.predict(X_test))\n",
    "fpr, tpr, thresholds = roc_curve(y_test, model.predict_proba(X_test)[:,1])\n",
    "plt.figure()\n",
    "plt.plot(fpr, tpr, label='Logistic Regression (area = %0.2f)' % logit_roc_auc)\n",
    "plt.plot([0, 1], [0, 1],'r--')\n",
    "plt.xlim([0.0, 1.0])\n",
    "plt.ylim([0.0, 1.05])\n",
    "plt.xlabel('False Positive Rate')\n",
    "plt.ylabel('True Positive Rate')\n",
    "plt.title('Receiver operating characteristic')\n",
    "plt.legend(loc=\"lower right\")\n",
    "plt.savefig('Log_ROC')\n",
    "plt.show()"
   ]
  },
  {
   "cell_type": "code",
   "execution_count": null,
   "id": "ca7daa52",
   "metadata": {},
   "outputs": [],
   "source": []
  },
  {
   "cell_type": "code",
   "execution_count": null,
   "id": "42a92ab1",
   "metadata": {},
   "outputs": [],
   "source": []
  }
 ],
 "metadata": {
  "kernelspec": {
   "display_name": "Python 3",
   "language": "python",
   "name": "python3"
  },
  "language_info": {
   "codemirror_mode": {
    "name": "ipython",
    "version": 3
   },
   "file_extension": ".py",
   "mimetype": "text/x-python",
   "name": "python",
   "nbconvert_exporter": "python",
   "pygments_lexer": "ipython3",
   "version": "3.9.11"
  }
 },
 "nbformat": 4,
 "nbformat_minor": 5
}
