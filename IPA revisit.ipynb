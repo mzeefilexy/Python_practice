{
 "cells": [
  {
   "cell_type": "code",
   "execution_count": 156,
   "id": "3c206384",
   "metadata": {},
   "outputs": [],
   "source": [
    "import pandas as pd\n",
    "import numpy as np\n",
    "import seaborn as sns\n",
    "import researchpy as rp\n",
    "import scipy.stats as stats"
   ]
  },
  {
   "cell_type": "code",
   "execution_count": 157,
   "id": "0f4fb8f8",
   "metadata": {},
   "outputs": [],
   "source": [
    "main=pd.read_stata(r'C:\\Users\\user\\Desktop\\IPA Stata Test for Hiring Candidates (1)\\IPA Stata Test for Hiring Candidates\\Part 1\\Main Dataset.dta')\n",
    "newvars=pd.read_csv(r'C:\\Users\\user\\Desktop\\IPA Stata Test for Hiring Candidates (1)\\IPA Stata Test for Hiring Candidates\\Part 1\\New Variables.csv')\n",
    "newobs=pd.read_stata(r'C:\\Users\\user\\Desktop\\IPA Stata Test for Hiring Candidates (1)\\IPA Stata Test for Hiring Candidates\\Part 1\\New Observations.dta')"
   ]
  },
  {
   "cell_type": "code",
   "execution_count": 158,
   "id": "efc4f490",
   "metadata": {},
   "outputs": [
    {
     "data": {
      "text/plain": [
       "(999, 64)"
      ]
     },
     "execution_count": 158,
     "metadata": {},
     "output_type": "execute_result"
    }
   ],
   "source": [
    "\n",
    "main.shape"
   ]
  },
  {
   "cell_type": "code",
   "execution_count": 159,
   "id": "2fad49d7",
   "metadata": {},
   "outputs": [
    {
     "data": {
      "text/plain": [
       "(2, 61)"
      ]
     },
     "execution_count": 159,
     "metadata": {},
     "output_type": "execute_result"
    }
   ],
   "source": [
    "newobs.shape"
   ]
  },
  {
   "cell_type": "code",
   "execution_count": 160,
   "id": "c2046bab",
   "metadata": {},
   "outputs": [
    {
     "data": {
      "text/html": [
       "<div>\n",
       "<style scoped>\n",
       "    .dataframe tbody tr th:only-of-type {\n",
       "        vertical-align: middle;\n",
       "    }\n",
       "\n",
       "    .dataframe tbody tr th {\n",
       "        vertical-align: top;\n",
       "    }\n",
       "\n",
       "    .dataframe thead th {\n",
       "        text-align: right;\n",
       "    }\n",
       "</style>\n",
       "<table border=\"1\" class=\"dataframe\">\n",
       "  <thead>\n",
       "    <tr style=\"text-align: right;\">\n",
       "      <th></th>\n",
       "      <th>uniqueid</th>\n",
       "      <th>hhid</th>\n",
       "      <th>surveyid</th>\n",
       "      <th>surveyor</th>\n",
       "      <th>surveydate</th>\n",
       "      <th>surveytime</th>\n",
       "      <th>survey_complete</th>\n",
       "      <th>superpresent</th>\n",
       "      <th>scrutinizedyn</th>\n",
       "      <th>backcheckedyn</th>\n",
       "      <th>...</th>\n",
       "      <th>trespassingnum</th>\n",
       "      <th>robberyyn</th>\n",
       "      <th>robberynum</th>\n",
       "      <th>robberyvictim_1</th>\n",
       "      <th>robberyvictim_2</th>\n",
       "      <th>theftyn</th>\n",
       "      <th>theftnum</th>\n",
       "      <th>theftvictim_1</th>\n",
       "      <th>theftvictim_2</th>\n",
       "      <th>thanavisityn</th>\n",
       "    </tr>\n",
       "  </thead>\n",
       "  <tbody>\n",
       "    <tr>\n",
       "      <th>0</th>\n",
       "      <td>1000.0</td>\n",
       "      <td>2025087</td>\n",
       "      <td>972</td>\n",
       "      <td>Mary</td>\n",
       "      <td>08232013</td>\n",
       "      <td>6432.0</td>\n",
       "      <td>Yes</td>\n",
       "      <td>No</td>\n",
       "      <td>Yes</td>\n",
       "      <td>Yes</td>\n",
       "      <td>...</td>\n",
       "      <td>NaN</td>\n",
       "      <td>2</td>\n",
       "      <td>NaN</td>\n",
       "      <td>NaN</td>\n",
       "      <td>NaN</td>\n",
       "      <td>No</td>\n",
       "      <td>NaN</td>\n",
       "      <td>NaN</td>\n",
       "      <td>NaN</td>\n",
       "      <td>No</td>\n",
       "    </tr>\n",
       "    <tr>\n",
       "      <th>1</th>\n",
       "      <td>1001.0</td>\n",
       "      <td>2025097</td>\n",
       "      <td>969</td>\n",
       "      <td>Mary</td>\n",
       "      <td>11162014</td>\n",
       "      <td>8474.0</td>\n",
       "      <td>Yes</td>\n",
       "      <td>No</td>\n",
       "      <td>Yes</td>\n",
       "      <td>No</td>\n",
       "      <td>...</td>\n",
       "      <td>NaN</td>\n",
       "      <td>2</td>\n",
       "      <td>NaN</td>\n",
       "      <td>NaN</td>\n",
       "      <td>NaN</td>\n",
       "      <td>No</td>\n",
       "      <td>NaN</td>\n",
       "      <td>NaN</td>\n",
       "      <td>NaN</td>\n",
       "      <td>No</td>\n",
       "    </tr>\n",
       "  </tbody>\n",
       "</table>\n",
       "<p>2 rows × 61 columns</p>\n",
       "</div>"
      ],
      "text/plain": [
       "   uniqueid     hhid  surveyid surveyor surveydate  surveytime  \\\n",
       "0    1000.0  2025087       972     Mary   08232013      6432.0   \n",
       "1    1001.0  2025097       969     Mary   11162014      8474.0   \n",
       "\n",
       "  survey_complete superpresent scrutinizedyn backcheckedyn  ...  \\\n",
       "0             Yes           No           Yes           Yes  ...   \n",
       "1             Yes           No           Yes            No  ...   \n",
       "\n",
       "  trespassingnum  robberyyn robberynum  robberyvictim_1  robberyvictim_2  \\\n",
       "0            NaN          2        NaN              NaN              NaN   \n",
       "1            NaN          2        NaN              NaN              NaN   \n",
       "\n",
       "   theftyn  theftnum  theftvictim_1 theftvictim_2 thanavisityn  \n",
       "0       No       NaN            NaN           NaN           No  \n",
       "1       No       NaN            NaN           NaN           No  \n",
       "\n",
       "[2 rows x 61 columns]"
      ]
     },
     "execution_count": 160,
     "metadata": {},
     "output_type": "execute_result"
    }
   ],
   "source": [
    "newobs.head()"
   ]
  },
  {
   "cell_type": "code",
   "execution_count": 161,
   "id": "2629f270",
   "metadata": {},
   "outputs": [
    {
     "data": {
      "text/plain": [
       "(949, 7)"
      ]
     },
     "execution_count": 161,
     "metadata": {},
     "output_type": "execute_result"
    }
   ],
   "source": [
    "newvars.shape"
   ]
  },
  {
   "cell_type": "code",
   "execution_count": 162,
   "id": "c6369cf8",
   "metadata": {},
   "outputs": [
    {
     "data": {
      "text/html": [
       "<div>\n",
       "<style scoped>\n",
       "    .dataframe tbody tr th:only-of-type {\n",
       "        vertical-align: middle;\n",
       "    }\n",
       "\n",
       "    .dataframe tbody tr th {\n",
       "        vertical-align: top;\n",
       "    }\n",
       "\n",
       "    .dataframe thead th {\n",
       "        text-align: right;\n",
       "    }\n",
       "</style>\n",
       "<table border=\"1\" class=\"dataframe\">\n",
       "  <thead>\n",
       "    <tr style=\"text-align: right;\">\n",
       "      <th></th>\n",
       "      <th>uniqueid</th>\n",
       "      <th>surveytime2</th>\n",
       "      <th>thanavisitreason_other2</th>\n",
       "      <th>exit</th>\n",
       "      <th>base_age</th>\n",
       "      <th>base_income</th>\n",
       "      <th>base_educ</th>\n",
       "    </tr>\n",
       "  </thead>\n",
       "  <tbody>\n",
       "    <tr>\n",
       "      <th>0</th>\n",
       "      <td>1</td>\n",
       "      <td>105.133330</td>\n",
       "      <td>NaN</td>\n",
       "      <td>1</td>\n",
       "      <td>44.0</td>\n",
       "      <td>1609</td>\n",
       "      <td>None or anganwadi</td>\n",
       "    </tr>\n",
       "    <tr>\n",
       "      <th>1</th>\n",
       "      <td>2</td>\n",
       "      <td>121.583340</td>\n",
       "      <td>NaN</td>\n",
       "      <td>1</td>\n",
       "      <td>74.0</td>\n",
       "      <td>2826</td>\n",
       "      <td>None or anganwadi</td>\n",
       "    </tr>\n",
       "    <tr>\n",
       "      <th>2</th>\n",
       "      <td>3</td>\n",
       "      <td>105.650000</td>\n",
       "      <td>NaN</td>\n",
       "      <td>1</td>\n",
       "      <td>1975.0</td>\n",
       "      <td>2426</td>\n",
       "      <td>7</td>\n",
       "    </tr>\n",
       "    <tr>\n",
       "      <th>3</th>\n",
       "      <td>5</td>\n",
       "      <td>125.850000</td>\n",
       "      <td>NaN</td>\n",
       "      <td>1</td>\n",
       "      <td>1983.0</td>\n",
       "      <td>1652</td>\n",
       "      <td>7</td>\n",
       "    </tr>\n",
       "    <tr>\n",
       "      <th>4</th>\n",
       "      <td>6</td>\n",
       "      <td>93.933334</td>\n",
       "      <td>NaN</td>\n",
       "      <td>1</td>\n",
       "      <td>1971.0</td>\n",
       "      <td>2673</td>\n",
       "      <td>None or anganwadi</td>\n",
       "    </tr>\n",
       "  </tbody>\n",
       "</table>\n",
       "</div>"
      ],
      "text/plain": [
       "   uniqueid  surveytime2  thanavisitreason_other2  exit  base_age  \\\n",
       "0         1   105.133330                      NaN     1      44.0   \n",
       "1         2   121.583340                      NaN     1      74.0   \n",
       "2         3   105.650000                      NaN     1    1975.0   \n",
       "3         5   125.850000                      NaN     1    1983.0   \n",
       "4         6    93.933334                      NaN     1    1971.0   \n",
       "\n",
       "   base_income          base_educ  \n",
       "0         1609  None or anganwadi  \n",
       "1         2826  None or anganwadi  \n",
       "2         2426                  7  \n",
       "3         1652                  7  \n",
       "4         2673  None or anganwadi  "
      ]
     },
     "execution_count": 162,
     "metadata": {},
     "output_type": "execute_result"
    }
   ],
   "source": [
    "newvars.head()"
   ]
  },
  {
   "cell_type": "code",
   "execution_count": 163,
   "id": "06a856c5",
   "metadata": {},
   "outputs": [],
   "source": [
    "left=main\n",
    "right=newvars\n",
    "main2=pd.merge(left,right,on='uniqueid')"
   ]
  },
  {
   "cell_type": "code",
   "execution_count": 164,
   "id": "2fd863c3",
   "metadata": {},
   "outputs": [
    {
     "data": {
      "text/plain": [
       "(949, 70)"
      ]
     },
     "execution_count": 164,
     "metadata": {},
     "output_type": "execute_result"
    }
   ],
   "source": [
    "main2.shape"
   ]
  },
  {
   "cell_type": "code",
   "execution_count": 165,
   "id": "98db1539",
   "metadata": {},
   "outputs": [
    {
     "data": {
      "text/html": [
       "<div>\n",
       "<style scoped>\n",
       "    .dataframe tbody tr th:only-of-type {\n",
       "        vertical-align: middle;\n",
       "    }\n",
       "\n",
       "    .dataframe tbody tr th {\n",
       "        vertical-align: top;\n",
       "    }\n",
       "\n",
       "    .dataframe thead th {\n",
       "        text-align: right;\n",
       "    }\n",
       "</style>\n",
       "<table border=\"1\" class=\"dataframe\">\n",
       "  <thead>\n",
       "    <tr style=\"text-align: right;\">\n",
       "      <th></th>\n",
       "      <th>uniqueid</th>\n",
       "      <th>hhid</th>\n",
       "      <th>surveyid</th>\n",
       "      <th>surveyor</th>\n",
       "      <th>surveydate</th>\n",
       "      <th>surveytime</th>\n",
       "      <th>survey_complete</th>\n",
       "      <th>superpresent</th>\n",
       "      <th>scrutinizedyn</th>\n",
       "      <th>backcheckedyn</th>\n",
       "      <th>...</th>\n",
       "      <th>theftvictim_2</th>\n",
       "      <th>thanavisityn</th>\n",
       "      <th>thanavisitreason</th>\n",
       "      <th>thanavisitreason_other</th>\n",
       "      <th>surveytime2</th>\n",
       "      <th>thanavisitreason_other2</th>\n",
       "      <th>exit</th>\n",
       "      <th>base_age</th>\n",
       "      <th>base_income</th>\n",
       "      <th>base_educ</th>\n",
       "    </tr>\n",
       "  </thead>\n",
       "  <tbody>\n",
       "    <tr>\n",
       "      <th>0</th>\n",
       "      <td>1.0</td>\n",
       "      <td>1101008</td>\n",
       "      <td>122</td>\n",
       "      <td>Benjamin</td>\n",
       "      <td>09242014</td>\n",
       "      <td>6308.0</td>\n",
       "      <td>Yes</td>\n",
       "      <td>No</td>\n",
       "      <td>Yes</td>\n",
       "      <td>No</td>\n",
       "      <td>...</td>\n",
       "      <td>NaN</td>\n",
       "      <td>Yes</td>\n",
       "      <td>Other</td>\n",
       "      <td>BATWARE KE LIYE</td>\n",
       "      <td>105.133330</td>\n",
       "      <td>NaN</td>\n",
       "      <td>1</td>\n",
       "      <td>44.0</td>\n",
       "      <td>1609</td>\n",
       "      <td>None or anganwadi</td>\n",
       "    </tr>\n",
       "    <tr>\n",
       "      <th>1</th>\n",
       "      <td>2.0</td>\n",
       "      <td>1101015</td>\n",
       "      <td>101</td>\n",
       "      <td>Peter</td>\n",
       "      <td>09132013</td>\n",
       "      <td>7295.0</td>\n",
       "      <td>No</td>\n",
       "      <td>No</td>\n",
       "      <td>Yes</td>\n",
       "      <td>No</td>\n",
       "      <td>...</td>\n",
       "      <td>NaN</td>\n",
       "      <td>No</td>\n",
       "      <td></td>\n",
       "      <td></td>\n",
       "      <td>121.583340</td>\n",
       "      <td>NaN</td>\n",
       "      <td>1</td>\n",
       "      <td>74.0</td>\n",
       "      <td>2826</td>\n",
       "      <td>None or anganwadi</td>\n",
       "    </tr>\n",
       "    <tr>\n",
       "      <th>2</th>\n",
       "      <td>3.0</td>\n",
       "      <td>1101019</td>\n",
       "      <td>115</td>\n",
       "      <td>Peter</td>\n",
       "      <td>12142014</td>\n",
       "      <td>6339.0</td>\n",
       "      <td>Yes</td>\n",
       "      <td>No</td>\n",
       "      <td>Yes</td>\n",
       "      <td>No</td>\n",
       "      <td>...</td>\n",
       "      <td>NaN</td>\n",
       "      <td>No</td>\n",
       "      <td></td>\n",
       "      <td></td>\n",
       "      <td>105.650000</td>\n",
       "      <td>NaN</td>\n",
       "      <td>1</td>\n",
       "      <td>1975.0</td>\n",
       "      <td>2426</td>\n",
       "      <td>7</td>\n",
       "    </tr>\n",
       "    <tr>\n",
       "      <th>3</th>\n",
       "      <td>5.0</td>\n",
       "      <td>1101040</td>\n",
       "      <td>88</td>\n",
       "      <td>Anna</td>\n",
       "      <td>09242014</td>\n",
       "      <td>7551.0</td>\n",
       "      <td>Yes</td>\n",
       "      <td>No</td>\n",
       "      <td>Yes</td>\n",
       "      <td>No</td>\n",
       "      <td>...</td>\n",
       "      <td>NaN</td>\n",
       "      <td>No</td>\n",
       "      <td></td>\n",
       "      <td></td>\n",
       "      <td>125.850000</td>\n",
       "      <td>NaN</td>\n",
       "      <td>1</td>\n",
       "      <td>1983.0</td>\n",
       "      <td>1652</td>\n",
       "      <td>7</td>\n",
       "    </tr>\n",
       "    <tr>\n",
       "      <th>4</th>\n",
       "      <td>6.0</td>\n",
       "      <td>1101044</td>\n",
       "      <td>107</td>\n",
       "      <td>Anna</td>\n",
       "      <td>10202014</td>\n",
       "      <td>5636.0</td>\n",
       "      <td>Yes</td>\n",
       "      <td>No</td>\n",
       "      <td>Yes</td>\n",
       "      <td>No</td>\n",
       "      <td>...</td>\n",
       "      <td>NaN</td>\n",
       "      <td>No</td>\n",
       "      <td></td>\n",
       "      <td></td>\n",
       "      <td>93.933334</td>\n",
       "      <td>NaN</td>\n",
       "      <td>1</td>\n",
       "      <td>1971.0</td>\n",
       "      <td>2673</td>\n",
       "      <td>None or anganwadi</td>\n",
       "    </tr>\n",
       "    <tr>\n",
       "      <th>...</th>\n",
       "      <td>...</td>\n",
       "      <td>...</td>\n",
       "      <td>...</td>\n",
       "      <td>...</td>\n",
       "      <td>...</td>\n",
       "      <td>...</td>\n",
       "      <td>...</td>\n",
       "      <td>...</td>\n",
       "      <td>...</td>\n",
       "      <td>...</td>\n",
       "      <td>...</td>\n",
       "      <td>...</td>\n",
       "      <td>...</td>\n",
       "      <td>...</td>\n",
       "      <td>...</td>\n",
       "      <td>...</td>\n",
       "      <td>...</td>\n",
       "      <td>...</td>\n",
       "      <td>...</td>\n",
       "      <td>...</td>\n",
       "      <td>...</td>\n",
       "    </tr>\n",
       "    <tr>\n",
       "      <th>944</th>\n",
       "      <td>995.0</td>\n",
       "      <td>2024050</td>\n",
       "      <td>894</td>\n",
       "      <td>Anna</td>\n",
       "      <td>11302014</td>\n",
       "      <td>7673.0</td>\n",
       "      <td>Yes</td>\n",
       "      <td>No</td>\n",
       "      <td>Yes</td>\n",
       "      <td>No</td>\n",
       "      <td>...</td>\n",
       "      <td>NaN</td>\n",
       "      <td>No</td>\n",
       "      <td></td>\n",
       "      <td></td>\n",
       "      <td>127.883330</td>\n",
       "      <td>NaN</td>\n",
       "      <td>1</td>\n",
       "      <td>1981.0</td>\n",
       "      <td>1557</td>\n",
       "      <td>10</td>\n",
       "    </tr>\n",
       "    <tr>\n",
       "      <th>945</th>\n",
       "      <td>996.0</td>\n",
       "      <td>2024053</td>\n",
       "      <td>944</td>\n",
       "      <td>Anna</td>\n",
       "      <td>11162014</td>\n",
       "      <td>7358.0</td>\n",
       "      <td>Yes</td>\n",
       "      <td>No</td>\n",
       "      <td>Yes</td>\n",
       "      <td>No</td>\n",
       "      <td>...</td>\n",
       "      <td>NaN</td>\n",
       "      <td>No</td>\n",
       "      <td></td>\n",
       "      <td></td>\n",
       "      <td>122.633330</td>\n",
       "      <td>NaN</td>\n",
       "      <td>1</td>\n",
       "      <td>41.0</td>\n",
       "      <td>2927</td>\n",
       "      <td>None or anganwadi</td>\n",
       "    </tr>\n",
       "    <tr>\n",
       "      <th>946</th>\n",
       "      <td>997.0</td>\n",
       "      <td>2025012</td>\n",
       "      <td>876</td>\n",
       "      <td>Sam</td>\n",
       "      <td>09302014</td>\n",
       "      <td>6362.0</td>\n",
       "      <td>Yes</td>\n",
       "      <td>No</td>\n",
       "      <td>Yes</td>\n",
       "      <td>Yes</td>\n",
       "      <td>...</td>\n",
       "      <td>NaN</td>\n",
       "      <td>No</td>\n",
       "      <td></td>\n",
       "      <td></td>\n",
       "      <td>106.033330</td>\n",
       "      <td>NaN</td>\n",
       "      <td>1</td>\n",
       "      <td>64.0</td>\n",
       "      <td>4065</td>\n",
       "      <td>None or anganwadi</td>\n",
       "    </tr>\n",
       "    <tr>\n",
       "      <th>947</th>\n",
       "      <td>998.0</td>\n",
       "      <td>2025026</td>\n",
       "      <td>878</td>\n",
       "      <td>David</td>\n",
       "      <td>08152014</td>\n",
       "      <td>7845.0</td>\n",
       "      <td>No</td>\n",
       "      <td>No</td>\n",
       "      <td>Yes</td>\n",
       "      <td>Yes</td>\n",
       "      <td>...</td>\n",
       "      <td>NaN</td>\n",
       "      <td>No</td>\n",
       "      <td></td>\n",
       "      <td></td>\n",
       "      <td>130.750000</td>\n",
       "      <td>NaN</td>\n",
       "      <td>1</td>\n",
       "      <td>1977.0</td>\n",
       "      <td>3253</td>\n",
       "      <td>None or anganwadi</td>\n",
       "    </tr>\n",
       "    <tr>\n",
       "      <th>948</th>\n",
       "      <td>999.0</td>\n",
       "      <td>2025071</td>\n",
       "      <td>979</td>\n",
       "      <td>David</td>\n",
       "      <td>12132013</td>\n",
       "      <td>6587.0</td>\n",
       "      <td>Yes</td>\n",
       "      <td>No</td>\n",
       "      <td>Yes</td>\n",
       "      <td>No</td>\n",
       "      <td>...</td>\n",
       "      <td>NaN</td>\n",
       "      <td>No</td>\n",
       "      <td></td>\n",
       "      <td></td>\n",
       "      <td>109.783330</td>\n",
       "      <td>NaN</td>\n",
       "      <td>1</td>\n",
       "      <td>35.0</td>\n",
       "      <td>2503</td>\n",
       "      <td>None or anganwadi</td>\n",
       "    </tr>\n",
       "  </tbody>\n",
       "</table>\n",
       "<p>949 rows × 70 columns</p>\n",
       "</div>"
      ],
      "text/plain": [
       "     uniqueid     hhid  surveyid  surveyor surveydate  surveytime  \\\n",
       "0         1.0  1101008       122  Benjamin   09242014      6308.0   \n",
       "1         2.0  1101015       101     Peter   09132013      7295.0   \n",
       "2         3.0  1101019       115     Peter   12142014      6339.0   \n",
       "3         5.0  1101040        88      Anna   09242014      7551.0   \n",
       "4         6.0  1101044       107      Anna   10202014      5636.0   \n",
       "..        ...      ...       ...       ...        ...         ...   \n",
       "944     995.0  2024050       894      Anna   11302014      7673.0   \n",
       "945     996.0  2024053       944      Anna   11162014      7358.0   \n",
       "946     997.0  2025012       876       Sam   09302014      6362.0   \n",
       "947     998.0  2025026       878     David   08152014      7845.0   \n",
       "948     999.0  2025071       979     David   12132013      6587.0   \n",
       "\n",
       "    survey_complete superpresent scrutinizedyn backcheckedyn  ...  \\\n",
       "0               Yes           No           Yes            No  ...   \n",
       "1                No           No           Yes            No  ...   \n",
       "2               Yes           No           Yes            No  ...   \n",
       "3               Yes           No           Yes            No  ...   \n",
       "4               Yes           No           Yes            No  ...   \n",
       "..              ...          ...           ...           ...  ...   \n",
       "944             Yes           No           Yes            No  ...   \n",
       "945             Yes           No           Yes            No  ...   \n",
       "946             Yes           No           Yes           Yes  ...   \n",
       "947              No           No           Yes           Yes  ...   \n",
       "948             Yes           No           Yes            No  ...   \n",
       "\n",
       "    theftvictim_2  thanavisityn thanavisitreason  thanavisitreason_other  \\\n",
       "0             NaN           Yes            Other         BATWARE KE LIYE   \n",
       "1             NaN            No                                            \n",
       "2             NaN            No                                            \n",
       "3             NaN            No                                            \n",
       "4             NaN            No                                            \n",
       "..            ...           ...              ...                     ...   \n",
       "944           NaN            No                                            \n",
       "945           NaN            No                                            \n",
       "946           NaN            No                                            \n",
       "947           NaN            No                                            \n",
       "948           NaN            No                                            \n",
       "\n",
       "     surveytime2  thanavisitreason_other2  exit  base_age base_income  \\\n",
       "0     105.133330                      NaN     1      44.0        1609   \n",
       "1     121.583340                      NaN     1      74.0        2826   \n",
       "2     105.650000                      NaN     1    1975.0        2426   \n",
       "3     125.850000                      NaN     1    1983.0        1652   \n",
       "4      93.933334                      NaN     1    1971.0        2673   \n",
       "..           ...                      ...   ...       ...         ...   \n",
       "944   127.883330                      NaN     1    1981.0        1557   \n",
       "945   122.633330                      NaN     1      41.0        2927   \n",
       "946   106.033330                      NaN     1      64.0        4065   \n",
       "947   130.750000                      NaN     1    1977.0        3253   \n",
       "948   109.783330                      NaN     1      35.0        2503   \n",
       "\n",
       "             base_educ  \n",
       "0    None or anganwadi  \n",
       "1    None or anganwadi  \n",
       "2                    7  \n",
       "3                    7  \n",
       "4    None or anganwadi  \n",
       "..                 ...  \n",
       "944                 10  \n",
       "945  None or anganwadi  \n",
       "946  None or anganwadi  \n",
       "947  None or anganwadi  \n",
       "948  None or anganwadi  \n",
       "\n",
       "[949 rows x 70 columns]"
      ]
     },
     "execution_count": 165,
     "metadata": {},
     "output_type": "execute_result"
    }
   ],
   "source": [
    "main2"
   ]
  },
  {
   "cell_type": "code",
   "execution_count": 166,
   "id": "e9057e5c",
   "metadata": {},
   "outputs": [
    {
     "data": {
      "text/html": [
       "<div>\n",
       "<style scoped>\n",
       "    .dataframe tbody tr th:only-of-type {\n",
       "        vertical-align: middle;\n",
       "    }\n",
       "\n",
       "    .dataframe tbody tr th {\n",
       "        vertical-align: top;\n",
       "    }\n",
       "\n",
       "    .dataframe thead th {\n",
       "        text-align: right;\n",
       "    }\n",
       "</style>\n",
       "<table border=\"1\" class=\"dataframe\">\n",
       "  <thead>\n",
       "    <tr style=\"text-align: right;\">\n",
       "      <th></th>\n",
       "      <th>uniqueid</th>\n",
       "      <th>hhid</th>\n",
       "      <th>surveyid</th>\n",
       "      <th>surveyor</th>\n",
       "      <th>surveydate</th>\n",
       "      <th>surveytime</th>\n",
       "      <th>survey_complete</th>\n",
       "      <th>superpresent</th>\n",
       "      <th>scrutinizedyn</th>\n",
       "      <th>backcheckedyn</th>\n",
       "      <th>...</th>\n",
       "      <th>theftvictim_2</th>\n",
       "      <th>thanavisityn</th>\n",
       "      <th>thanavisitreason</th>\n",
       "      <th>thanavisitreason_other</th>\n",
       "      <th>surveytime2</th>\n",
       "      <th>thanavisitreason_other2</th>\n",
       "      <th>exit</th>\n",
       "      <th>base_age</th>\n",
       "      <th>base_income</th>\n",
       "      <th>base_educ</th>\n",
       "    </tr>\n",
       "  </thead>\n",
       "  <tbody>\n",
       "    <tr>\n",
       "      <th>0</th>\n",
       "      <td>1.0</td>\n",
       "      <td>1101008</td>\n",
       "      <td>122</td>\n",
       "      <td>Benjamin</td>\n",
       "      <td>09242014</td>\n",
       "      <td>6308.0</td>\n",
       "      <td>Yes</td>\n",
       "      <td>No</td>\n",
       "      <td>Yes</td>\n",
       "      <td>No</td>\n",
       "      <td>...</td>\n",
       "      <td>NaN</td>\n",
       "      <td>Yes</td>\n",
       "      <td>Other</td>\n",
       "      <td>BATWARE KE LIYE</td>\n",
       "      <td>105.133330</td>\n",
       "      <td>NaN</td>\n",
       "      <td>1</td>\n",
       "      <td>44.0</td>\n",
       "      <td>1609</td>\n",
       "      <td>None or anganwadi</td>\n",
       "    </tr>\n",
       "    <tr>\n",
       "      <th>1</th>\n",
       "      <td>2.0</td>\n",
       "      <td>1101015</td>\n",
       "      <td>101</td>\n",
       "      <td>Peter</td>\n",
       "      <td>09132013</td>\n",
       "      <td>7295.0</td>\n",
       "      <td>No</td>\n",
       "      <td>No</td>\n",
       "      <td>Yes</td>\n",
       "      <td>No</td>\n",
       "      <td>...</td>\n",
       "      <td>NaN</td>\n",
       "      <td>No</td>\n",
       "      <td></td>\n",
       "      <td></td>\n",
       "      <td>121.583340</td>\n",
       "      <td>NaN</td>\n",
       "      <td>1</td>\n",
       "      <td>74.0</td>\n",
       "      <td>2826</td>\n",
       "      <td>None or anganwadi</td>\n",
       "    </tr>\n",
       "    <tr>\n",
       "      <th>2</th>\n",
       "      <td>3.0</td>\n",
       "      <td>1101019</td>\n",
       "      <td>115</td>\n",
       "      <td>Peter</td>\n",
       "      <td>12142014</td>\n",
       "      <td>6339.0</td>\n",
       "      <td>Yes</td>\n",
       "      <td>No</td>\n",
       "      <td>Yes</td>\n",
       "      <td>No</td>\n",
       "      <td>...</td>\n",
       "      <td>NaN</td>\n",
       "      <td>No</td>\n",
       "      <td></td>\n",
       "      <td></td>\n",
       "      <td>105.650000</td>\n",
       "      <td>NaN</td>\n",
       "      <td>1</td>\n",
       "      <td>1975.0</td>\n",
       "      <td>2426</td>\n",
       "      <td>7</td>\n",
       "    </tr>\n",
       "    <tr>\n",
       "      <th>3</th>\n",
       "      <td>5.0</td>\n",
       "      <td>1101040</td>\n",
       "      <td>88</td>\n",
       "      <td>Anna</td>\n",
       "      <td>09242014</td>\n",
       "      <td>7551.0</td>\n",
       "      <td>Yes</td>\n",
       "      <td>No</td>\n",
       "      <td>Yes</td>\n",
       "      <td>No</td>\n",
       "      <td>...</td>\n",
       "      <td>NaN</td>\n",
       "      <td>No</td>\n",
       "      <td></td>\n",
       "      <td></td>\n",
       "      <td>125.850000</td>\n",
       "      <td>NaN</td>\n",
       "      <td>1</td>\n",
       "      <td>1983.0</td>\n",
       "      <td>1652</td>\n",
       "      <td>7</td>\n",
       "    </tr>\n",
       "    <tr>\n",
       "      <th>4</th>\n",
       "      <td>6.0</td>\n",
       "      <td>1101044</td>\n",
       "      <td>107</td>\n",
       "      <td>Anna</td>\n",
       "      <td>10202014</td>\n",
       "      <td>5636.0</td>\n",
       "      <td>Yes</td>\n",
       "      <td>No</td>\n",
       "      <td>Yes</td>\n",
       "      <td>No</td>\n",
       "      <td>...</td>\n",
       "      <td>NaN</td>\n",
       "      <td>No</td>\n",
       "      <td></td>\n",
       "      <td></td>\n",
       "      <td>93.933334</td>\n",
       "      <td>NaN</td>\n",
       "      <td>1</td>\n",
       "      <td>1971.0</td>\n",
       "      <td>2673</td>\n",
       "      <td>None or anganwadi</td>\n",
       "    </tr>\n",
       "  </tbody>\n",
       "</table>\n",
       "<p>5 rows × 70 columns</p>\n",
       "</div>"
      ],
      "text/plain": [
       "   uniqueid     hhid  surveyid  surveyor surveydate  surveytime  \\\n",
       "0       1.0  1101008       122  Benjamin   09242014      6308.0   \n",
       "1       2.0  1101015       101     Peter   09132013      7295.0   \n",
       "2       3.0  1101019       115     Peter   12142014      6339.0   \n",
       "3       5.0  1101040        88      Anna   09242014      7551.0   \n",
       "4       6.0  1101044       107      Anna   10202014      5636.0   \n",
       "\n",
       "  survey_complete superpresent scrutinizedyn backcheckedyn  ... theftvictim_2  \\\n",
       "0             Yes           No           Yes            No  ...           NaN   \n",
       "1              No           No           Yes            No  ...           NaN   \n",
       "2             Yes           No           Yes            No  ...           NaN   \n",
       "3             Yes           No           Yes            No  ...           NaN   \n",
       "4             Yes           No           Yes            No  ...           NaN   \n",
       "\n",
       "   thanavisityn thanavisitreason  thanavisitreason_other  surveytime2  \\\n",
       "0           Yes            Other         BATWARE KE LIYE   105.133330   \n",
       "1            No                                            121.583340   \n",
       "2            No                                            105.650000   \n",
       "3            No                                            125.850000   \n",
       "4            No                                             93.933334   \n",
       "\n",
       "   thanavisitreason_other2  exit  base_age base_income          base_educ  \n",
       "0                      NaN     1      44.0        1609  None or anganwadi  \n",
       "1                      NaN     1      74.0        2826  None or anganwadi  \n",
       "2                      NaN     1    1975.0        2426                  7  \n",
       "3                      NaN     1    1983.0        1652                  7  \n",
       "4                      NaN     1    1971.0        2673  None or anganwadi  \n",
       "\n",
       "[5 rows x 70 columns]"
      ]
     },
     "execution_count": 166,
     "metadata": {},
     "output_type": "execute_result"
    }
   ],
   "source": [
    "main2.head()"
   ]
  },
  {
   "cell_type": "code",
   "execution_count": 167,
   "id": "fceb2deb",
   "metadata": {},
   "outputs": [],
   "source": [
    "frames = [main2, newobs]\n",
    "result = pd.concat(frames)"
   ]
  },
  {
   "cell_type": "code",
   "execution_count": 168,
   "id": "9a793271",
   "metadata": {},
   "outputs": [
    {
     "data": {
      "text/plain": [
       "(951, 70)"
      ]
     },
     "execution_count": 168,
     "metadata": {},
     "output_type": "execute_result"
    }
   ],
   "source": [
    "result.shape"
   ]
  },
  {
   "cell_type": "code",
   "execution_count": 169,
   "id": "f253b7ac",
   "metadata": {},
   "outputs": [
    {
     "data": {
      "text/html": [
       "<div>\n",
       "<style scoped>\n",
       "    .dataframe tbody tr th:only-of-type {\n",
       "        vertical-align: middle;\n",
       "    }\n",
       "\n",
       "    .dataframe tbody tr th {\n",
       "        vertical-align: top;\n",
       "    }\n",
       "\n",
       "    .dataframe thead th {\n",
       "        text-align: right;\n",
       "    }\n",
       "</style>\n",
       "<table border=\"1\" class=\"dataframe\">\n",
       "  <thead>\n",
       "    <tr style=\"text-align: right;\">\n",
       "      <th></th>\n",
       "      <th>uniqueid</th>\n",
       "      <th>hhid</th>\n",
       "      <th>surveyid</th>\n",
       "      <th>surveyor</th>\n",
       "      <th>surveydate</th>\n",
       "      <th>surveytime</th>\n",
       "      <th>survey_complete</th>\n",
       "      <th>superpresent</th>\n",
       "      <th>scrutinizedyn</th>\n",
       "      <th>backcheckedyn</th>\n",
       "      <th>...</th>\n",
       "      <th>theftvictim_2</th>\n",
       "      <th>thanavisityn</th>\n",
       "      <th>thanavisitreason</th>\n",
       "      <th>thanavisitreason_other</th>\n",
       "      <th>surveytime2</th>\n",
       "      <th>thanavisitreason_other2</th>\n",
       "      <th>exit</th>\n",
       "      <th>base_age</th>\n",
       "      <th>base_income</th>\n",
       "      <th>base_educ</th>\n",
       "    </tr>\n",
       "  </thead>\n",
       "  <tbody>\n",
       "    <tr>\n",
       "      <th>0</th>\n",
       "      <td>1.0</td>\n",
       "      <td>1101008</td>\n",
       "      <td>122</td>\n",
       "      <td>Benjamin</td>\n",
       "      <td>09242014</td>\n",
       "      <td>6308.0</td>\n",
       "      <td>Yes</td>\n",
       "      <td>No</td>\n",
       "      <td>Yes</td>\n",
       "      <td>No</td>\n",
       "      <td>...</td>\n",
       "      <td>NaN</td>\n",
       "      <td>Yes</td>\n",
       "      <td>Other</td>\n",
       "      <td>BATWARE KE LIYE</td>\n",
       "      <td>105.13333</td>\n",
       "      <td>NaN</td>\n",
       "      <td>1.0</td>\n",
       "      <td>44.0</td>\n",
       "      <td>1609.0</td>\n",
       "      <td>None or anganwadi</td>\n",
       "    </tr>\n",
       "    <tr>\n",
       "      <th>1</th>\n",
       "      <td>2.0</td>\n",
       "      <td>1101015</td>\n",
       "      <td>101</td>\n",
       "      <td>Peter</td>\n",
       "      <td>09132013</td>\n",
       "      <td>7295.0</td>\n",
       "      <td>No</td>\n",
       "      <td>No</td>\n",
       "      <td>Yes</td>\n",
       "      <td>No</td>\n",
       "      <td>...</td>\n",
       "      <td>NaN</td>\n",
       "      <td>No</td>\n",
       "      <td></td>\n",
       "      <td></td>\n",
       "      <td>121.58334</td>\n",
       "      <td>NaN</td>\n",
       "      <td>1.0</td>\n",
       "      <td>74.0</td>\n",
       "      <td>2826.0</td>\n",
       "      <td>None or anganwadi</td>\n",
       "    </tr>\n",
       "    <tr>\n",
       "      <th>2</th>\n",
       "      <td>3.0</td>\n",
       "      <td>1101019</td>\n",
       "      <td>115</td>\n",
       "      <td>Peter</td>\n",
       "      <td>12142014</td>\n",
       "      <td>6339.0</td>\n",
       "      <td>Yes</td>\n",
       "      <td>No</td>\n",
       "      <td>Yes</td>\n",
       "      <td>No</td>\n",
       "      <td>...</td>\n",
       "      <td>NaN</td>\n",
       "      <td>No</td>\n",
       "      <td></td>\n",
       "      <td></td>\n",
       "      <td>105.65000</td>\n",
       "      <td>NaN</td>\n",
       "      <td>1.0</td>\n",
       "      <td>1975.0</td>\n",
       "      <td>2426.0</td>\n",
       "      <td>7</td>\n",
       "    </tr>\n",
       "  </tbody>\n",
       "</table>\n",
       "<p>3 rows × 70 columns</p>\n",
       "</div>"
      ],
      "text/plain": [
       "   uniqueid     hhid  surveyid  surveyor surveydate  surveytime  \\\n",
       "0       1.0  1101008       122  Benjamin   09242014      6308.0   \n",
       "1       2.0  1101015       101     Peter   09132013      7295.0   \n",
       "2       3.0  1101019       115     Peter   12142014      6339.0   \n",
       "\n",
       "  survey_complete superpresent scrutinizedyn backcheckedyn  ... theftvictim_2  \\\n",
       "0             Yes           No           Yes            No  ...           NaN   \n",
       "1              No           No           Yes            No  ...           NaN   \n",
       "2             Yes           No           Yes            No  ...           NaN   \n",
       "\n",
       "   thanavisityn thanavisitreason  thanavisitreason_other  surveytime2  \\\n",
       "0           Yes            Other         BATWARE KE LIYE    105.13333   \n",
       "1            No                                             121.58334   \n",
       "2            No                                             105.65000   \n",
       "\n",
       "   thanavisitreason_other2  exit  base_age base_income          base_educ  \n",
       "0                      NaN   1.0      44.0      1609.0  None or anganwadi  \n",
       "1                      NaN   1.0      74.0      2826.0  None or anganwadi  \n",
       "2                      NaN   1.0    1975.0      2426.0                  7  \n",
       "\n",
       "[3 rows x 70 columns]"
      ]
     },
     "execution_count": 169,
     "metadata": {},
     "output_type": "execute_result"
    }
   ],
   "source": [
    "result.head(3)"
   ]
  },
  {
   "cell_type": "code",
   "execution_count": 170,
   "id": "6ee60392",
   "metadata": {},
   "outputs": [
    {
     "data": {
      "text/plain": [
       "0      Yes\n",
       "1       No\n",
       "2      Yes\n",
       "3      Yes\n",
       "4      Yes\n",
       "      ... \n",
       "946    Yes\n",
       "947     No\n",
       "948    Yes\n",
       "0      Yes\n",
       "1      Yes\n",
       "Name: survey_complete, Length: 951, dtype: object"
      ]
     },
     "execution_count": 170,
     "metadata": {},
     "output_type": "execute_result"
    }
   ],
   "source": [
    "result.survey_complete"
   ]
  },
  {
   "cell_type": "code",
   "execution_count": 171,
   "id": "5cef497c",
   "metadata": {},
   "outputs": [
    {
     "data": {
      "text/plain": [
       "7204.0439453125"
      ]
     },
     "execution_count": 171,
     "metadata": {},
     "output_type": "execute_result"
    }
   ],
   "source": [
    "result.surveytime.mean()"
   ]
  },
  {
   "cell_type": "code",
   "execution_count": 172,
   "id": "739014ef",
   "metadata": {},
   "outputs": [],
   "source": [
    "means = result.groupby('survey_complete')['surveytime'].mean()"
   ]
  },
  {
   "cell_type": "code",
   "execution_count": 173,
   "id": "2b9826a9",
   "metadata": {},
   "outputs": [
    {
     "data": {
      "text/plain": [
       "survey_complete\n",
       "No     7161.757812\n",
       "Yes    7208.737305\n",
       "Name: surveytime, dtype: float32"
      ]
     },
     "execution_count": 173,
     "metadata": {},
     "output_type": "execute_result"
    }
   ],
   "source": [
    "means"
   ]
  },
  {
   "cell_type": "code",
   "execution_count": 174,
   "id": "67fe88fd",
   "metadata": {},
   "outputs": [],
   "source": [
    "medians=result.groupby('survey_complete')['surveytime'].median()"
   ]
  },
  {
   "cell_type": "code",
   "execution_count": 175,
   "id": "ac8c0e7f",
   "metadata": {},
   "outputs": [
    {
     "data": {
      "text/plain": [
       "survey_complete\n",
       "No     7235.0\n",
       "Yes    7169.5\n",
       "Name: surveytime, dtype: float32"
      ]
     },
     "execution_count": 175,
     "metadata": {},
     "output_type": "execute_result"
    }
   ],
   "source": [
    "medians"
   ]
  },
  {
   "cell_type": "code",
   "execution_count": 176,
   "id": "f8a72bc6",
   "metadata": {},
   "outputs": [],
   "source": [
    "means_surveyors= result.groupby('surveyor')['surveytime'].mean()"
   ]
  },
  {
   "cell_type": "markdown",
   "id": "d7d422bb",
   "metadata": {},
   "source": [
    "means_surveyors"
   ]
  },
  {
   "cell_type": "code",
   "execution_count": 177,
   "id": "318eb384",
   "metadata": {},
   "outputs": [
    {
     "data": {
      "text/plain": [
       "surveyor\n",
       "Anna        7242.462402\n",
       "Benjamin    7264.255371\n",
       "Caroline    7087.573730\n",
       "David       7170.980469\n",
       "Grace       7404.245117\n",
       "Jane        6893.125000\n",
       "John        7110.396973\n",
       "Joseph      7117.451660\n",
       "Mary        7269.738281\n",
       "Peter       7122.523926\n",
       "Sam         7189.381348\n",
       "Name: surveytime, dtype: float32"
      ]
     },
     "execution_count": 177,
     "metadata": {},
     "output_type": "execute_result"
    }
   ],
   "source": [
    "means_surveyors"
   ]
  },
  {
   "cell_type": "code",
   "execution_count": 178,
   "id": "5acc5501",
   "metadata": {},
   "outputs": [
    {
     "data": {
      "text/plain": [
       "948"
      ]
     },
     "execution_count": 178,
     "metadata": {},
     "output_type": "execute_result"
    }
   ],
   "source": [
    "result.hhid.nunique()"
   ]
  },
  {
   "cell_type": "code",
   "execution_count": 179,
   "id": "a888d279",
   "metadata": {},
   "outputs": [
    {
     "data": {
      "text/plain": [
       "(951, 70)"
      ]
     },
     "execution_count": 179,
     "metadata": {},
     "output_type": "execute_result"
    }
   ],
   "source": [
    "result.shape"
   ]
  },
  {
   "cell_type": "code",
   "execution_count": 180,
   "id": "e6cbb31a",
   "metadata": {},
   "outputs": [
    {
     "data": {
      "text/html": [
       "<div>\n",
       "<style scoped>\n",
       "    .dataframe tbody tr th:only-of-type {\n",
       "        vertical-align: middle;\n",
       "    }\n",
       "\n",
       "    .dataframe tbody tr th {\n",
       "        vertical-align: top;\n",
       "    }\n",
       "\n",
       "    .dataframe thead th {\n",
       "        text-align: right;\n",
       "    }\n",
       "</style>\n",
       "<table border=\"1\" class=\"dataframe\">\n",
       "  <thead>\n",
       "    <tr style=\"text-align: right;\">\n",
       "      <th></th>\n",
       "      <th>uniqueid</th>\n",
       "      <th>hhid</th>\n",
       "      <th>surveyid</th>\n",
       "      <th>surveyor</th>\n",
       "      <th>surveydate</th>\n",
       "      <th>surveytime</th>\n",
       "      <th>survey_complete</th>\n",
       "      <th>superpresent</th>\n",
       "      <th>scrutinizedyn</th>\n",
       "      <th>backcheckedyn</th>\n",
       "      <th>...</th>\n",
       "      <th>theftvictim_2</th>\n",
       "      <th>thanavisityn</th>\n",
       "      <th>thanavisitreason</th>\n",
       "      <th>thanavisitreason_other</th>\n",
       "      <th>surveytime2</th>\n",
       "      <th>thanavisitreason_other2</th>\n",
       "      <th>exit</th>\n",
       "      <th>base_age</th>\n",
       "      <th>base_income</th>\n",
       "      <th>base_educ</th>\n",
       "    </tr>\n",
       "  </thead>\n",
       "  <tbody>\n",
       "    <tr>\n",
       "      <th>564</th>\n",
       "      <td>598.0</td>\n",
       "      <td>1802011</td>\n",
       "      <td>640</td>\n",
       "      <td>Sam</td>\n",
       "      <td>09172013</td>\n",
       "      <td>7098.0</td>\n",
       "      <td>Yes</td>\n",
       "      <td>No</td>\n",
       "      <td>Yes</td>\n",
       "      <td>Yes</td>\n",
       "      <td>...</td>\n",
       "      <td>NaN</td>\n",
       "      <td>No</td>\n",
       "      <td></td>\n",
       "      <td></td>\n",
       "      <td>118.30000</td>\n",
       "      <td>NaN</td>\n",
       "      <td>1.0</td>\n",
       "      <td>37.0</td>\n",
       "      <td>1508.0</td>\n",
       "      <td>12</td>\n",
       "    </tr>\n",
       "    <tr>\n",
       "      <th>605</th>\n",
       "      <td>642.0</td>\n",
       "      <td>1807077</td>\n",
       "      <td>981</td>\n",
       "      <td>Sam</td>\n",
       "      <td>08222014</td>\n",
       "      <td>6749.0</td>\n",
       "      <td>Yes</td>\n",
       "      <td>No</td>\n",
       "      <td>Yes</td>\n",
       "      <td>No</td>\n",
       "      <td>...</td>\n",
       "      <td>NaN</td>\n",
       "      <td>No</td>\n",
       "      <td></td>\n",
       "      <td></td>\n",
       "      <td>112.48333</td>\n",
       "      <td>NaN</td>\n",
       "      <td>1.0</td>\n",
       "      <td>1977.0</td>\n",
       "      <td>3822.0</td>\n",
       "      <td>None or anganwadi</td>\n",
       "    </tr>\n",
       "    <tr>\n",
       "      <th>643</th>\n",
       "      <td>680.0</td>\n",
       "      <td>1813023</td>\n",
       "      <td>669</td>\n",
       "      <td>Mary</td>\n",
       "      <td>10292013</td>\n",
       "      <td>6584.0</td>\n",
       "      <td>Yes</td>\n",
       "      <td>No</td>\n",
       "      <td>Yes</td>\n",
       "      <td>No</td>\n",
       "      <td>...</td>\n",
       "      <td>NaN</td>\n",
       "      <td>No</td>\n",
       "      <td></td>\n",
       "      <td></td>\n",
       "      <td>109.73333</td>\n",
       "      <td>NaN</td>\n",
       "      <td>1.0</td>\n",
       "      <td>37.0</td>\n",
       "      <td>2547.0</td>\n",
       "      <td>None or anganwadi</td>\n",
       "    </tr>\n",
       "  </tbody>\n",
       "</table>\n",
       "<p>3 rows × 70 columns</p>\n",
       "</div>"
      ],
      "text/plain": [
       "     uniqueid     hhid  surveyid surveyor surveydate  surveytime  \\\n",
       "564     598.0  1802011       640      Sam   09172013      7098.0   \n",
       "605     642.0  1807077       981      Sam   08222014      6749.0   \n",
       "643     680.0  1813023       669     Mary   10292013      6584.0   \n",
       "\n",
       "    survey_complete superpresent scrutinizedyn backcheckedyn  ...  \\\n",
       "564             Yes           No           Yes           Yes  ...   \n",
       "605             Yes           No           Yes            No  ...   \n",
       "643             Yes           No           Yes            No  ...   \n",
       "\n",
       "    theftvictim_2  thanavisityn thanavisitreason  thanavisitreason_other  \\\n",
       "564           NaN            No                                            \n",
       "605           NaN            No                                            \n",
       "643           NaN            No                                            \n",
       "\n",
       "     surveytime2  thanavisitreason_other2  exit  base_age base_income  \\\n",
       "564    118.30000                      NaN   1.0      37.0      1508.0   \n",
       "605    112.48333                      NaN   1.0    1977.0      3822.0   \n",
       "643    109.73333                      NaN   1.0      37.0      2547.0   \n",
       "\n",
       "             base_educ  \n",
       "564                 12  \n",
       "605  None or anganwadi  \n",
       "643  None or anganwadi  \n",
       "\n",
       "[3 rows x 70 columns]"
      ]
     },
     "execution_count": 180,
     "metadata": {},
     "output_type": "execute_result"
    }
   ],
   "source": [
    "# get me duplicates based on the hhid column\n",
    "result[result.hhid.duplicated()]"
   ]
  },
  {
   "cell_type": "code",
   "execution_count": 181,
   "id": "6f074e21",
   "metadata": {},
   "outputs": [],
   "source": [
    "# dropping duplicatesin hhid\n",
    "result2=result.drop_duplicates(subset=['hhid'])"
   ]
  },
  {
   "cell_type": "code",
   "execution_count": 182,
   "id": "d7c6afde",
   "metadata": {},
   "outputs": [
    {
     "data": {
      "text/plain": [
       "(948, 70)"
      ]
     },
     "execution_count": 182,
     "metadata": {},
     "output_type": "execute_result"
    }
   ],
   "source": [
    "result2.shape"
   ]
  },
  {
   "cell_type": "code",
   "execution_count": 183,
   "id": "4b67d0e6",
   "metadata": {},
   "outputs": [
    {
     "data": {
      "text/plain": [
       "(951, 70)"
      ]
     },
     "execution_count": 183,
     "metadata": {},
     "output_type": "execute_result"
    }
   ],
   "source": [
    "result.shape"
   ]
  },
  {
   "cell_type": "code",
   "execution_count": 184,
   "id": "e4981f5d",
   "metadata": {},
   "outputs": [
    {
     "data": {
      "text/html": [
       "<div>\n",
       "<style scoped>\n",
       "    .dataframe tbody tr th:only-of-type {\n",
       "        vertical-align: middle;\n",
       "    }\n",
       "\n",
       "    .dataframe tbody tr th {\n",
       "        vertical-align: top;\n",
       "    }\n",
       "\n",
       "    .dataframe thead th {\n",
       "        text-align: right;\n",
       "    }\n",
       "</style>\n",
       "<table border=\"1\" class=\"dataframe\">\n",
       "  <thead>\n",
       "    <tr style=\"text-align: right;\">\n",
       "      <th></th>\n",
       "      <th>uniqueid</th>\n",
       "      <th>hhid</th>\n",
       "      <th>surveyid</th>\n",
       "      <th>surveyor</th>\n",
       "      <th>surveydate</th>\n",
       "      <th>surveytime</th>\n",
       "      <th>survey_complete</th>\n",
       "      <th>superpresent</th>\n",
       "      <th>scrutinizedyn</th>\n",
       "      <th>backcheckedyn</th>\n",
       "      <th>...</th>\n",
       "      <th>theftvictim_2</th>\n",
       "      <th>thanavisityn</th>\n",
       "      <th>thanavisitreason</th>\n",
       "      <th>thanavisitreason_other</th>\n",
       "      <th>surveytime2</th>\n",
       "      <th>thanavisitreason_other2</th>\n",
       "      <th>exit</th>\n",
       "      <th>base_age</th>\n",
       "      <th>base_income</th>\n",
       "      <th>base_educ</th>\n",
       "    </tr>\n",
       "  </thead>\n",
       "  <tbody>\n",
       "  </tbody>\n",
       "</table>\n",
       "<p>0 rows × 70 columns</p>\n",
       "</div>"
      ],
      "text/plain": [
       "Empty DataFrame\n",
       "Columns: [uniqueid, hhid, surveyid, surveyor, surveydate, surveytime, survey_complete, superpresent, scrutinizedyn, backcheckedyn, sex, age, educ, income, addressdur, addressdur_unit, areadur, areadur_unit, occupation, occupationother, castename, castecode, literateyn, treatment, own4wheeleryn, own4wheelernum, own4wheelervalue, own4wheelertheft, own4wheelertheftnum, theftfromcaryn, theftfromcarnum, own2wheeleryn, own2wheelernum, own2wheelervalue, own2wheelertheft, own2wheelertheftnum, own2wheelertheftvictim_1, own2wheelertheftvictim_2, cycleownyn, cycleownnum, cycleownvalue, cycletheftyn, cycletheftnum, cycletheftvictim_1, cycletheftvictim_2, burglaryyn, burglarynum, attemptedburglaryyn, attemptedburglarynum, vandalismyn, vandalismnum, trespassingyn, trespassingnum, robberyyn, robberynum, robberyvictim_1, robberyvictim_2, theftyn, theftnum, theftvictim_1, theftvictim_2, thanavisityn, thanavisitreason, thanavisitreason_other, surveytime2, thanavisitreason_other2, exit, base_age, base_income, base_educ]\n",
       "Index: []\n",
       "\n",
       "[0 rows x 70 columns]"
      ]
     },
     "execution_count": 184,
     "metadata": {},
     "output_type": "execute_result"
    }
   ],
   "source": [
    "result2[result2.hhid.duplicated()]"
   ]
  },
  {
   "cell_type": "code",
   "execution_count": 185,
   "id": "98bbcd84",
   "metadata": {},
   "outputs": [
    {
     "name": "stderr",
     "output_type": "stream",
     "text": [
      "C:\\Users\\user\\anaconda3\\lib\\site-packages\\pandas\\core\\generic.py:5494: SettingWithCopyWarning: \n",
      "A value is trying to be set on a copy of a slice from a DataFrame.\n",
      "Try using .loc[row_indexer,col_indexer] = value instead\n",
      "\n",
      "See the caveats in the documentation: https://pandas.pydata.org/pandas-docs/stable/user_guide/indexing.html#returning-a-view-versus-a-copy\n",
      "  self[name] = value\n"
     ]
    }
   ],
   "source": [
    "ordinal_label={k:i for i, k in enumerate(result2.surveyor.unique(),0)}\n",
    "result2.surveyor=result2.surveyor.map(ordinal_label)"
   ]
  },
  {
   "cell_type": "code",
   "execution_count": 186,
   "id": "b91284ff",
   "metadata": {},
   "outputs": [
    {
     "data": {
      "text/plain": [
       "11"
      ]
     },
     "execution_count": 186,
     "metadata": {},
     "output_type": "execute_result"
    }
   ],
   "source": [
    "result2.surveyor.nunique()"
   ]
  },
  {
   "cell_type": "code",
   "execution_count": 187,
   "id": "f7386c51",
   "metadata": {},
   "outputs": [
    {
     "data": {
      "text/plain": [
       "array(['No', 'Yes', -997.0, -999.0, nan], dtype=object)"
      ]
     },
     "execution_count": 187,
     "metadata": {},
     "output_type": "execute_result"
    }
   ],
   "source": [
    "result2.burglaryyn.unique()"
   ]
  },
  {
   "cell_type": "code",
   "execution_count": 188,
   "id": "381bee19",
   "metadata": {},
   "outputs": [
    {
     "data": {
      "text/plain": [
       "0      No\n",
       "1      No\n",
       "2      No\n",
       "3      No\n",
       "4      No\n",
       "       ..\n",
       "946    No\n",
       "947    No\n",
       "948    No\n",
       "0      No\n",
       "1      No\n",
       "Name: burglaryyn, Length: 948, dtype: object"
      ]
     },
     "execution_count": 188,
     "metadata": {},
     "output_type": "execute_result"
    }
   ],
   "source": [
    "result2.burglaryyn.str.replace('-999','dont know')"
   ]
  },
  {
   "cell_type": "code",
   "execution_count": 189,
   "id": "7536a856",
   "metadata": {},
   "outputs": [
    {
     "name": "stderr",
     "output_type": "stream",
     "text": [
      "C:\\Users\\user\\anaconda3\\lib\\site-packages\\pandas\\core\\frame.py:4524: SettingWithCopyWarning: \n",
      "A value is trying to be set on a copy of a slice from a DataFrame\n",
      "\n",
      "See the caveats in the documentation: https://pandas.pydata.org/pandas-docs/stable/user_guide/indexing.html#returning-a-view-versus-a-copy\n",
      "  return super().replace(\n"
     ]
    }
   ],
   "source": [
    "result2.replace({-999:'dontknow',-997:'refusal',-777:'blank',-555:'not applicable'},inplace=True)"
   ]
  },
  {
   "cell_type": "code",
   "execution_count": 190,
   "id": "7e655c6a",
   "metadata": {},
   "outputs": [
    {
     "data": {
      "text/plain": [
       "array(['No', 'Yes', 'refusal', 'dontknow', nan], dtype=object)"
      ]
     },
     "execution_count": 190,
     "metadata": {},
     "output_type": "execute_result"
    }
   ],
   "source": [
    "result2.burglaryyn.unique()"
   ]
  },
  {
   "cell_type": "code",
   "execution_count": 191,
   "id": "5359e8d8",
   "metadata": {},
   "outputs": [
    {
     "data": {
      "text/plain": [
       "array(['No', 'dontknow', 'Yes', nan], dtype=object)"
      ]
     },
     "execution_count": 191,
     "metadata": {},
     "output_type": "execute_result"
    }
   ],
   "source": [
    "result2.vandalismyn.unique()"
   ]
  },
  {
   "cell_type": "code",
   "execution_count": 192,
   "id": "913b23a5",
   "metadata": {},
   "outputs": [
    {
     "data": {
      "text/plain": [
       "array(['No', 'Yes', 'refusal', nan], dtype=object)"
      ]
     },
     "execution_count": 192,
     "metadata": {},
     "output_type": "execute_result"
    }
   ],
   "source": [
    "result2.trespassingyn.unique()"
   ]
  },
  {
   "cell_type": "code",
   "execution_count": 193,
   "id": "3f7e0eb2",
   "metadata": {},
   "outputs": [],
   "source": [
    "# part 2 of the IPA testing \n"
   ]
  },
  {
   "cell_type": "code",
   "execution_count": 194,
   "id": "97ed59dc",
   "metadata": {},
   "outputs": [],
   "source": [
    "farmer=pd.read_stata(r'C:\\Users\\user\\Desktop\\IPA Stata Test for Hiring Candidates (1)\\IPA Stata Test for Hiring Candidates\\Part 2\\A\\farmer_ind.dta')\n",
    "income=pd.read_stata(r'C:\\Users\\user\\Desktop\\IPA Stata Test for Hiring Candidates (1)\\IPA Stata Test for Hiring Candidates\\Part 2\\A\\income.dta')\n",
    "mkt_price=pd.read_stata(r'C:\\Users\\user\\Desktop\\IPA Stata Test for Hiring Candidates (1)\\IPA Stata Test for Hiring Candidates\\Part 2\\A\\mkt_prices.dta')\n",
    "vitamins=pd.read_stata(r'C:\\Users\\user\\Desktop\\IPA Stata Test for Hiring Candidates (1)\\IPA Stata Test for Hiring Candidates\\Part 2\\B\\vitamins.dta')"
   ]
  },
  {
   "cell_type": "code",
   "execution_count": 195,
   "id": "5553c324",
   "metadata": {},
   "outputs": [],
   "source": [
    "nan_value = float(\"NaN\")\n",
    "farmer.replace(-99, nan_value, inplace=True)"
   ]
  },
  {
   "cell_type": "code",
   "execution_count": 196,
   "id": "c8c6d9f1",
   "metadata": {},
   "outputs": [],
   "source": [
    "farmer.dropna(subset = [\"sale_amt\"], inplace=True)"
   ]
  },
  {
   "cell_type": "code",
   "execution_count": 197,
   "id": "21a1529f",
   "metadata": {},
   "outputs": [
    {
     "data": {
      "text/html": [
       "<div>\n",
       "<style scoped>\n",
       "    .dataframe tbody tr th:only-of-type {\n",
       "        vertical-align: middle;\n",
       "    }\n",
       "\n",
       "    .dataframe tbody tr th {\n",
       "        vertical-align: top;\n",
       "    }\n",
       "\n",
       "    .dataframe thead th {\n",
       "        text-align: right;\n",
       "    }\n",
       "</style>\n",
       "<table border=\"1\" class=\"dataframe\">\n",
       "  <thead>\n",
       "    <tr style=\"text-align: right;\">\n",
       "      <th></th>\n",
       "      <th>farmer_id</th>\n",
       "      <th>crop_id</th>\n",
       "      <th>crop_name</th>\n",
       "      <th>sale_amt</th>\n",
       "      <th>plotsize</th>\n",
       "    </tr>\n",
       "  </thead>\n",
       "  <tbody>\n",
       "    <tr>\n",
       "      <th>0</th>\n",
       "      <td>1.0</td>\n",
       "      <td>1.0</td>\n",
       "      <td>corn</td>\n",
       "      <td>9.0</td>\n",
       "      <td>12.0</td>\n",
       "    </tr>\n",
       "    <tr>\n",
       "      <th>1</th>\n",
       "      <td>1.0</td>\n",
       "      <td>2.0</td>\n",
       "      <td>squash</td>\n",
       "      <td>11.0</td>\n",
       "      <td>6.0</td>\n",
       "    </tr>\n",
       "    <tr>\n",
       "      <th>3</th>\n",
       "      <td>1.0</td>\n",
       "      <td>4.0</td>\n",
       "      <td>tomato</td>\n",
       "      <td>10.0</td>\n",
       "      <td>7.0</td>\n",
       "    </tr>\n",
       "    <tr>\n",
       "      <th>4</th>\n",
       "      <td>1.0</td>\n",
       "      <td>5.0</td>\n",
       "      <td>groundnut</td>\n",
       "      <td>11.0</td>\n",
       "      <td>4.0</td>\n",
       "    </tr>\n",
       "    <tr>\n",
       "      <th>5</th>\n",
       "      <td>1.0</td>\n",
       "      <td>6.0</td>\n",
       "      <td>shea</td>\n",
       "      <td>11.0</td>\n",
       "      <td>1.0</td>\n",
       "    </tr>\n",
       "  </tbody>\n",
       "</table>\n",
       "</div>"
      ],
      "text/plain": [
       "   farmer_id  crop_id  crop_name  sale_amt  plotsize\n",
       "0        1.0      1.0       corn       9.0      12.0\n",
       "1        1.0      2.0     squash      11.0       6.0\n",
       "3        1.0      4.0     tomato      10.0       7.0\n",
       "4        1.0      5.0  groundnut      11.0       4.0\n",
       "5        1.0      6.0       shea      11.0       1.0"
      ]
     },
     "execution_count": 197,
     "metadata": {},
     "output_type": "execute_result"
    }
   ],
   "source": [
    "farmer.head()"
   ]
  },
  {
   "cell_type": "code",
   "execution_count": 198,
   "id": "01e6d63f",
   "metadata": {},
   "outputs": [
    {
     "data": {
      "text/html": [
       "<div>\n",
       "<style scoped>\n",
       "    .dataframe tbody tr th:only-of-type {\n",
       "        vertical-align: middle;\n",
       "    }\n",
       "\n",
       "    .dataframe tbody tr th {\n",
       "        vertical-align: top;\n",
       "    }\n",
       "\n",
       "    .dataframe thead th {\n",
       "        text-align: right;\n",
       "    }\n",
       "</style>\n",
       "<table border=\"1\" class=\"dataframe\">\n",
       "  <thead>\n",
       "    <tr style=\"text-align: right;\">\n",
       "      <th></th>\n",
       "      <th>farmer_id</th>\n",
       "      <th>income</th>\n",
       "    </tr>\n",
       "  </thead>\n",
       "  <tbody>\n",
       "    <tr>\n",
       "      <th>0</th>\n",
       "      <td>1.0</td>\n",
       "      <td>5311.379883</td>\n",
       "    </tr>\n",
       "    <tr>\n",
       "      <th>1</th>\n",
       "      <td>2.0</td>\n",
       "      <td>5415.399902</td>\n",
       "    </tr>\n",
       "    <tr>\n",
       "      <th>2</th>\n",
       "      <td>3.0</td>\n",
       "      <td>1184.719971</td>\n",
       "    </tr>\n",
       "    <tr>\n",
       "      <th>3</th>\n",
       "      <td>4.0</td>\n",
       "      <td>4585.189941</td>\n",
       "    </tr>\n",
       "    <tr>\n",
       "      <th>4</th>\n",
       "      <td>5.0</td>\n",
       "      <td>6658.770020</td>\n",
       "    </tr>\n",
       "  </tbody>\n",
       "</table>\n",
       "</div>"
      ],
      "text/plain": [
       "   farmer_id       income\n",
       "0        1.0  5311.379883\n",
       "1        2.0  5415.399902\n",
       "2        3.0  1184.719971\n",
       "3        4.0  4585.189941\n",
       "4        5.0  6658.770020"
      ]
     },
     "execution_count": 198,
     "metadata": {},
     "output_type": "execute_result"
    }
   ],
   "source": [
    "income.head()"
   ]
  },
  {
   "cell_type": "code",
   "execution_count": 199,
   "id": "2737078a",
   "metadata": {},
   "outputs": [
    {
     "name": "stdout",
     "output_type": "stream",
     "text": [
      "<class 'pandas.core.frame.DataFrame'>\n",
      "Int64Index: 2283 entries, 0 to 2798\n",
      "Data columns (total 5 columns):\n",
      " #   Column     Non-Null Count  Dtype  \n",
      "---  ------     --------------  -----  \n",
      " 0   farmer_id  2283 non-null   float32\n",
      " 1   crop_id    2283 non-null   float32\n",
      " 2   crop_name  2283 non-null   object \n",
      " 3   sale_amt   2283 non-null   float32\n",
      " 4   plotsize   2283 non-null   float32\n",
      "dtypes: float32(4), object(1)\n",
      "memory usage: 71.3+ KB\n"
     ]
    }
   ],
   "source": [
    "farmer.info()"
   ]
  },
  {
   "cell_type": "code",
   "execution_count": 200,
   "id": "cf96afde",
   "metadata": {},
   "outputs": [],
   "source": [
    "\n",
    "crops=farmer.groupby('crop_name')['sale_amt'].sum()"
   ]
  },
  {
   "cell_type": "code",
   "execution_count": 201,
   "id": "44b95cd0",
   "metadata": {},
   "outputs": [
    {
     "data": {
      "text/plain": [
       "crop_name\n",
       "barley       2275.0\n",
       "cocoa        2210.0\n",
       "corn         2367.0\n",
       "groundnut    2252.0\n",
       "pumpkin      2302.0\n",
       "shea         2171.0\n",
       "squash       2180.0\n",
       "tomato       2290.0\n",
       "Name: sale_amt, dtype: float32"
      ]
     },
     "execution_count": 201,
     "metadata": {},
     "output_type": "execute_result"
    }
   ],
   "source": [
    "crops"
   ]
  },
  {
   "cell_type": "code",
   "execution_count": 202,
   "id": "b11bf4fd",
   "metadata": {},
   "outputs": [],
   "source": [
    "farm_sales=farmer.groupby('farmer_id')['sale_amt'].sum()"
   ]
  },
  {
   "cell_type": "code",
   "execution_count": 203,
   "id": "c955ce55",
   "metadata": {},
   "outputs": [
    {
     "data": {
      "text/plain": [
       "farmer_id\n",
       "1.0      60.0\n",
       "2.0      63.0\n",
       "3.0      13.0\n",
       "4.0      52.0\n",
       "5.0      74.0\n",
       "         ... \n",
       "346.0    49.0\n",
       "347.0    65.0\n",
       "348.0    59.0\n",
       "349.0    38.0\n",
       "350.0    39.0\n",
       "Name: sale_amt, Length: 350, dtype: float32"
      ]
     },
     "execution_count": 203,
     "metadata": {},
     "output_type": "execute_result"
    }
   ],
   "source": [
    "farm_sales"
   ]
  },
  {
   "cell_type": "code",
   "execution_count": 204,
   "id": "3ecd5051",
   "metadata": {},
   "outputs": [],
   "source": [
    "left=farm_sales\n",
    "right=income\n",
    "farm_income=pd.merge(left,right,on='farmer_id')"
   ]
  },
  {
   "cell_type": "code",
   "execution_count": 205,
   "id": "3928dd98",
   "metadata": {},
   "outputs": [
    {
     "data": {
      "text/html": [
       "<div>\n",
       "<style scoped>\n",
       "    .dataframe tbody tr th:only-of-type {\n",
       "        vertical-align: middle;\n",
       "    }\n",
       "\n",
       "    .dataframe tbody tr th {\n",
       "        vertical-align: top;\n",
       "    }\n",
       "\n",
       "    .dataframe thead th {\n",
       "        text-align: right;\n",
       "    }\n",
       "</style>\n",
       "<table border=\"1\" class=\"dataframe\">\n",
       "  <thead>\n",
       "    <tr style=\"text-align: right;\">\n",
       "      <th></th>\n",
       "      <th>farmer_id</th>\n",
       "      <th>sale_amt</th>\n",
       "      <th>income</th>\n",
       "    </tr>\n",
       "  </thead>\n",
       "  <tbody>\n",
       "    <tr>\n",
       "      <th>0</th>\n",
       "      <td>1.0</td>\n",
       "      <td>60.0</td>\n",
       "      <td>5311.379883</td>\n",
       "    </tr>\n",
       "    <tr>\n",
       "      <th>1</th>\n",
       "      <td>2.0</td>\n",
       "      <td>63.0</td>\n",
       "      <td>5415.399902</td>\n",
       "    </tr>\n",
       "    <tr>\n",
       "      <th>2</th>\n",
       "      <td>3.0</td>\n",
       "      <td>13.0</td>\n",
       "      <td>1184.719971</td>\n",
       "    </tr>\n",
       "    <tr>\n",
       "      <th>3</th>\n",
       "      <td>4.0</td>\n",
       "      <td>52.0</td>\n",
       "      <td>4585.189941</td>\n",
       "    </tr>\n",
       "    <tr>\n",
       "      <th>4</th>\n",
       "      <td>5.0</td>\n",
       "      <td>74.0</td>\n",
       "      <td>6658.770020</td>\n",
       "    </tr>\n",
       "    <tr>\n",
       "      <th>...</th>\n",
       "      <td>...</td>\n",
       "      <td>...</td>\n",
       "      <td>...</td>\n",
       "    </tr>\n",
       "    <tr>\n",
       "      <th>345</th>\n",
       "      <td>346.0</td>\n",
       "      <td>49.0</td>\n",
       "      <td>4461.189941</td>\n",
       "    </tr>\n",
       "    <tr>\n",
       "      <th>346</th>\n",
       "      <td>347.0</td>\n",
       "      <td>65.0</td>\n",
       "      <td>5933.020020</td>\n",
       "    </tr>\n",
       "    <tr>\n",
       "      <th>347</th>\n",
       "      <td>348.0</td>\n",
       "      <td>59.0</td>\n",
       "      <td>5073.270020</td>\n",
       "    </tr>\n",
       "    <tr>\n",
       "      <th>348</th>\n",
       "      <td>349.0</td>\n",
       "      <td>38.0</td>\n",
       "      <td>3214.709961</td>\n",
       "    </tr>\n",
       "    <tr>\n",
       "      <th>349</th>\n",
       "      <td>350.0</td>\n",
       "      <td>39.0</td>\n",
       "      <td>3429.110107</td>\n",
       "    </tr>\n",
       "  </tbody>\n",
       "</table>\n",
       "<p>350 rows × 3 columns</p>\n",
       "</div>"
      ],
      "text/plain": [
       "     farmer_id  sale_amt       income\n",
       "0          1.0      60.0  5311.379883\n",
       "1          2.0      63.0  5415.399902\n",
       "2          3.0      13.0  1184.719971\n",
       "3          4.0      52.0  4585.189941\n",
       "4          5.0      74.0  6658.770020\n",
       "..         ...       ...          ...\n",
       "345      346.0      49.0  4461.189941\n",
       "346      347.0      65.0  5933.020020\n",
       "347      348.0      59.0  5073.270020\n",
       "348      349.0      38.0  3214.709961\n",
       "349      350.0      39.0  3429.110107\n",
       "\n",
       "[350 rows x 3 columns]"
      ]
     },
     "execution_count": 205,
     "metadata": {},
     "output_type": "execute_result"
    }
   ],
   "source": [
    "farm_income"
   ]
  },
  {
   "cell_type": "code",
   "execution_count": 206,
   "id": "3e9122f2",
   "metadata": {},
   "outputs": [],
   "source": [
    "nan_value = float(\"NaN\")\n",
    "farmer.replace(-99, nan_value, inplace=True)"
   ]
  },
  {
   "cell_type": "code",
   "execution_count": null,
   "id": "b8f5e993",
   "metadata": {},
   "outputs": [],
   "source": []
  },
  {
   "cell_type": "code",
   "execution_count": 207,
   "id": "a5567a8e",
   "metadata": {},
   "outputs": [],
   "source": [
    "farmer.dropna(subset = [\"sale_amt\"], inplace=True)"
   ]
  },
  {
   "cell_type": "code",
   "execution_count": 208,
   "id": "fb69847e",
   "metadata": {},
   "outputs": [
    {
     "data": {
      "text/html": [
       "<div>\n",
       "<style scoped>\n",
       "    .dataframe tbody tr th:only-of-type {\n",
       "        vertical-align: middle;\n",
       "    }\n",
       "\n",
       "    .dataframe tbody tr th {\n",
       "        vertical-align: top;\n",
       "    }\n",
       "\n",
       "    .dataframe thead th {\n",
       "        text-align: right;\n",
       "    }\n",
       "</style>\n",
       "<table border=\"1\" class=\"dataframe\">\n",
       "  <thead>\n",
       "    <tr style=\"text-align: right;\">\n",
       "      <th></th>\n",
       "      <th>farmer_id</th>\n",
       "      <th>crop_id</th>\n",
       "      <th>crop_name</th>\n",
       "      <th>sale_amt</th>\n",
       "      <th>plotsize</th>\n",
       "    </tr>\n",
       "  </thead>\n",
       "  <tbody>\n",
       "    <tr>\n",
       "      <th>0</th>\n",
       "      <td>1.0</td>\n",
       "      <td>1.0</td>\n",
       "      <td>corn</td>\n",
       "      <td>9.0</td>\n",
       "      <td>12.0</td>\n",
       "    </tr>\n",
       "    <tr>\n",
       "      <th>1</th>\n",
       "      <td>1.0</td>\n",
       "      <td>2.0</td>\n",
       "      <td>squash</td>\n",
       "      <td>11.0</td>\n",
       "      <td>6.0</td>\n",
       "    </tr>\n",
       "    <tr>\n",
       "      <th>3</th>\n",
       "      <td>1.0</td>\n",
       "      <td>4.0</td>\n",
       "      <td>tomato</td>\n",
       "      <td>10.0</td>\n",
       "      <td>7.0</td>\n",
       "    </tr>\n",
       "    <tr>\n",
       "      <th>4</th>\n",
       "      <td>1.0</td>\n",
       "      <td>5.0</td>\n",
       "      <td>groundnut</td>\n",
       "      <td>11.0</td>\n",
       "      <td>4.0</td>\n",
       "    </tr>\n",
       "    <tr>\n",
       "      <th>5</th>\n",
       "      <td>1.0</td>\n",
       "      <td>6.0</td>\n",
       "      <td>shea</td>\n",
       "      <td>11.0</td>\n",
       "      <td>1.0</td>\n",
       "    </tr>\n",
       "  </tbody>\n",
       "</table>\n",
       "</div>"
      ],
      "text/plain": [
       "   farmer_id  crop_id  crop_name  sale_amt  plotsize\n",
       "0        1.0      1.0       corn       9.0      12.0\n",
       "1        1.0      2.0     squash      11.0       6.0\n",
       "3        1.0      4.0     tomato      10.0       7.0\n",
       "4        1.0      5.0  groundnut      11.0       4.0\n",
       "5        1.0      6.0       shea      11.0       1.0"
      ]
     },
     "execution_count": 208,
     "metadata": {},
     "output_type": "execute_result"
    }
   ],
   "source": [
    "farmer.head()"
   ]
  },
  {
   "cell_type": "code",
   "execution_count": 209,
   "id": "51dcda65",
   "metadata": {},
   "outputs": [
    {
     "data": {
      "text/html": [
       "<div>\n",
       "<style scoped>\n",
       "    .dataframe tbody tr th:only-of-type {\n",
       "        vertical-align: middle;\n",
       "    }\n",
       "\n",
       "    .dataframe tbody tr th {\n",
       "        vertical-align: top;\n",
       "    }\n",
       "\n",
       "    .dataframe thead th {\n",
       "        text-align: right;\n",
       "    }\n",
       "</style>\n",
       "<table border=\"1\" class=\"dataframe\">\n",
       "  <thead>\n",
       "    <tr style=\"text-align: right;\">\n",
       "      <th></th>\n",
       "      <th>farmer_id</th>\n",
       "      <th>income</th>\n",
       "    </tr>\n",
       "  </thead>\n",
       "  <tbody>\n",
       "    <tr>\n",
       "      <th>0</th>\n",
       "      <td>1.0</td>\n",
       "      <td>5311.379883</td>\n",
       "    </tr>\n",
       "    <tr>\n",
       "      <th>1</th>\n",
       "      <td>2.0</td>\n",
       "      <td>5415.399902</td>\n",
       "    </tr>\n",
       "    <tr>\n",
       "      <th>2</th>\n",
       "      <td>3.0</td>\n",
       "      <td>1184.719971</td>\n",
       "    </tr>\n",
       "    <tr>\n",
       "      <th>3</th>\n",
       "      <td>4.0</td>\n",
       "      <td>4585.189941</td>\n",
       "    </tr>\n",
       "    <tr>\n",
       "      <th>4</th>\n",
       "      <td>5.0</td>\n",
       "      <td>6658.770020</td>\n",
       "    </tr>\n",
       "    <tr>\n",
       "      <th>...</th>\n",
       "      <td>...</td>\n",
       "      <td>...</td>\n",
       "    </tr>\n",
       "    <tr>\n",
       "      <th>345</th>\n",
       "      <td>346.0</td>\n",
       "      <td>4461.189941</td>\n",
       "    </tr>\n",
       "    <tr>\n",
       "      <th>346</th>\n",
       "      <td>347.0</td>\n",
       "      <td>5933.020020</td>\n",
       "    </tr>\n",
       "    <tr>\n",
       "      <th>347</th>\n",
       "      <td>348.0</td>\n",
       "      <td>5073.270020</td>\n",
       "    </tr>\n",
       "    <tr>\n",
       "      <th>348</th>\n",
       "      <td>349.0</td>\n",
       "      <td>3214.709961</td>\n",
       "    </tr>\n",
       "    <tr>\n",
       "      <th>349</th>\n",
       "      <td>350.0</td>\n",
       "      <td>3429.110107</td>\n",
       "    </tr>\n",
       "  </tbody>\n",
       "</table>\n",
       "<p>350 rows × 2 columns</p>\n",
       "</div>"
      ],
      "text/plain": [
       "     farmer_id       income\n",
       "0          1.0  5311.379883\n",
       "1          2.0  5415.399902\n",
       "2          3.0  1184.719971\n",
       "3          4.0  4585.189941\n",
       "4          5.0  6658.770020\n",
       "..         ...          ...\n",
       "345      346.0  4461.189941\n",
       "346      347.0  5933.020020\n",
       "347      348.0  5073.270020\n",
       "348      349.0  3214.709961\n",
       "349      350.0  3429.110107\n",
       "\n",
       "[350 rows x 2 columns]"
      ]
     },
     "execution_count": 209,
     "metadata": {},
     "output_type": "execute_result"
    }
   ],
   "source": [
    "income"
   ]
  },
  {
   "cell_type": "code",
   "execution_count": 210,
   "id": "8a27022c",
   "metadata": {},
   "outputs": [
    {
     "data": {
      "text/plain": [
       "350"
      ]
     },
     "execution_count": 210,
     "metadata": {},
     "output_type": "execute_result"
    }
   ],
   "source": [
    "farmer.farmer_id.nunique()"
   ]
  },
  {
   "cell_type": "code",
   "execution_count": 211,
   "id": "ec1982fd",
   "metadata": {},
   "outputs": [
    {
     "data": {
      "text/html": [
       "<div>\n",
       "<style scoped>\n",
       "    .dataframe tbody tr th:only-of-type {\n",
       "        vertical-align: middle;\n",
       "    }\n",
       "\n",
       "    .dataframe tbody tr th {\n",
       "        vertical-align: top;\n",
       "    }\n",
       "\n",
       "    .dataframe thead th {\n",
       "        text-align: right;\n",
       "    }\n",
       "</style>\n",
       "<table border=\"1\" class=\"dataframe\">\n",
       "  <thead>\n",
       "    <tr style=\"text-align: right;\">\n",
       "      <th></th>\n",
       "      <th>crop_id</th>\n",
       "      <th>mkt_price</th>\n",
       "    </tr>\n",
       "  </thead>\n",
       "  <tbody>\n",
       "    <tr>\n",
       "      <th>0</th>\n",
       "      <td>1.0</td>\n",
       "      <td>90.0</td>\n",
       "    </tr>\n",
       "    <tr>\n",
       "      <th>1</th>\n",
       "      <td>3.0</td>\n",
       "      <td>95.0</td>\n",
       "    </tr>\n",
       "    <tr>\n",
       "      <th>2</th>\n",
       "      <td>4.0</td>\n",
       "      <td>105.0</td>\n",
       "    </tr>\n",
       "    <tr>\n",
       "      <th>3</th>\n",
       "      <td>5.0</td>\n",
       "      <td>80.0</td>\n",
       "    </tr>\n",
       "    <tr>\n",
       "      <th>4</th>\n",
       "      <td>6.0</td>\n",
       "      <td>75.0</td>\n",
       "    </tr>\n",
       "    <tr>\n",
       "      <th>5</th>\n",
       "      <td>7.0</td>\n",
       "      <td>80.0</td>\n",
       "    </tr>\n",
       "    <tr>\n",
       "      <th>6</th>\n",
       "      <td>8.0</td>\n",
       "      <td>80.0</td>\n",
       "    </tr>\n",
       "  </tbody>\n",
       "</table>\n",
       "</div>"
      ],
      "text/plain": [
       "   crop_id  mkt_price\n",
       "0      1.0       90.0\n",
       "1      3.0       95.0\n",
       "2      4.0      105.0\n",
       "3      5.0       80.0\n",
       "4      6.0       75.0\n",
       "5      7.0       80.0\n",
       "6      8.0       80.0"
      ]
     },
     "execution_count": 211,
     "metadata": {},
     "output_type": "execute_result"
    }
   ],
   "source": [
    "mkt_price"
   ]
  },
  {
   "cell_type": "code",
   "execution_count": 212,
   "id": "9c325acb",
   "metadata": {},
   "outputs": [],
   "source": [
    "squash_farmers=farmer.loc[farmer['crop_name']==\"squash\"]"
   ]
  },
  {
   "cell_type": "code",
   "execution_count": 213,
   "id": "7dff9d54",
   "metadata": {},
   "outputs": [
    {
     "data": {
      "text/html": [
       "<div>\n",
       "<style scoped>\n",
       "    .dataframe tbody tr th:only-of-type {\n",
       "        vertical-align: middle;\n",
       "    }\n",
       "\n",
       "    .dataframe tbody tr th {\n",
       "        vertical-align: top;\n",
       "    }\n",
       "\n",
       "    .dataframe thead th {\n",
       "        text-align: right;\n",
       "    }\n",
       "</style>\n",
       "<table border=\"1\" class=\"dataframe\">\n",
       "  <thead>\n",
       "    <tr style=\"text-align: right;\">\n",
       "      <th></th>\n",
       "      <th>farmer_id</th>\n",
       "      <th>crop_id</th>\n",
       "      <th>crop_name</th>\n",
       "      <th>sale_amt</th>\n",
       "      <th>plotsize</th>\n",
       "    </tr>\n",
       "  </thead>\n",
       "  <tbody>\n",
       "    <tr>\n",
       "      <th>1</th>\n",
       "      <td>1.0</td>\n",
       "      <td>2.0</td>\n",
       "      <td>squash</td>\n",
       "      <td>11.0</td>\n",
       "      <td>6.0</td>\n",
       "    </tr>\n",
       "    <tr>\n",
       "      <th>9</th>\n",
       "      <td>2.0</td>\n",
       "      <td>2.0</td>\n",
       "      <td>squash</td>\n",
       "      <td>3.0</td>\n",
       "      <td>3.0</td>\n",
       "    </tr>\n",
       "    <tr>\n",
       "      <th>17</th>\n",
       "      <td>3.0</td>\n",
       "      <td>2.0</td>\n",
       "      <td>squash</td>\n",
       "      <td>0.0</td>\n",
       "      <td>1.0</td>\n",
       "    </tr>\n",
       "    <tr>\n",
       "      <th>25</th>\n",
       "      <td>4.0</td>\n",
       "      <td>2.0</td>\n",
       "      <td>squash</td>\n",
       "      <td>5.0</td>\n",
       "      <td>3.0</td>\n",
       "    </tr>\n",
       "    <tr>\n",
       "      <th>33</th>\n",
       "      <td>5.0</td>\n",
       "      <td>2.0</td>\n",
       "      <td>squash</td>\n",
       "      <td>7.0</td>\n",
       "      <td>4.0</td>\n",
       "    </tr>\n",
       "    <tr>\n",
       "      <th>...</th>\n",
       "      <td>...</td>\n",
       "      <td>...</td>\n",
       "      <td>...</td>\n",
       "      <td>...</td>\n",
       "      <td>...</td>\n",
       "    </tr>\n",
       "    <tr>\n",
       "      <th>2761</th>\n",
       "      <td>346.0</td>\n",
       "      <td>2.0</td>\n",
       "      <td>squash</td>\n",
       "      <td>6.0</td>\n",
       "      <td>6.0</td>\n",
       "    </tr>\n",
       "    <tr>\n",
       "      <th>2769</th>\n",
       "      <td>347.0</td>\n",
       "      <td>2.0</td>\n",
       "      <td>squash</td>\n",
       "      <td>17.0</td>\n",
       "      <td>4.0</td>\n",
       "    </tr>\n",
       "    <tr>\n",
       "      <th>2777</th>\n",
       "      <td>348.0</td>\n",
       "      <td>2.0</td>\n",
       "      <td>squash</td>\n",
       "      <td>11.0</td>\n",
       "      <td>3.0</td>\n",
       "    </tr>\n",
       "    <tr>\n",
       "      <th>2785</th>\n",
       "      <td>349.0</td>\n",
       "      <td>2.0</td>\n",
       "      <td>squash</td>\n",
       "      <td>2.0</td>\n",
       "      <td>1.0</td>\n",
       "    </tr>\n",
       "    <tr>\n",
       "      <th>2793</th>\n",
       "      <td>350.0</td>\n",
       "      <td>2.0</td>\n",
       "      <td>squash</td>\n",
       "      <td>4.0</td>\n",
       "      <td>6.0</td>\n",
       "    </tr>\n",
       "  </tbody>\n",
       "</table>\n",
       "<p>271 rows × 5 columns</p>\n",
       "</div>"
      ],
      "text/plain": [
       "      farmer_id  crop_id crop_name  sale_amt  plotsize\n",
       "1           1.0      2.0    squash      11.0       6.0\n",
       "9           2.0      2.0    squash       3.0       3.0\n",
       "17          3.0      2.0    squash       0.0       1.0\n",
       "25          4.0      2.0    squash       5.0       3.0\n",
       "33          5.0      2.0    squash       7.0       4.0\n",
       "...         ...      ...       ...       ...       ...\n",
       "2761      346.0      2.0    squash       6.0       6.0\n",
       "2769      347.0      2.0    squash      17.0       4.0\n",
       "2777      348.0      2.0    squash      11.0       3.0\n",
       "2785      349.0      2.0    squash       2.0       1.0\n",
       "2793      350.0      2.0    squash       4.0       6.0\n",
       "\n",
       "[271 rows x 5 columns]"
      ]
     },
     "execution_count": 213,
     "metadata": {},
     "output_type": "execute_result"
    }
   ],
   "source": [
    "squash_farmers"
   ]
  },
  {
   "cell_type": "code",
   "execution_count": 214,
   "id": "a4bba8ae",
   "metadata": {},
   "outputs": [],
   "source": [
    "left=squash_farmers\n",
    "right=farm_income\n",
    "farm_inc_minsquash=pd.merge(left,right,on='farmer_id')"
   ]
  },
  {
   "cell_type": "code",
   "execution_count": 215,
   "id": "61d00439",
   "metadata": {},
   "outputs": [
    {
     "data": {
      "text/html": [
       "<div>\n",
       "<style scoped>\n",
       "    .dataframe tbody tr th:only-of-type {\n",
       "        vertical-align: middle;\n",
       "    }\n",
       "\n",
       "    .dataframe tbody tr th {\n",
       "        vertical-align: top;\n",
       "    }\n",
       "\n",
       "    .dataframe thead th {\n",
       "        text-align: right;\n",
       "    }\n",
       "</style>\n",
       "<table border=\"1\" class=\"dataframe\">\n",
       "  <thead>\n",
       "    <tr style=\"text-align: right;\">\n",
       "      <th></th>\n",
       "      <th>farmer_id</th>\n",
       "      <th>crop_id</th>\n",
       "      <th>crop_name</th>\n",
       "      <th>sale_amt_x</th>\n",
       "      <th>plotsize</th>\n",
       "      <th>sale_amt_y</th>\n",
       "      <th>income</th>\n",
       "    </tr>\n",
       "  </thead>\n",
       "  <tbody>\n",
       "    <tr>\n",
       "      <th>0</th>\n",
       "      <td>1.0</td>\n",
       "      <td>2.0</td>\n",
       "      <td>squash</td>\n",
       "      <td>11.0</td>\n",
       "      <td>6.0</td>\n",
       "      <td>60.0</td>\n",
       "      <td>5311.379883</td>\n",
       "    </tr>\n",
       "    <tr>\n",
       "      <th>1</th>\n",
       "      <td>2.0</td>\n",
       "      <td>2.0</td>\n",
       "      <td>squash</td>\n",
       "      <td>3.0</td>\n",
       "      <td>3.0</td>\n",
       "      <td>63.0</td>\n",
       "      <td>5415.399902</td>\n",
       "    </tr>\n",
       "    <tr>\n",
       "      <th>2</th>\n",
       "      <td>3.0</td>\n",
       "      <td>2.0</td>\n",
       "      <td>squash</td>\n",
       "      <td>0.0</td>\n",
       "      <td>1.0</td>\n",
       "      <td>13.0</td>\n",
       "      <td>1184.719971</td>\n",
       "    </tr>\n",
       "    <tr>\n",
       "      <th>3</th>\n",
       "      <td>4.0</td>\n",
       "      <td>2.0</td>\n",
       "      <td>squash</td>\n",
       "      <td>5.0</td>\n",
       "      <td>3.0</td>\n",
       "      <td>52.0</td>\n",
       "      <td>4585.189941</td>\n",
       "    </tr>\n",
       "    <tr>\n",
       "      <th>4</th>\n",
       "      <td>5.0</td>\n",
       "      <td>2.0</td>\n",
       "      <td>squash</td>\n",
       "      <td>7.0</td>\n",
       "      <td>4.0</td>\n",
       "      <td>74.0</td>\n",
       "      <td>6658.770020</td>\n",
       "    </tr>\n",
       "    <tr>\n",
       "      <th>...</th>\n",
       "      <td>...</td>\n",
       "      <td>...</td>\n",
       "      <td>...</td>\n",
       "      <td>...</td>\n",
       "      <td>...</td>\n",
       "      <td>...</td>\n",
       "      <td>...</td>\n",
       "    </tr>\n",
       "    <tr>\n",
       "      <th>266</th>\n",
       "      <td>346.0</td>\n",
       "      <td>2.0</td>\n",
       "      <td>squash</td>\n",
       "      <td>6.0</td>\n",
       "      <td>6.0</td>\n",
       "      <td>49.0</td>\n",
       "      <td>4461.189941</td>\n",
       "    </tr>\n",
       "    <tr>\n",
       "      <th>267</th>\n",
       "      <td>347.0</td>\n",
       "      <td>2.0</td>\n",
       "      <td>squash</td>\n",
       "      <td>17.0</td>\n",
       "      <td>4.0</td>\n",
       "      <td>65.0</td>\n",
       "      <td>5933.020020</td>\n",
       "    </tr>\n",
       "    <tr>\n",
       "      <th>268</th>\n",
       "      <td>348.0</td>\n",
       "      <td>2.0</td>\n",
       "      <td>squash</td>\n",
       "      <td>11.0</td>\n",
       "      <td>3.0</td>\n",
       "      <td>59.0</td>\n",
       "      <td>5073.270020</td>\n",
       "    </tr>\n",
       "    <tr>\n",
       "      <th>269</th>\n",
       "      <td>349.0</td>\n",
       "      <td>2.0</td>\n",
       "      <td>squash</td>\n",
       "      <td>2.0</td>\n",
       "      <td>1.0</td>\n",
       "      <td>38.0</td>\n",
       "      <td>3214.709961</td>\n",
       "    </tr>\n",
       "    <tr>\n",
       "      <th>270</th>\n",
       "      <td>350.0</td>\n",
       "      <td>2.0</td>\n",
       "      <td>squash</td>\n",
       "      <td>4.0</td>\n",
       "      <td>6.0</td>\n",
       "      <td>39.0</td>\n",
       "      <td>3429.110107</td>\n",
       "    </tr>\n",
       "  </tbody>\n",
       "</table>\n",
       "<p>271 rows × 7 columns</p>\n",
       "</div>"
      ],
      "text/plain": [
       "     farmer_id  crop_id crop_name  sale_amt_x  plotsize  sale_amt_y  \\\n",
       "0          1.0      2.0    squash        11.0       6.0        60.0   \n",
       "1          2.0      2.0    squash         3.0       3.0        63.0   \n",
       "2          3.0      2.0    squash         0.0       1.0        13.0   \n",
       "3          4.0      2.0    squash         5.0       3.0        52.0   \n",
       "4          5.0      2.0    squash         7.0       4.0        74.0   \n",
       "..         ...      ...       ...         ...       ...         ...   \n",
       "266      346.0      2.0    squash         6.0       6.0        49.0   \n",
       "267      347.0      2.0    squash        17.0       4.0        65.0   \n",
       "268      348.0      2.0    squash        11.0       3.0        59.0   \n",
       "269      349.0      2.0    squash         2.0       1.0        38.0   \n",
       "270      350.0      2.0    squash         4.0       6.0        39.0   \n",
       "\n",
       "          income  \n",
       "0    5311.379883  \n",
       "1    5415.399902  \n",
       "2    1184.719971  \n",
       "3    4585.189941  \n",
       "4    6658.770020  \n",
       "..           ...  \n",
       "266  4461.189941  \n",
       "267  5933.020020  \n",
       "268  5073.270020  \n",
       "269  3214.709961  \n",
       "270  3429.110107  \n",
       "\n",
       "[271 rows x 7 columns]"
      ]
     },
     "execution_count": 215,
     "metadata": {},
     "output_type": "execute_result"
    }
   ],
   "source": [
    "farm_inc_minsquash"
   ]
  },
  {
   "cell_type": "code",
   "execution_count": 216,
   "id": "d291afc5",
   "metadata": {},
   "outputs": [],
   "source": [
    "farm_inc_minsquash['squash_prop'] = farm_inc_minsquash['sale_amt_x'] / farm_inc_minsquash['sale_amt_y']"
   ]
  },
  {
   "cell_type": "code",
   "execution_count": 217,
   "id": "507f3002",
   "metadata": {},
   "outputs": [
    {
     "data": {
      "text/html": [
       "<div>\n",
       "<style scoped>\n",
       "    .dataframe tbody tr th:only-of-type {\n",
       "        vertical-align: middle;\n",
       "    }\n",
       "\n",
       "    .dataframe tbody tr th {\n",
       "        vertical-align: top;\n",
       "    }\n",
       "\n",
       "    .dataframe thead th {\n",
       "        text-align: right;\n",
       "    }\n",
       "</style>\n",
       "<table border=\"1\" class=\"dataframe\">\n",
       "  <thead>\n",
       "    <tr style=\"text-align: right;\">\n",
       "      <th></th>\n",
       "      <th>farmer_id</th>\n",
       "      <th>crop_id</th>\n",
       "      <th>crop_name</th>\n",
       "      <th>sale_amt_x</th>\n",
       "      <th>plotsize</th>\n",
       "      <th>sale_amt_y</th>\n",
       "      <th>income</th>\n",
       "      <th>squash_prop</th>\n",
       "    </tr>\n",
       "  </thead>\n",
       "  <tbody>\n",
       "    <tr>\n",
       "      <th>0</th>\n",
       "      <td>1.0</td>\n",
       "      <td>2.0</td>\n",
       "      <td>squash</td>\n",
       "      <td>11.0</td>\n",
       "      <td>6.0</td>\n",
       "      <td>60.0</td>\n",
       "      <td>5311.379883</td>\n",
       "      <td>0.183333</td>\n",
       "    </tr>\n",
       "    <tr>\n",
       "      <th>1</th>\n",
       "      <td>2.0</td>\n",
       "      <td>2.0</td>\n",
       "      <td>squash</td>\n",
       "      <td>3.0</td>\n",
       "      <td>3.0</td>\n",
       "      <td>63.0</td>\n",
       "      <td>5415.399902</td>\n",
       "      <td>0.047619</td>\n",
       "    </tr>\n",
       "    <tr>\n",
       "      <th>2</th>\n",
       "      <td>3.0</td>\n",
       "      <td>2.0</td>\n",
       "      <td>squash</td>\n",
       "      <td>0.0</td>\n",
       "      <td>1.0</td>\n",
       "      <td>13.0</td>\n",
       "      <td>1184.719971</td>\n",
       "      <td>0.000000</td>\n",
       "    </tr>\n",
       "    <tr>\n",
       "      <th>3</th>\n",
       "      <td>4.0</td>\n",
       "      <td>2.0</td>\n",
       "      <td>squash</td>\n",
       "      <td>5.0</td>\n",
       "      <td>3.0</td>\n",
       "      <td>52.0</td>\n",
       "      <td>4585.189941</td>\n",
       "      <td>0.096154</td>\n",
       "    </tr>\n",
       "    <tr>\n",
       "      <th>4</th>\n",
       "      <td>5.0</td>\n",
       "      <td>2.0</td>\n",
       "      <td>squash</td>\n",
       "      <td>7.0</td>\n",
       "      <td>4.0</td>\n",
       "      <td>74.0</td>\n",
       "      <td>6658.770020</td>\n",
       "      <td>0.094595</td>\n",
       "    </tr>\n",
       "    <tr>\n",
       "      <th>...</th>\n",
       "      <td>...</td>\n",
       "      <td>...</td>\n",
       "      <td>...</td>\n",
       "      <td>...</td>\n",
       "      <td>...</td>\n",
       "      <td>...</td>\n",
       "      <td>...</td>\n",
       "      <td>...</td>\n",
       "    </tr>\n",
       "    <tr>\n",
       "      <th>266</th>\n",
       "      <td>346.0</td>\n",
       "      <td>2.0</td>\n",
       "      <td>squash</td>\n",
       "      <td>6.0</td>\n",
       "      <td>6.0</td>\n",
       "      <td>49.0</td>\n",
       "      <td>4461.189941</td>\n",
       "      <td>0.122449</td>\n",
       "    </tr>\n",
       "    <tr>\n",
       "      <th>267</th>\n",
       "      <td>347.0</td>\n",
       "      <td>2.0</td>\n",
       "      <td>squash</td>\n",
       "      <td>17.0</td>\n",
       "      <td>4.0</td>\n",
       "      <td>65.0</td>\n",
       "      <td>5933.020020</td>\n",
       "      <td>0.261538</td>\n",
       "    </tr>\n",
       "    <tr>\n",
       "      <th>268</th>\n",
       "      <td>348.0</td>\n",
       "      <td>2.0</td>\n",
       "      <td>squash</td>\n",
       "      <td>11.0</td>\n",
       "      <td>3.0</td>\n",
       "      <td>59.0</td>\n",
       "      <td>5073.270020</td>\n",
       "      <td>0.186441</td>\n",
       "    </tr>\n",
       "    <tr>\n",
       "      <th>269</th>\n",
       "      <td>349.0</td>\n",
       "      <td>2.0</td>\n",
       "      <td>squash</td>\n",
       "      <td>2.0</td>\n",
       "      <td>1.0</td>\n",
       "      <td>38.0</td>\n",
       "      <td>3214.709961</td>\n",
       "      <td>0.052632</td>\n",
       "    </tr>\n",
       "    <tr>\n",
       "      <th>270</th>\n",
       "      <td>350.0</td>\n",
       "      <td>2.0</td>\n",
       "      <td>squash</td>\n",
       "      <td>4.0</td>\n",
       "      <td>6.0</td>\n",
       "      <td>39.0</td>\n",
       "      <td>3429.110107</td>\n",
       "      <td>0.102564</td>\n",
       "    </tr>\n",
       "  </tbody>\n",
       "</table>\n",
       "<p>271 rows × 8 columns</p>\n",
       "</div>"
      ],
      "text/plain": [
       "     farmer_id  crop_id crop_name  sale_amt_x  plotsize  sale_amt_y  \\\n",
       "0          1.0      2.0    squash        11.0       6.0        60.0   \n",
       "1          2.0      2.0    squash         3.0       3.0        63.0   \n",
       "2          3.0      2.0    squash         0.0       1.0        13.0   \n",
       "3          4.0      2.0    squash         5.0       3.0        52.0   \n",
       "4          5.0      2.0    squash         7.0       4.0        74.0   \n",
       "..         ...      ...       ...         ...       ...         ...   \n",
       "266      346.0      2.0    squash         6.0       6.0        49.0   \n",
       "267      347.0      2.0    squash        17.0       4.0        65.0   \n",
       "268      348.0      2.0    squash        11.0       3.0        59.0   \n",
       "269      349.0      2.0    squash         2.0       1.0        38.0   \n",
       "270      350.0      2.0    squash         4.0       6.0        39.0   \n",
       "\n",
       "          income  squash_prop  \n",
       "0    5311.379883     0.183333  \n",
       "1    5415.399902     0.047619  \n",
       "2    1184.719971     0.000000  \n",
       "3    4585.189941     0.096154  \n",
       "4    6658.770020     0.094595  \n",
       "..           ...          ...  \n",
       "266  4461.189941     0.122449  \n",
       "267  5933.020020     0.261538  \n",
       "268  5073.270020     0.186441  \n",
       "269  3214.709961     0.052632  \n",
       "270  3429.110107     0.102564  \n",
       "\n",
       "[271 rows x 8 columns]"
      ]
     },
     "execution_count": 217,
     "metadata": {},
     "output_type": "execute_result"
    }
   ],
   "source": [
    "farm_inc_minsquash"
   ]
  },
  {
   "cell_type": "code",
   "execution_count": 218,
   "id": "0bde6ae2",
   "metadata": {},
   "outputs": [],
   "source": [
    "farm_inc_minsquash['squash_amt'] = farm_inc_minsquash['income'] * farm_inc_minsquash['squash_prop']"
   ]
  },
  {
   "cell_type": "code",
   "execution_count": 219,
   "id": "73eeb351",
   "metadata": {},
   "outputs": [],
   "source": [
    "squash_price=farm_inc_minsquash.squash_amt/farm_inc_minsquash.sale_amt_x"
   ]
  },
  {
   "cell_type": "code",
   "execution_count": 220,
   "id": "8dfc66b4",
   "metadata": {},
   "outputs": [
    {
     "data": {
      "text/html": [
       "<div>\n",
       "<style scoped>\n",
       "    .dataframe tbody tr th:only-of-type {\n",
       "        vertical-align: middle;\n",
       "    }\n",
       "\n",
       "    .dataframe tbody tr th {\n",
       "        vertical-align: top;\n",
       "    }\n",
       "\n",
       "    .dataframe thead th {\n",
       "        text-align: right;\n",
       "    }\n",
       "</style>\n",
       "<table border=\"1\" class=\"dataframe\">\n",
       "  <thead>\n",
       "    <tr style=\"text-align: right;\">\n",
       "      <th></th>\n",
       "      <th>farmer_id</th>\n",
       "      <th>crop_id</th>\n",
       "      <th>crop_name</th>\n",
       "      <th>sale_amt_x</th>\n",
       "      <th>plotsize</th>\n",
       "      <th>sale_amt_y</th>\n",
       "      <th>income</th>\n",
       "      <th>squash_prop</th>\n",
       "      <th>squash_amt</th>\n",
       "    </tr>\n",
       "  </thead>\n",
       "  <tbody>\n",
       "    <tr>\n",
       "      <th>0</th>\n",
       "      <td>1.0</td>\n",
       "      <td>2.0</td>\n",
       "      <td>squash</td>\n",
       "      <td>11.0</td>\n",
       "      <td>6.0</td>\n",
       "      <td>60.0</td>\n",
       "      <td>5311.379883</td>\n",
       "      <td>0.183333</td>\n",
       "      <td>973.752991</td>\n",
       "    </tr>\n",
       "    <tr>\n",
       "      <th>1</th>\n",
       "      <td>2.0</td>\n",
       "      <td>2.0</td>\n",
       "      <td>squash</td>\n",
       "      <td>3.0</td>\n",
       "      <td>3.0</td>\n",
       "      <td>63.0</td>\n",
       "      <td>5415.399902</td>\n",
       "      <td>0.047619</td>\n",
       "      <td>257.876190</td>\n",
       "    </tr>\n",
       "    <tr>\n",
       "      <th>2</th>\n",
       "      <td>3.0</td>\n",
       "      <td>2.0</td>\n",
       "      <td>squash</td>\n",
       "      <td>0.0</td>\n",
       "      <td>1.0</td>\n",
       "      <td>13.0</td>\n",
       "      <td>1184.719971</td>\n",
       "      <td>0.000000</td>\n",
       "      <td>0.000000</td>\n",
       "    </tr>\n",
       "    <tr>\n",
       "      <th>3</th>\n",
       "      <td>4.0</td>\n",
       "      <td>2.0</td>\n",
       "      <td>squash</td>\n",
       "      <td>5.0</td>\n",
       "      <td>3.0</td>\n",
       "      <td>52.0</td>\n",
       "      <td>4585.189941</td>\n",
       "      <td>0.096154</td>\n",
       "      <td>440.883667</td>\n",
       "    </tr>\n",
       "    <tr>\n",
       "      <th>4</th>\n",
       "      <td>5.0</td>\n",
       "      <td>2.0</td>\n",
       "      <td>squash</td>\n",
       "      <td>7.0</td>\n",
       "      <td>4.0</td>\n",
       "      <td>74.0</td>\n",
       "      <td>6658.770020</td>\n",
       "      <td>0.094595</td>\n",
       "      <td>629.883667</td>\n",
       "    </tr>\n",
       "    <tr>\n",
       "      <th>...</th>\n",
       "      <td>...</td>\n",
       "      <td>...</td>\n",
       "      <td>...</td>\n",
       "      <td>...</td>\n",
       "      <td>...</td>\n",
       "      <td>...</td>\n",
       "      <td>...</td>\n",
       "      <td>...</td>\n",
       "      <td>...</td>\n",
       "    </tr>\n",
       "    <tr>\n",
       "      <th>266</th>\n",
       "      <td>346.0</td>\n",
       "      <td>2.0</td>\n",
       "      <td>squash</td>\n",
       "      <td>6.0</td>\n",
       "      <td>6.0</td>\n",
       "      <td>49.0</td>\n",
       "      <td>4461.189941</td>\n",
       "      <td>0.122449</td>\n",
       "      <td>546.268188</td>\n",
       "    </tr>\n",
       "    <tr>\n",
       "      <th>267</th>\n",
       "      <td>347.0</td>\n",
       "      <td>2.0</td>\n",
       "      <td>squash</td>\n",
       "      <td>17.0</td>\n",
       "      <td>4.0</td>\n",
       "      <td>65.0</td>\n",
       "      <td>5933.020020</td>\n",
       "      <td>0.261538</td>\n",
       "      <td>1551.713013</td>\n",
       "    </tr>\n",
       "    <tr>\n",
       "      <th>268</th>\n",
       "      <td>348.0</td>\n",
       "      <td>2.0</td>\n",
       "      <td>squash</td>\n",
       "      <td>11.0</td>\n",
       "      <td>3.0</td>\n",
       "      <td>59.0</td>\n",
       "      <td>5073.270020</td>\n",
       "      <td>0.186441</td>\n",
       "      <td>945.863892</td>\n",
       "    </tr>\n",
       "    <tr>\n",
       "      <th>269</th>\n",
       "      <td>349.0</td>\n",
       "      <td>2.0</td>\n",
       "      <td>squash</td>\n",
       "      <td>2.0</td>\n",
       "      <td>1.0</td>\n",
       "      <td>38.0</td>\n",
       "      <td>3214.709961</td>\n",
       "      <td>0.052632</td>\n",
       "      <td>169.195267</td>\n",
       "    </tr>\n",
       "    <tr>\n",
       "      <th>270</th>\n",
       "      <td>350.0</td>\n",
       "      <td>2.0</td>\n",
       "      <td>squash</td>\n",
       "      <td>4.0</td>\n",
       "      <td>6.0</td>\n",
       "      <td>39.0</td>\n",
       "      <td>3429.110107</td>\n",
       "      <td>0.102564</td>\n",
       "      <td>351.703613</td>\n",
       "    </tr>\n",
       "  </tbody>\n",
       "</table>\n",
       "<p>271 rows × 9 columns</p>\n",
       "</div>"
      ],
      "text/plain": [
       "     farmer_id  crop_id crop_name  sale_amt_x  plotsize  sale_amt_y  \\\n",
       "0          1.0      2.0    squash        11.0       6.0        60.0   \n",
       "1          2.0      2.0    squash         3.0       3.0        63.0   \n",
       "2          3.0      2.0    squash         0.0       1.0        13.0   \n",
       "3          4.0      2.0    squash         5.0       3.0        52.0   \n",
       "4          5.0      2.0    squash         7.0       4.0        74.0   \n",
       "..         ...      ...       ...         ...       ...         ...   \n",
       "266      346.0      2.0    squash         6.0       6.0        49.0   \n",
       "267      347.0      2.0    squash        17.0       4.0        65.0   \n",
       "268      348.0      2.0    squash        11.0       3.0        59.0   \n",
       "269      349.0      2.0    squash         2.0       1.0        38.0   \n",
       "270      350.0      2.0    squash         4.0       6.0        39.0   \n",
       "\n",
       "          income  squash_prop   squash_amt  \n",
       "0    5311.379883     0.183333   973.752991  \n",
       "1    5415.399902     0.047619   257.876190  \n",
       "2    1184.719971     0.000000     0.000000  \n",
       "3    4585.189941     0.096154   440.883667  \n",
       "4    6658.770020     0.094595   629.883667  \n",
       "..           ...          ...          ...  \n",
       "266  4461.189941     0.122449   546.268188  \n",
       "267  5933.020020     0.261538  1551.713013  \n",
       "268  5073.270020     0.186441   945.863892  \n",
       "269  3214.709961     0.052632   169.195267  \n",
       "270  3429.110107     0.102564   351.703613  \n",
       "\n",
       "[271 rows x 9 columns]"
      ]
     },
     "execution_count": 220,
     "metadata": {},
     "output_type": "execute_result"
    }
   ],
   "source": [
    "farm_inc_minsquash"
   ]
  },
  {
   "cell_type": "code",
   "execution_count": 221,
   "id": "076ff71e",
   "metadata": {},
   "outputs": [
    {
     "data": {
      "text/plain": [
       "89.90679168701172"
      ]
     },
     "execution_count": 221,
     "metadata": {},
     "output_type": "execute_result"
    }
   ],
   "source": [
    "squash_price.mean()"
   ]
  },
  {
   "cell_type": "code",
   "execution_count": 222,
   "id": "8013bd75",
   "metadata": {},
   "outputs": [],
   "source": [
    "#the average price of squash is approx 90"
   ]
  },
  {
   "cell_type": "code",
   "execution_count": 223,
   "id": "d0c38857",
   "metadata": {},
   "outputs": [],
   "source": [
    "cocoa_farmers = farmer.loc[farmer['crop_name'] == \"cocoa\"]"
   ]
  },
  {
   "cell_type": "code",
   "execution_count": 224,
   "id": "a55110ba",
   "metadata": {},
   "outputs": [],
   "source": [
    "notcocoa_farmers= farmer.loc[farmer['crop_name'] != \"cocoa\"]"
   ]
  },
  {
   "cell_type": "code",
   "execution_count": 225,
   "id": "a44b4439",
   "metadata": {},
   "outputs": [
    {
     "data": {
      "text/plain": [
       "(2006, 5)"
      ]
     },
     "execution_count": 225,
     "metadata": {},
     "output_type": "execute_result"
    }
   ],
   "source": [
    "notcocoa_farmers.shape"
   ]
  },
  {
   "cell_type": "code",
   "execution_count": 226,
   "id": "5a4af889",
   "metadata": {},
   "outputs": [
    {
     "data": {
      "text/plain": [
       "(277, 5)"
      ]
     },
     "execution_count": 226,
     "metadata": {},
     "output_type": "execute_result"
    }
   ],
   "source": [
    "cocoa_farmers.shape"
   ]
  },
  {
   "cell_type": "code",
   "execution_count": 227,
   "id": "91dd83a5",
   "metadata": {},
   "outputs": [
    {
     "data": {
      "text/html": [
       "<div>\n",
       "<style scoped>\n",
       "    .dataframe tbody tr th:only-of-type {\n",
       "        vertical-align: middle;\n",
       "    }\n",
       "\n",
       "    .dataframe tbody tr th {\n",
       "        vertical-align: top;\n",
       "    }\n",
       "\n",
       "    .dataframe thead th {\n",
       "        text-align: right;\n",
       "    }\n",
       "</style>\n",
       "<table border=\"1\" class=\"dataframe\">\n",
       "  <thead>\n",
       "    <tr style=\"text-align: right;\">\n",
       "      <th></th>\n",
       "      <th>farmer_id</th>\n",
       "      <th>crop_id</th>\n",
       "      <th>crop_name</th>\n",
       "      <th>sale_amt</th>\n",
       "      <th>plotsize</th>\n",
       "    </tr>\n",
       "  </thead>\n",
       "  <tbody>\n",
       "    <tr>\n",
       "      <th>7</th>\n",
       "      <td>1.0</td>\n",
       "      <td>8.0</td>\n",
       "      <td>cocoa</td>\n",
       "      <td>5.0</td>\n",
       "      <td>6.0</td>\n",
       "    </tr>\n",
       "    <tr>\n",
       "      <th>15</th>\n",
       "      <td>2.0</td>\n",
       "      <td>8.0</td>\n",
       "      <td>cocoa</td>\n",
       "      <td>15.0</td>\n",
       "      <td>3.0</td>\n",
       "    </tr>\n",
       "    <tr>\n",
       "      <th>31</th>\n",
       "      <td>4.0</td>\n",
       "      <td>8.0</td>\n",
       "      <td>cocoa</td>\n",
       "      <td>8.0</td>\n",
       "      <td>7.0</td>\n",
       "    </tr>\n",
       "    <tr>\n",
       "      <th>39</th>\n",
       "      <td>5.0</td>\n",
       "      <td>8.0</td>\n",
       "      <td>cocoa</td>\n",
       "      <td>8.0</td>\n",
       "      <td>1.0</td>\n",
       "    </tr>\n",
       "    <tr>\n",
       "      <th>47</th>\n",
       "      <td>6.0</td>\n",
       "      <td>8.0</td>\n",
       "      <td>cocoa</td>\n",
       "      <td>11.0</td>\n",
       "      <td>11.0</td>\n",
       "    </tr>\n",
       "    <tr>\n",
       "      <th>...</th>\n",
       "      <td>...</td>\n",
       "      <td>...</td>\n",
       "      <td>...</td>\n",
       "      <td>...</td>\n",
       "      <td>...</td>\n",
       "    </tr>\n",
       "    <tr>\n",
       "      <th>2759</th>\n",
       "      <td>345.0</td>\n",
       "      <td>8.0</td>\n",
       "      <td>cocoa</td>\n",
       "      <td>11.0</td>\n",
       "      <td>3.0</td>\n",
       "    </tr>\n",
       "    <tr>\n",
       "      <th>2767</th>\n",
       "      <td>346.0</td>\n",
       "      <td>8.0</td>\n",
       "      <td>cocoa</td>\n",
       "      <td>9.0</td>\n",
       "      <td>1.0</td>\n",
       "    </tr>\n",
       "    <tr>\n",
       "      <th>2775</th>\n",
       "      <td>347.0</td>\n",
       "      <td>8.0</td>\n",
       "      <td>cocoa</td>\n",
       "      <td>2.0</td>\n",
       "      <td>3.0</td>\n",
       "    </tr>\n",
       "    <tr>\n",
       "      <th>2783</th>\n",
       "      <td>348.0</td>\n",
       "      <td>8.0</td>\n",
       "      <td>cocoa</td>\n",
       "      <td>7.0</td>\n",
       "      <td>5.0</td>\n",
       "    </tr>\n",
       "    <tr>\n",
       "      <th>2791</th>\n",
       "      <td>349.0</td>\n",
       "      <td>8.0</td>\n",
       "      <td>cocoa</td>\n",
       "      <td>7.0</td>\n",
       "      <td>5.0</td>\n",
       "    </tr>\n",
       "  </tbody>\n",
       "</table>\n",
       "<p>277 rows × 5 columns</p>\n",
       "</div>"
      ],
      "text/plain": [
       "      farmer_id  crop_id crop_name  sale_amt  plotsize\n",
       "7           1.0      8.0     cocoa       5.0       6.0\n",
       "15          2.0      8.0     cocoa      15.0       3.0\n",
       "31          4.0      8.0     cocoa       8.0       7.0\n",
       "39          5.0      8.0     cocoa       8.0       1.0\n",
       "47          6.0      8.0     cocoa      11.0      11.0\n",
       "...         ...      ...       ...       ...       ...\n",
       "2759      345.0      8.0     cocoa      11.0       3.0\n",
       "2767      346.0      8.0     cocoa       9.0       1.0\n",
       "2775      347.0      8.0     cocoa       2.0       3.0\n",
       "2783      348.0      8.0     cocoa       7.0       5.0\n",
       "2791      349.0      8.0     cocoa       7.0       5.0\n",
       "\n",
       "[277 rows x 5 columns]"
      ]
     },
     "execution_count": 227,
     "metadata": {},
     "output_type": "execute_result"
    }
   ],
   "source": [
    "cocoa_farmers"
   ]
  },
  {
   "cell_type": "code",
   "execution_count": 228,
   "id": "429394ce",
   "metadata": {},
   "outputs": [
    {
     "data": {
      "text/plain": [
       "277"
      ]
     },
     "execution_count": 228,
     "metadata": {},
     "output_type": "execute_result"
    }
   ],
   "source": [
    "cocoa_farmers.farmer_id.nunique()"
   ]
  },
  {
   "cell_type": "code",
   "execution_count": 229,
   "id": "ae0f22c5",
   "metadata": {},
   "outputs": [
    {
     "name": "stderr",
     "output_type": "stream",
     "text": [
      "<ipython-input-229-4ef325fe4645>:2: SettingWithCopyWarning: \n",
      "A value is trying to be set on a copy of a slice from a DataFrame.\n",
      "Try using .loc[row_indexer,col_indexer] = value instead\n",
      "\n",
      "See the caveats in the documentation: https://pandas.pydata.org/pandas-docs/stable/user_guide/indexing.html#returning-a-view-versus-a-copy\n",
      "  cocoa_farmers['cocoa_sales'] = cocoa_farmers['sale_amt'] * (80)\n"
     ]
    }
   ],
   "source": [
    "# create a new column\n",
    "cocoa_farmers['cocoa_sales'] = cocoa_farmers['sale_amt'] * (80)"
   ]
  },
  {
   "cell_type": "code",
   "execution_count": 230,
   "id": "a3f6a013",
   "metadata": {},
   "outputs": [
    {
     "data": {
      "text/html": [
       "<div>\n",
       "<style scoped>\n",
       "    .dataframe tbody tr th:only-of-type {\n",
       "        vertical-align: middle;\n",
       "    }\n",
       "\n",
       "    .dataframe tbody tr th {\n",
       "        vertical-align: top;\n",
       "    }\n",
       "\n",
       "    .dataframe thead th {\n",
       "        text-align: right;\n",
       "    }\n",
       "</style>\n",
       "<table border=\"1\" class=\"dataframe\">\n",
       "  <thead>\n",
       "    <tr style=\"text-align: right;\">\n",
       "      <th></th>\n",
       "      <th>farmer_id</th>\n",
       "      <th>crop_id</th>\n",
       "      <th>crop_name</th>\n",
       "      <th>sale_amt</th>\n",
       "      <th>plotsize</th>\n",
       "      <th>cocoa_sales</th>\n",
       "    </tr>\n",
       "  </thead>\n",
       "  <tbody>\n",
       "    <tr>\n",
       "      <th>7</th>\n",
       "      <td>1.0</td>\n",
       "      <td>8.0</td>\n",
       "      <td>cocoa</td>\n",
       "      <td>5.0</td>\n",
       "      <td>6.0</td>\n",
       "      <td>400.0</td>\n",
       "    </tr>\n",
       "    <tr>\n",
       "      <th>15</th>\n",
       "      <td>2.0</td>\n",
       "      <td>8.0</td>\n",
       "      <td>cocoa</td>\n",
       "      <td>15.0</td>\n",
       "      <td>3.0</td>\n",
       "      <td>1200.0</td>\n",
       "    </tr>\n",
       "    <tr>\n",
       "      <th>31</th>\n",
       "      <td>4.0</td>\n",
       "      <td>8.0</td>\n",
       "      <td>cocoa</td>\n",
       "      <td>8.0</td>\n",
       "      <td>7.0</td>\n",
       "      <td>640.0</td>\n",
       "    </tr>\n",
       "    <tr>\n",
       "      <th>39</th>\n",
       "      <td>5.0</td>\n",
       "      <td>8.0</td>\n",
       "      <td>cocoa</td>\n",
       "      <td>8.0</td>\n",
       "      <td>1.0</td>\n",
       "      <td>640.0</td>\n",
       "    </tr>\n",
       "    <tr>\n",
       "      <th>47</th>\n",
       "      <td>6.0</td>\n",
       "      <td>8.0</td>\n",
       "      <td>cocoa</td>\n",
       "      <td>11.0</td>\n",
       "      <td>11.0</td>\n",
       "      <td>880.0</td>\n",
       "    </tr>\n",
       "    <tr>\n",
       "      <th>...</th>\n",
       "      <td>...</td>\n",
       "      <td>...</td>\n",
       "      <td>...</td>\n",
       "      <td>...</td>\n",
       "      <td>...</td>\n",
       "      <td>...</td>\n",
       "    </tr>\n",
       "    <tr>\n",
       "      <th>2759</th>\n",
       "      <td>345.0</td>\n",
       "      <td>8.0</td>\n",
       "      <td>cocoa</td>\n",
       "      <td>11.0</td>\n",
       "      <td>3.0</td>\n",
       "      <td>880.0</td>\n",
       "    </tr>\n",
       "    <tr>\n",
       "      <th>2767</th>\n",
       "      <td>346.0</td>\n",
       "      <td>8.0</td>\n",
       "      <td>cocoa</td>\n",
       "      <td>9.0</td>\n",
       "      <td>1.0</td>\n",
       "      <td>720.0</td>\n",
       "    </tr>\n",
       "    <tr>\n",
       "      <th>2775</th>\n",
       "      <td>347.0</td>\n",
       "      <td>8.0</td>\n",
       "      <td>cocoa</td>\n",
       "      <td>2.0</td>\n",
       "      <td>3.0</td>\n",
       "      <td>160.0</td>\n",
       "    </tr>\n",
       "    <tr>\n",
       "      <th>2783</th>\n",
       "      <td>348.0</td>\n",
       "      <td>8.0</td>\n",
       "      <td>cocoa</td>\n",
       "      <td>7.0</td>\n",
       "      <td>5.0</td>\n",
       "      <td>560.0</td>\n",
       "    </tr>\n",
       "    <tr>\n",
       "      <th>2791</th>\n",
       "      <td>349.0</td>\n",
       "      <td>8.0</td>\n",
       "      <td>cocoa</td>\n",
       "      <td>7.0</td>\n",
       "      <td>5.0</td>\n",
       "      <td>560.0</td>\n",
       "    </tr>\n",
       "  </tbody>\n",
       "</table>\n",
       "<p>277 rows × 6 columns</p>\n",
       "</div>"
      ],
      "text/plain": [
       "      farmer_id  crop_id crop_name  sale_amt  plotsize  cocoa_sales\n",
       "7           1.0      8.0     cocoa       5.0       6.0        400.0\n",
       "15          2.0      8.0     cocoa      15.0       3.0       1200.0\n",
       "31          4.0      8.0     cocoa       8.0       7.0        640.0\n",
       "39          5.0      8.0     cocoa       8.0       1.0        640.0\n",
       "47          6.0      8.0     cocoa      11.0      11.0        880.0\n",
       "...         ...      ...       ...       ...       ...          ...\n",
       "2759      345.0      8.0     cocoa      11.0       3.0        880.0\n",
       "2767      346.0      8.0     cocoa       9.0       1.0        720.0\n",
       "2775      347.0      8.0     cocoa       2.0       3.0        160.0\n",
       "2783      348.0      8.0     cocoa       7.0       5.0        560.0\n",
       "2791      349.0      8.0     cocoa       7.0       5.0        560.0\n",
       "\n",
       "[277 rows x 6 columns]"
      ]
     },
     "execution_count": 230,
     "metadata": {},
     "output_type": "execute_result"
    }
   ],
   "source": [
    "cocoa_farmers"
   ]
  },
  {
   "cell_type": "code",
   "execution_count": 231,
   "id": "b27846a0",
   "metadata": {},
   "outputs": [],
   "source": [
    "left=cocoa_farmers\n",
    "right=income\n",
    "cocoa_income=pd.merge(left,right,on='farmer_id')"
   ]
  },
  {
   "cell_type": "code",
   "execution_count": 232,
   "id": "e0ea3933",
   "metadata": {},
   "outputs": [
    {
     "data": {
      "text/html": [
       "<div>\n",
       "<style scoped>\n",
       "    .dataframe tbody tr th:only-of-type {\n",
       "        vertical-align: middle;\n",
       "    }\n",
       "\n",
       "    .dataframe tbody tr th {\n",
       "        vertical-align: top;\n",
       "    }\n",
       "\n",
       "    .dataframe thead th {\n",
       "        text-align: right;\n",
       "    }\n",
       "</style>\n",
       "<table border=\"1\" class=\"dataframe\">\n",
       "  <thead>\n",
       "    <tr style=\"text-align: right;\">\n",
       "      <th></th>\n",
       "      <th>farmer_id</th>\n",
       "      <th>crop_id</th>\n",
       "      <th>crop_name</th>\n",
       "      <th>sale_amt</th>\n",
       "      <th>plotsize</th>\n",
       "      <th>cocoa_sales</th>\n",
       "      <th>income</th>\n",
       "    </tr>\n",
       "  </thead>\n",
       "  <tbody>\n",
       "    <tr>\n",
       "      <th>0</th>\n",
       "      <td>1.0</td>\n",
       "      <td>8.0</td>\n",
       "      <td>cocoa</td>\n",
       "      <td>5.0</td>\n",
       "      <td>6.0</td>\n",
       "      <td>400.0</td>\n",
       "      <td>5311.379883</td>\n",
       "    </tr>\n",
       "    <tr>\n",
       "      <th>1</th>\n",
       "      <td>2.0</td>\n",
       "      <td>8.0</td>\n",
       "      <td>cocoa</td>\n",
       "      <td>15.0</td>\n",
       "      <td>3.0</td>\n",
       "      <td>1200.0</td>\n",
       "      <td>5415.399902</td>\n",
       "    </tr>\n",
       "    <tr>\n",
       "      <th>2</th>\n",
       "      <td>4.0</td>\n",
       "      <td>8.0</td>\n",
       "      <td>cocoa</td>\n",
       "      <td>8.0</td>\n",
       "      <td>7.0</td>\n",
       "      <td>640.0</td>\n",
       "      <td>4585.189941</td>\n",
       "    </tr>\n",
       "    <tr>\n",
       "      <th>3</th>\n",
       "      <td>5.0</td>\n",
       "      <td>8.0</td>\n",
       "      <td>cocoa</td>\n",
       "      <td>8.0</td>\n",
       "      <td>1.0</td>\n",
       "      <td>640.0</td>\n",
       "      <td>6658.770020</td>\n",
       "    </tr>\n",
       "    <tr>\n",
       "      <th>4</th>\n",
       "      <td>6.0</td>\n",
       "      <td>8.0</td>\n",
       "      <td>cocoa</td>\n",
       "      <td>11.0</td>\n",
       "      <td>11.0</td>\n",
       "      <td>880.0</td>\n",
       "      <td>4162.689941</td>\n",
       "    </tr>\n",
       "    <tr>\n",
       "      <th>...</th>\n",
       "      <td>...</td>\n",
       "      <td>...</td>\n",
       "      <td>...</td>\n",
       "      <td>...</td>\n",
       "      <td>...</td>\n",
       "      <td>...</td>\n",
       "      <td>...</td>\n",
       "    </tr>\n",
       "    <tr>\n",
       "      <th>272</th>\n",
       "      <td>345.0</td>\n",
       "      <td>8.0</td>\n",
       "      <td>cocoa</td>\n",
       "      <td>11.0</td>\n",
       "      <td>3.0</td>\n",
       "      <td>880.0</td>\n",
       "      <td>3206.389893</td>\n",
       "    </tr>\n",
       "    <tr>\n",
       "      <th>273</th>\n",
       "      <td>346.0</td>\n",
       "      <td>8.0</td>\n",
       "      <td>cocoa</td>\n",
       "      <td>9.0</td>\n",
       "      <td>1.0</td>\n",
       "      <td>720.0</td>\n",
       "      <td>4461.189941</td>\n",
       "    </tr>\n",
       "    <tr>\n",
       "      <th>274</th>\n",
       "      <td>347.0</td>\n",
       "      <td>8.0</td>\n",
       "      <td>cocoa</td>\n",
       "      <td>2.0</td>\n",
       "      <td>3.0</td>\n",
       "      <td>160.0</td>\n",
       "      <td>5933.020020</td>\n",
       "    </tr>\n",
       "    <tr>\n",
       "      <th>275</th>\n",
       "      <td>348.0</td>\n",
       "      <td>8.0</td>\n",
       "      <td>cocoa</td>\n",
       "      <td>7.0</td>\n",
       "      <td>5.0</td>\n",
       "      <td>560.0</td>\n",
       "      <td>5073.270020</td>\n",
       "    </tr>\n",
       "    <tr>\n",
       "      <th>276</th>\n",
       "      <td>349.0</td>\n",
       "      <td>8.0</td>\n",
       "      <td>cocoa</td>\n",
       "      <td>7.0</td>\n",
       "      <td>5.0</td>\n",
       "      <td>560.0</td>\n",
       "      <td>3214.709961</td>\n",
       "    </tr>\n",
       "  </tbody>\n",
       "</table>\n",
       "<p>277 rows × 7 columns</p>\n",
       "</div>"
      ],
      "text/plain": [
       "     farmer_id  crop_id crop_name  sale_amt  plotsize  cocoa_sales  \\\n",
       "0          1.0      8.0     cocoa       5.0       6.0        400.0   \n",
       "1          2.0      8.0     cocoa      15.0       3.0       1200.0   \n",
       "2          4.0      8.0     cocoa       8.0       7.0        640.0   \n",
       "3          5.0      8.0     cocoa       8.0       1.0        640.0   \n",
       "4          6.0      8.0     cocoa      11.0      11.0        880.0   \n",
       "..         ...      ...       ...       ...       ...          ...   \n",
       "272      345.0      8.0     cocoa      11.0       3.0        880.0   \n",
       "273      346.0      8.0     cocoa       9.0       1.0        720.0   \n",
       "274      347.0      8.0     cocoa       2.0       3.0        160.0   \n",
       "275      348.0      8.0     cocoa       7.0       5.0        560.0   \n",
       "276      349.0      8.0     cocoa       7.0       5.0        560.0   \n",
       "\n",
       "          income  \n",
       "0    5311.379883  \n",
       "1    5415.399902  \n",
       "2    4585.189941  \n",
       "3    6658.770020  \n",
       "4    4162.689941  \n",
       "..           ...  \n",
       "272  3206.389893  \n",
       "273  4461.189941  \n",
       "274  5933.020020  \n",
       "275  5073.270020  \n",
       "276  3214.709961  \n",
       "\n",
       "[277 rows x 7 columns]"
      ]
     },
     "execution_count": 232,
     "metadata": {},
     "output_type": "execute_result"
    }
   ],
   "source": [
    "cocoa_income"
   ]
  },
  {
   "cell_type": "code",
   "execution_count": 233,
   "id": "7401a4bc",
   "metadata": {},
   "outputs": [],
   "source": [
    "left=notcocoa_farmers\n",
    "right=income\n",
    "notcocoa_income=pd.merge(left,right,on='farmer_id')"
   ]
  },
  {
   "cell_type": "code",
   "execution_count": 234,
   "id": "259635b2",
   "metadata": {},
   "outputs": [
    {
     "data": {
      "text/html": [
       "<div>\n",
       "<style scoped>\n",
       "    .dataframe tbody tr th:only-of-type {\n",
       "        vertical-align: middle;\n",
       "    }\n",
       "\n",
       "    .dataframe tbody tr th {\n",
       "        vertical-align: top;\n",
       "    }\n",
       "\n",
       "    .dataframe thead th {\n",
       "        text-align: right;\n",
       "    }\n",
       "</style>\n",
       "<table border=\"1\" class=\"dataframe\">\n",
       "  <thead>\n",
       "    <tr style=\"text-align: right;\">\n",
       "      <th></th>\n",
       "      <th>farmer_id</th>\n",
       "      <th>crop_id</th>\n",
       "      <th>crop_name</th>\n",
       "      <th>sale_amt</th>\n",
       "      <th>plotsize</th>\n",
       "      <th>income</th>\n",
       "    </tr>\n",
       "  </thead>\n",
       "  <tbody>\n",
       "    <tr>\n",
       "      <th>0</th>\n",
       "      <td>1.0</td>\n",
       "      <td>1.0</td>\n",
       "      <td>corn</td>\n",
       "      <td>9.0</td>\n",
       "      <td>12.0</td>\n",
       "      <td>5311.379883</td>\n",
       "    </tr>\n",
       "    <tr>\n",
       "      <th>1</th>\n",
       "      <td>1.0</td>\n",
       "      <td>2.0</td>\n",
       "      <td>squash</td>\n",
       "      <td>11.0</td>\n",
       "      <td>6.0</td>\n",
       "      <td>5311.379883</td>\n",
       "    </tr>\n",
       "    <tr>\n",
       "      <th>2</th>\n",
       "      <td>1.0</td>\n",
       "      <td>4.0</td>\n",
       "      <td>tomato</td>\n",
       "      <td>10.0</td>\n",
       "      <td>7.0</td>\n",
       "      <td>5311.379883</td>\n",
       "    </tr>\n",
       "    <tr>\n",
       "      <th>3</th>\n",
       "      <td>1.0</td>\n",
       "      <td>5.0</td>\n",
       "      <td>groundnut</td>\n",
       "      <td>11.0</td>\n",
       "      <td>4.0</td>\n",
       "      <td>5311.379883</td>\n",
       "    </tr>\n",
       "    <tr>\n",
       "      <th>4</th>\n",
       "      <td>1.0</td>\n",
       "      <td>6.0</td>\n",
       "      <td>shea</td>\n",
       "      <td>11.0</td>\n",
       "      <td>1.0</td>\n",
       "      <td>5311.379883</td>\n",
       "    </tr>\n",
       "    <tr>\n",
       "      <th>...</th>\n",
       "      <td>...</td>\n",
       "      <td>...</td>\n",
       "      <td>...</td>\n",
       "      <td>...</td>\n",
       "      <td>...</td>\n",
       "      <td>...</td>\n",
       "    </tr>\n",
       "    <tr>\n",
       "      <th>2001</th>\n",
       "      <td>350.0</td>\n",
       "      <td>2.0</td>\n",
       "      <td>squash</td>\n",
       "      <td>4.0</td>\n",
       "      <td>6.0</td>\n",
       "      <td>3429.110107</td>\n",
       "    </tr>\n",
       "    <tr>\n",
       "      <th>2002</th>\n",
       "      <td>350.0</td>\n",
       "      <td>3.0</td>\n",
       "      <td>pumpkin</td>\n",
       "      <td>14.0</td>\n",
       "      <td>1.0</td>\n",
       "      <td>3429.110107</td>\n",
       "    </tr>\n",
       "    <tr>\n",
       "      <th>2003</th>\n",
       "      <td>350.0</td>\n",
       "      <td>5.0</td>\n",
       "      <td>groundnut</td>\n",
       "      <td>3.0</td>\n",
       "      <td>3.0</td>\n",
       "      <td>3429.110107</td>\n",
       "    </tr>\n",
       "    <tr>\n",
       "      <th>2004</th>\n",
       "      <td>350.0</td>\n",
       "      <td>6.0</td>\n",
       "      <td>shea</td>\n",
       "      <td>8.0</td>\n",
       "      <td>9.0</td>\n",
       "      <td>3429.110107</td>\n",
       "    </tr>\n",
       "    <tr>\n",
       "      <th>2005</th>\n",
       "      <td>350.0</td>\n",
       "      <td>7.0</td>\n",
       "      <td>barley</td>\n",
       "      <td>1.0</td>\n",
       "      <td>6.0</td>\n",
       "      <td>3429.110107</td>\n",
       "    </tr>\n",
       "  </tbody>\n",
       "</table>\n",
       "<p>2006 rows × 6 columns</p>\n",
       "</div>"
      ],
      "text/plain": [
       "      farmer_id  crop_id  crop_name  sale_amt  plotsize       income\n",
       "0           1.0      1.0       corn       9.0      12.0  5311.379883\n",
       "1           1.0      2.0     squash      11.0       6.0  5311.379883\n",
       "2           1.0      4.0     tomato      10.0       7.0  5311.379883\n",
       "3           1.0      5.0  groundnut      11.0       4.0  5311.379883\n",
       "4           1.0      6.0       shea      11.0       1.0  5311.379883\n",
       "...         ...      ...        ...       ...       ...          ...\n",
       "2001      350.0      2.0     squash       4.0       6.0  3429.110107\n",
       "2002      350.0      3.0    pumpkin      14.0       1.0  3429.110107\n",
       "2003      350.0      5.0  groundnut       3.0       3.0  3429.110107\n",
       "2004      350.0      6.0       shea       8.0       9.0  3429.110107\n",
       "2005      350.0      7.0     barley       1.0       6.0  3429.110107\n",
       "\n",
       "[2006 rows x 6 columns]"
      ]
     },
     "execution_count": 234,
     "metadata": {},
     "output_type": "execute_result"
    }
   ],
   "source": [
    "notcocoa_income"
   ]
  },
  {
   "cell_type": "code",
   "execution_count": 235,
   "id": "1d0cd313",
   "metadata": {},
   "outputs": [],
   "source": [
    "#INDEPDENT T-TEST USING SCIPY.STATS between cocoa and non cocoa growers"
   ]
  },
  {
   "cell_type": "code",
   "execution_count": 236,
   "id": "6b3c2837",
   "metadata": {},
   "outputs": [
    {
     "data": {
      "text/plain": [
       "Ttest_indResult(statistic=-0.38055853740735507, pvalue=0.7035662881517517)"
      ]
     },
     "execution_count": 236,
     "metadata": {},
     "output_type": "execute_result"
    }
   ],
   "source": [
    "stats.ttest_ind(cocoa_income['income'],\n",
    "                notcocoa_income['income'])"
   ]
  },
  {
   "cell_type": "code",
   "execution_count": 237,
   "id": "c62efd9f",
   "metadata": {},
   "outputs": [],
   "source": [
    "#There is no statistically significant difference between cocoa growers and non cocoa growers"
   ]
  },
  {
   "cell_type": "code",
   "execution_count": 238,
   "id": "ea1d70af",
   "metadata": {},
   "outputs": [
    {
     "data": {
      "text/plain": [
       "(   Variable       N         Mean           SD         SE    95% Conf.  \\\n",
       " 0     cocoa   277.0  4698.905762  1551.667603  93.230700  4515.372147   \n",
       " 1  noncocoa  2006.0  4737.020508  1563.455200  34.907599  4668.561545   \n",
       " 2  combined  2283.0  4732.389160  1561.740845  32.685571  4668.292621   \n",
       " \n",
       "       Interval  \n",
       " 0  4882.439377  \n",
       " 1  4805.479471  \n",
       " 2  4796.485699  ,\n",
       "                  Independent t-test    results\n",
       " 0  Difference (cocoa - noncocoa) =    -38.1147\n",
       " 1             Degrees of freedom =   2281.0000\n",
       " 2                              t =     -0.3806\n",
       " 3          Two side test p value =      0.7036\n",
       " 4         Difference < 0 p value =      0.3518\n",
       " 5         Difference > 0 p value =      0.6482\n",
       " 6                      Cohen's d =     -0.0244\n",
       " 7                      Hedge's g =     -0.0244\n",
       " 8                  Glass's delta =     -0.0246\n",
       " 9                    Pearson's r =      0.0080)"
      ]
     },
     "execution_count": 238,
     "metadata": {},
     "output_type": "execute_result"
    }
   ],
   "source": [
    "#INDEPDENT T-TEST USING RESEARCHPY\n",
    "rp.ttest(group1=cocoa_income['income'],group1_name=\"cocoa\",\n",
    "                group2=notcocoa_income['income'],group2_name=\"noncocoa\")"
   ]
  },
  {
   "cell_type": "code",
   "execution_count": 239,
   "id": "52620fc5",
   "metadata": {},
   "outputs": [
    {
     "data": {
      "text/html": [
       "<div>\n",
       "<style scoped>\n",
       "    .dataframe tbody tr th:only-of-type {\n",
       "        vertical-align: middle;\n",
       "    }\n",
       "\n",
       "    .dataframe tbody tr th {\n",
       "        vertical-align: top;\n",
       "    }\n",
       "\n",
       "    .dataframe thead th {\n",
       "        text-align: right;\n",
       "    }\n",
       "</style>\n",
       "<table border=\"1\" class=\"dataframe\">\n",
       "  <thead>\n",
       "    <tr style=\"text-align: right;\">\n",
       "      <th></th>\n",
       "      <th>Variable</th>\n",
       "      <th>N</th>\n",
       "      <th>Mean</th>\n",
       "      <th>SD</th>\n",
       "      <th>SE</th>\n",
       "      <th>95% Conf.</th>\n",
       "      <th>Interval</th>\n",
       "    </tr>\n",
       "  </thead>\n",
       "  <tbody>\n",
       "    <tr>\n",
       "      <th>0</th>\n",
       "      <td>cocoa</td>\n",
       "      <td>277.0</td>\n",
       "      <td>4698.905762</td>\n",
       "      <td>1551.667603</td>\n",
       "      <td>93.230700</td>\n",
       "      <td>4515.372147</td>\n",
       "      <td>4882.439377</td>\n",
       "    </tr>\n",
       "    <tr>\n",
       "      <th>1</th>\n",
       "      <td>noncocoa</td>\n",
       "      <td>2006.0</td>\n",
       "      <td>4737.020508</td>\n",
       "      <td>1563.455200</td>\n",
       "      <td>34.907599</td>\n",
       "      <td>4668.561545</td>\n",
       "      <td>4805.479471</td>\n",
       "    </tr>\n",
       "    <tr>\n",
       "      <th>2</th>\n",
       "      <td>combined</td>\n",
       "      <td>2283.0</td>\n",
       "      <td>4732.389160</td>\n",
       "      <td>1561.740845</td>\n",
       "      <td>32.685571</td>\n",
       "      <td>4668.292621</td>\n",
       "      <td>4796.485699</td>\n",
       "    </tr>\n",
       "  </tbody>\n",
       "</table>\n",
       "</div>"
      ],
      "text/plain": [
       "   Variable       N         Mean           SD         SE    95% Conf.  \\\n",
       "0     cocoa   277.0  4698.905762  1551.667603  93.230700  4515.372147   \n",
       "1  noncocoa  2006.0  4737.020508  1563.455200  34.907599  4668.561545   \n",
       "2  combined  2283.0  4732.389160  1561.740845  32.685571  4668.292621   \n",
       "\n",
       "      Interval  \n",
       "0  4882.439377  \n",
       "1  4805.479471  \n",
       "2  4796.485699  "
      ]
     },
     "execution_count": 239,
     "metadata": {},
     "output_type": "execute_result"
    }
   ],
   "source": [
    "summary,results=rp.ttest(group1=cocoa_income['income'],group1_name=\"cocoa\",\n",
    "                group2=notcocoa_income['income'],group2_name=\"noncocoa\")\n",
    "summary"
   ]
  },
  {
   "cell_type": "code",
   "execution_count": 240,
   "id": "6301d6b5",
   "metadata": {},
   "outputs": [
    {
     "data": {
      "text/html": [
       "<div>\n",
       "<style scoped>\n",
       "    .dataframe tbody tr th:only-of-type {\n",
       "        vertical-align: middle;\n",
       "    }\n",
       "\n",
       "    .dataframe tbody tr th {\n",
       "        vertical-align: top;\n",
       "    }\n",
       "\n",
       "    .dataframe thead th {\n",
       "        text-align: right;\n",
       "    }\n",
       "</style>\n",
       "<table border=\"1\" class=\"dataframe\">\n",
       "  <thead>\n",
       "    <tr style=\"text-align: right;\">\n",
       "      <th></th>\n",
       "      <th>Independent t-test</th>\n",
       "      <th>results</th>\n",
       "    </tr>\n",
       "  </thead>\n",
       "  <tbody>\n",
       "    <tr>\n",
       "      <th>0</th>\n",
       "      <td>Difference (cocoa - noncocoa) =</td>\n",
       "      <td>-38.1147</td>\n",
       "    </tr>\n",
       "    <tr>\n",
       "      <th>1</th>\n",
       "      <td>Degrees of freedom =</td>\n",
       "      <td>2281.0000</td>\n",
       "    </tr>\n",
       "    <tr>\n",
       "      <th>2</th>\n",
       "      <td>t =</td>\n",
       "      <td>-0.3806</td>\n",
       "    </tr>\n",
       "    <tr>\n",
       "      <th>3</th>\n",
       "      <td>Two side test p value =</td>\n",
       "      <td>0.7036</td>\n",
       "    </tr>\n",
       "    <tr>\n",
       "      <th>4</th>\n",
       "      <td>Difference &lt; 0 p value =</td>\n",
       "      <td>0.3518</td>\n",
       "    </tr>\n",
       "    <tr>\n",
       "      <th>5</th>\n",
       "      <td>Difference &gt; 0 p value =</td>\n",
       "      <td>0.6482</td>\n",
       "    </tr>\n",
       "    <tr>\n",
       "      <th>6</th>\n",
       "      <td>Cohen's d =</td>\n",
       "      <td>-0.0244</td>\n",
       "    </tr>\n",
       "    <tr>\n",
       "      <th>7</th>\n",
       "      <td>Hedge's g =</td>\n",
       "      <td>-0.0244</td>\n",
       "    </tr>\n",
       "    <tr>\n",
       "      <th>8</th>\n",
       "      <td>Glass's delta =</td>\n",
       "      <td>-0.0246</td>\n",
       "    </tr>\n",
       "    <tr>\n",
       "      <th>9</th>\n",
       "      <td>Pearson's r =</td>\n",
       "      <td>0.0080</td>\n",
       "    </tr>\n",
       "  </tbody>\n",
       "</table>\n",
       "</div>"
      ],
      "text/plain": [
       "                 Independent t-test    results\n",
       "0  Difference (cocoa - noncocoa) =    -38.1147\n",
       "1             Degrees of freedom =   2281.0000\n",
       "2                              t =     -0.3806\n",
       "3          Two side test p value =      0.7036\n",
       "4         Difference < 0 p value =      0.3518\n",
       "5         Difference > 0 p value =      0.6482\n",
       "6                      Cohen's d =     -0.0244\n",
       "7                      Hedge's g =     -0.0244\n",
       "8                  Glass's delta =     -0.0246\n",
       "9                    Pearson's r =      0.0080"
      ]
     },
     "execution_count": 240,
     "metadata": {},
     "output_type": "execute_result"
    }
   ],
   "source": [
    "results"
   ]
  },
  {
   "cell_type": "code",
   "execution_count": 241,
   "id": "285b273c",
   "metadata": {},
   "outputs": [
    {
     "data": {
      "text/plain": [
       "ShapiroResult(statistic=0.9898956418037415, pvalue=0.05178564786911011)"
      ]
     },
     "execution_count": 241,
     "metadata": {},
     "output_type": "execute_result"
    }
   ],
   "source": [
    "#ASSUMPTION CHECK\n",
    "stats.shapiro(cocoa_income.income)\n"
   ]
  },
  {
   "cell_type": "code",
   "execution_count": 242,
   "id": "4c0a6a33",
   "metadata": {},
   "outputs": [
    {
     "data": {
      "text/plain": [
       "ShapiroResult(statistic=0.9913948178291321, pvalue=1.6431640492697852e-09)"
      ]
     },
     "execution_count": 242,
     "metadata": {},
     "output_type": "execute_result"
    }
   ],
   "source": [
    "stats.shapiro(notcocoa_income.income)"
   ]
  },
  {
   "cell_type": "code",
   "execution_count": 243,
   "id": "ee40e8df",
   "metadata": {},
   "outputs": [
    {
     "data": {
      "text/plain": [
       "LeveneResult(statistic=0.009661027137178632, pvalue=0.9217102385331829)"
      ]
     },
     "execution_count": 243,
     "metadata": {},
     "output_type": "execute_result"
    }
   ],
   "source": [
    "#homogeneity f variance via levines test\n",
    "stats.levene(cocoa_income['income'],\n",
    "             notcocoa_income['income'],\n",
    "             center= 'mean')"
   ]
  },
  {
   "cell_type": "code",
   "execution_count": 244,
   "id": "2ff29343",
   "metadata": {},
   "outputs": [],
   "source": [
    "vitamins=pd.read_stata(r'C:\\Users\\user\\Desktop\\IPA Stata Test for Hiring Candidates (1)\\IPA Stata Test for Hiring Candidates\\Part 2\\B\\vitamins.dta')"
   ]
  },
  {
   "cell_type": "code",
   "execution_count": 245,
   "id": "853509fa",
   "metadata": {},
   "outputs": [
    {
     "data": {
      "text/html": [
       "<div>\n",
       "<style scoped>\n",
       "    .dataframe tbody tr th:only-of-type {\n",
       "        vertical-align: middle;\n",
       "    }\n",
       "\n",
       "    .dataframe tbody tr th {\n",
       "        vertical-align: top;\n",
       "    }\n",
       "\n",
       "    .dataframe thead th {\n",
       "        text-align: right;\n",
       "    }\n",
       "</style>\n",
       "<table border=\"1\" class=\"dataframe\">\n",
       "  <thead>\n",
       "    <tr style=\"text-align: right;\">\n",
       "      <th></th>\n",
       "      <th>treat</th>\n",
       "      <th>time</th>\n",
       "      <th>supplement</th>\n",
       "    </tr>\n",
       "  </thead>\n",
       "  <tbody>\n",
       "    <tr>\n",
       "      <th>0</th>\n",
       "      <td>1.0</td>\n",
       "      <td>2.35</td>\n",
       "      <td>B</td>\n",
       "    </tr>\n",
       "    <tr>\n",
       "      <th>1</th>\n",
       "      <td>1.0</td>\n",
       "      <td>4.13</td>\n",
       "      <td>B</td>\n",
       "    </tr>\n",
       "    <tr>\n",
       "      <th>2</th>\n",
       "      <td>0.0</td>\n",
       "      <td>5.26</td>\n",
       "      <td></td>\n",
       "    </tr>\n",
       "    <tr>\n",
       "      <th>3</th>\n",
       "      <td>1.0</td>\n",
       "      <td>3.45</td>\n",
       "      <td>B</td>\n",
       "    </tr>\n",
       "    <tr>\n",
       "      <th>4</th>\n",
       "      <td>1.0</td>\n",
       "      <td>3.29</td>\n",
       "      <td>A</td>\n",
       "    </tr>\n",
       "  </tbody>\n",
       "</table>\n",
       "</div>"
      ],
      "text/plain": [
       "   treat  time supplement\n",
       "0    1.0  2.35          B\n",
       "1    1.0  4.13          B\n",
       "2    0.0  5.26           \n",
       "3    1.0  3.45          B\n",
       "4    1.0  3.29          A"
      ]
     },
     "execution_count": 245,
     "metadata": {},
     "output_type": "execute_result"
    }
   ],
   "source": [
    "vitamins.head()"
   ]
  },
  {
   "cell_type": "code",
   "execution_count": 246,
   "id": "4f6bb43f",
   "metadata": {},
   "outputs": [
    {
     "name": "stdout",
     "output_type": "stream",
     "text": [
      "<class 'pandas.core.frame.DataFrame'>\n",
      "Int64Index: 500 entries, 0 to 499\n",
      "Data columns (total 3 columns):\n",
      " #   Column      Non-Null Count  Dtype  \n",
      "---  ------      --------------  -----  \n",
      " 0   treat       500 non-null    float32\n",
      " 1   time        500 non-null    float64\n",
      " 2   supplement  500 non-null    object \n",
      "dtypes: float32(1), float64(1), object(1)\n",
      "memory usage: 13.7+ KB\n"
     ]
    }
   ],
   "source": [
    "vitamins.info()"
   ]
  },
  {
   "cell_type": "code",
   "execution_count": 247,
   "id": "36c3f7a9",
   "metadata": {},
   "outputs": [],
   "source": [
    "vitamins.time= vitamins.time.round(2)"
   ]
  },
  {
   "cell_type": "code",
   "execution_count": 248,
   "id": "f3e401dc",
   "metadata": {},
   "outputs": [
    {
     "data": {
      "text/html": [
       "<div>\n",
       "<style scoped>\n",
       "    .dataframe tbody tr th:only-of-type {\n",
       "        vertical-align: middle;\n",
       "    }\n",
       "\n",
       "    .dataframe tbody tr th {\n",
       "        vertical-align: top;\n",
       "    }\n",
       "\n",
       "    .dataframe thead th {\n",
       "        text-align: right;\n",
       "    }\n",
       "</style>\n",
       "<table border=\"1\" class=\"dataframe\">\n",
       "  <thead>\n",
       "    <tr style=\"text-align: right;\">\n",
       "      <th></th>\n",
       "      <th>treat</th>\n",
       "      <th>time</th>\n",
       "      <th>supplement</th>\n",
       "    </tr>\n",
       "  </thead>\n",
       "  <tbody>\n",
       "    <tr>\n",
       "      <th>0</th>\n",
       "      <td>1.0</td>\n",
       "      <td>2.35</td>\n",
       "      <td>B</td>\n",
       "    </tr>\n",
       "    <tr>\n",
       "      <th>1</th>\n",
       "      <td>1.0</td>\n",
       "      <td>4.13</td>\n",
       "      <td>B</td>\n",
       "    </tr>\n",
       "    <tr>\n",
       "      <th>2</th>\n",
       "      <td>0.0</td>\n",
       "      <td>5.26</td>\n",
       "      <td></td>\n",
       "    </tr>\n",
       "    <tr>\n",
       "      <th>3</th>\n",
       "      <td>1.0</td>\n",
       "      <td>3.45</td>\n",
       "      <td>B</td>\n",
       "    </tr>\n",
       "    <tr>\n",
       "      <th>4</th>\n",
       "      <td>1.0</td>\n",
       "      <td>3.29</td>\n",
       "      <td>A</td>\n",
       "    </tr>\n",
       "  </tbody>\n",
       "</table>\n",
       "</div>"
      ],
      "text/plain": [
       "   treat  time supplement\n",
       "0    1.0  2.35          B\n",
       "1    1.0  4.13          B\n",
       "2    0.0  5.26           \n",
       "3    1.0  3.45          B\n",
       "4    1.0  3.29          A"
      ]
     },
     "execution_count": 248,
     "metadata": {},
     "output_type": "execute_result"
    }
   ],
   "source": [
    "vitamins.head()"
   ]
  },
  {
   "cell_type": "code",
   "execution_count": 249,
   "id": "01b06f1a",
   "metadata": {},
   "outputs": [],
   "source": [
    "vitamins.to_csv('vitamins2.csv')"
   ]
  },
  {
   "cell_type": "code",
   "execution_count": 250,
   "id": "4fd8b809",
   "metadata": {},
   "outputs": [],
   "source": [
    "vitamins.time=vitamins.time.astype(str)"
   ]
  },
  {
   "cell_type": "code",
   "execution_count": 251,
   "id": "bb2704fe",
   "metadata": {},
   "outputs": [
    {
     "name": "stdout",
     "output_type": "stream",
     "text": [
      "<class 'pandas.core.frame.DataFrame'>\n",
      "Int64Index: 500 entries, 0 to 499\n",
      "Data columns (total 3 columns):\n",
      " #   Column      Non-Null Count  Dtype  \n",
      "---  ------      --------------  -----  \n",
      " 0   treat       500 non-null    float32\n",
      " 1   time        500 non-null    object \n",
      " 2   supplement  500 non-null    object \n",
      "dtypes: float32(1), object(2)\n",
      "memory usage: 13.7+ KB\n"
     ]
    }
   ],
   "source": [
    "vitamins.info()"
   ]
  },
  {
   "cell_type": "code",
   "execution_count": 252,
   "id": "f7088657",
   "metadata": {},
   "outputs": [],
   "source": [
    "def time_convert(x):\n",
    "    m,s = map(int,x.split('.'))\n",
    "    return (m*60)+s\n",
    "\n",
    "vitamins['secs']=vitamins.time.apply(time_convert)"
   ]
  },
  {
   "cell_type": "code",
   "execution_count": 253,
   "id": "23991e04",
   "metadata": {},
   "outputs": [
    {
     "data": {
      "text/html": [
       "<div>\n",
       "<style scoped>\n",
       "    .dataframe tbody tr th:only-of-type {\n",
       "        vertical-align: middle;\n",
       "    }\n",
       "\n",
       "    .dataframe tbody tr th {\n",
       "        vertical-align: top;\n",
       "    }\n",
       "\n",
       "    .dataframe thead th {\n",
       "        text-align: right;\n",
       "    }\n",
       "</style>\n",
       "<table border=\"1\" class=\"dataframe\">\n",
       "  <thead>\n",
       "    <tr style=\"text-align: right;\">\n",
       "      <th></th>\n",
       "      <th>treat</th>\n",
       "      <th>time</th>\n",
       "      <th>supplement</th>\n",
       "      <th>secs</th>\n",
       "    </tr>\n",
       "  </thead>\n",
       "  <tbody>\n",
       "    <tr>\n",
       "      <th>0</th>\n",
       "      <td>1.0</td>\n",
       "      <td>2.35</td>\n",
       "      <td>B</td>\n",
       "      <td>155</td>\n",
       "    </tr>\n",
       "    <tr>\n",
       "      <th>1</th>\n",
       "      <td>1.0</td>\n",
       "      <td>4.13</td>\n",
       "      <td>B</td>\n",
       "      <td>253</td>\n",
       "    </tr>\n",
       "    <tr>\n",
       "      <th>2</th>\n",
       "      <td>0.0</td>\n",
       "      <td>5.26</td>\n",
       "      <td></td>\n",
       "      <td>326</td>\n",
       "    </tr>\n",
       "    <tr>\n",
       "      <th>3</th>\n",
       "      <td>1.0</td>\n",
       "      <td>3.45</td>\n",
       "      <td>B</td>\n",
       "      <td>225</td>\n",
       "    </tr>\n",
       "    <tr>\n",
       "      <th>4</th>\n",
       "      <td>1.0</td>\n",
       "      <td>3.29</td>\n",
       "      <td>A</td>\n",
       "      <td>209</td>\n",
       "    </tr>\n",
       "  </tbody>\n",
       "</table>\n",
       "</div>"
      ],
      "text/plain": [
       "   treat  time supplement  secs\n",
       "0    1.0  2.35          B   155\n",
       "1    1.0  4.13          B   253\n",
       "2    0.0  5.26              326\n",
       "3    1.0  3.45          B   225\n",
       "4    1.0  3.29          A   209"
      ]
     },
     "execution_count": 253,
     "metadata": {},
     "output_type": "execute_result"
    }
   ],
   "source": [
    "vitamins.head()"
   ]
  },
  {
   "cell_type": "code",
   "execution_count": 254,
   "id": "6ffb1974",
   "metadata": {},
   "outputs": [
    {
     "name": "stdout",
     "output_type": "stream",
     "text": [
      "<class 'pandas.core.frame.DataFrame'>\n",
      "Int64Index: 500 entries, 0 to 499\n",
      "Data columns (total 4 columns):\n",
      " #   Column      Non-Null Count  Dtype  \n",
      "---  ------      --------------  -----  \n",
      " 0   treat       500 non-null    float32\n",
      " 1   time        500 non-null    object \n",
      " 2   supplement  500 non-null    object \n",
      " 3   secs        500 non-null    int64  \n",
      "dtypes: float32(1), int64(1), object(2)\n",
      "memory usage: 17.6+ KB\n"
     ]
    }
   ],
   "source": [
    "vitamins.info()"
   ]
  },
  {
   "cell_type": "code",
   "execution_count": 255,
   "id": "1f662f87",
   "metadata": {},
   "outputs": [
    {
     "data": {
      "text/plain": [
       "234.228"
      ]
     },
     "execution_count": 255,
     "metadata": {},
     "output_type": "execute_result"
    }
   ],
   "source": [
    "#The average solve times in seconds is..\n",
    "vitamins.secs.mean()"
   ]
  },
  {
   "cell_type": "code",
   "execution_count": 256,
   "id": "1754aa48",
   "metadata": {},
   "outputs": [],
   "source": [
    "#convert variable treat into categorical\n",
    "vitamins.treat=vitamins.treat.astype(str)"
   ]
  },
  {
   "cell_type": "code",
   "execution_count": 257,
   "id": "c8fd9522",
   "metadata": {},
   "outputs": [],
   "source": [
    "#Subsetting the Data\n",
    "treatment = vitamins.query('treat == \"1.0\"')['secs']\n",
    "control = vitamins.query('treat == \"0.0\"')['secs']"
   ]
  },
  {
   "cell_type": "code",
   "execution_count": 258,
   "id": "56737845",
   "metadata": {},
   "outputs": [],
   "source": [
    "#Descriptive statistics\n"
   ]
  },
  {
   "cell_type": "code",
   "execution_count": 259,
   "id": "41b9ad66",
   "metadata": {},
   "outputs": [
    {
     "data": {
      "text/html": [
       "<div>\n",
       "<style scoped>\n",
       "    .dataframe tbody tr th:only-of-type {\n",
       "        vertical-align: middle;\n",
       "    }\n",
       "\n",
       "    .dataframe tbody tr th {\n",
       "        vertical-align: top;\n",
       "    }\n",
       "\n",
       "    .dataframe thead tr th {\n",
       "        text-align: left;\n",
       "    }\n",
       "\n",
       "    .dataframe thead tr:last-of-type th {\n",
       "        text-align: right;\n",
       "    }\n",
       "</style>\n",
       "<table border=\"1\" class=\"dataframe\">\n",
       "  <thead>\n",
       "    <tr>\n",
       "      <th></th>\n",
       "      <th colspan=\"8\" halign=\"left\">secs</th>\n",
       "    </tr>\n",
       "    <tr>\n",
       "      <th></th>\n",
       "      <th>count</th>\n",
       "      <th>mean</th>\n",
       "      <th>std</th>\n",
       "      <th>min</th>\n",
       "      <th>25%</th>\n",
       "      <th>50%</th>\n",
       "      <th>75%</th>\n",
       "      <th>max</th>\n",
       "    </tr>\n",
       "    <tr>\n",
       "      <th>treat</th>\n",
       "      <th></th>\n",
       "      <th></th>\n",
       "      <th></th>\n",
       "      <th></th>\n",
       "      <th></th>\n",
       "      <th></th>\n",
       "      <th></th>\n",
       "      <th></th>\n",
       "    </tr>\n",
       "  </thead>\n",
       "  <tbody>\n",
       "    <tr>\n",
       "      <th>0.0</th>\n",
       "      <td>260.0</td>\n",
       "      <td>237.896154</td>\n",
       "      <td>61.148600</td>\n",
       "      <td>60.0</td>\n",
       "      <td>196.0</td>\n",
       "      <td>232.0</td>\n",
       "      <td>281.0</td>\n",
       "      <td>396.0</td>\n",
       "    </tr>\n",
       "    <tr>\n",
       "      <th>1.0</th>\n",
       "      <td>240.0</td>\n",
       "      <td>230.254167</td>\n",
       "      <td>42.263345</td>\n",
       "      <td>123.0</td>\n",
       "      <td>198.0</td>\n",
       "      <td>225.0</td>\n",
       "      <td>259.0</td>\n",
       "      <td>336.0</td>\n",
       "    </tr>\n",
       "  </tbody>\n",
       "</table>\n",
       "</div>"
      ],
      "text/plain": [
       "        secs                                                          \n",
       "       count        mean        std    min    25%    50%    75%    max\n",
       "treat                                                                 \n",
       "0.0    260.0  237.896154  61.148600   60.0  196.0  232.0  281.0  396.0\n",
       "1.0    240.0  230.254167  42.263345  123.0  198.0  225.0  259.0  336.0"
      ]
     },
     "execution_count": 259,
     "metadata": {},
     "output_type": "execute_result"
    }
   ],
   "source": [
    "vitamins.groupby('treat').describe()"
   ]
  },
  {
   "cell_type": "code",
   "execution_count": 260,
   "id": "26cd6f7f",
   "metadata": {},
   "outputs": [
    {
     "data": {
      "text/plain": [
       "ShapiroResult(statistic=0.9878202676773071, pvalue=0.03947127237915993)"
      ]
     },
     "execution_count": 260,
     "metadata": {},
     "output_type": "execute_result"
    }
   ],
   "source": [
    "#Checking the Normality of Data\n",
    "stats.shapiro(treatment)"
   ]
  },
  {
   "cell_type": "code",
   "execution_count": 261,
   "id": "e65e9c2c",
   "metadata": {},
   "outputs": [
    {
     "data": {
      "text/plain": [
       "<AxesSubplot:xlabel='secs', ylabel='Count'>"
      ]
     },
     "execution_count": 261,
     "metadata": {},
     "output_type": "execute_result"
    },
    {
     "data": {
      "image/png": "[encoded data removed]",
      "text/plain": [
       "<Figure size 432x288 with 1 Axes>"
      ]
     },
     "metadata": {
      "needs_background": "light"
     },
     "output_type": "display_data"
    }
   ],
   "source": [
    "sns.histplot(data=treatment) #treatment data is not following a normal distribution"
   ]
  },
  {
   "cell_type": "code",
   "execution_count": 262,
   "id": "4e317e11",
   "metadata": {},
   "outputs": [],
   "source": [
    "#let us normalize the treatment data\n",
    "normalized_treatment = stats.boxcox(treatment)"
   ]
  },
  {
   "cell_type": "code",
   "execution_count": 263,
   "id": "232d0041",
   "metadata": {},
   "outputs": [
    {
     "data": {
      "text/plain": [
       "ShapiroResult(statistic=0.9947196841239929, pvalue=0.5081189274787903)"
      ]
     },
     "execution_count": 263,
     "metadata": {},
     "output_type": "execute_result"
    }
   ],
   "source": [
    "stats.shapiro(control)"
   ]
  },
  {
   "cell_type": "code",
   "execution_count": 264,
   "id": "9aac39c4",
   "metadata": {},
   "outputs": [
    {
     "data": {
      "text/plain": [
       "<AxesSubplot:xlabel='secs', ylabel='Count'>"
      ]
     },
     "execution_count": 264,
     "metadata": {},
     "output_type": "execute_result"
    },
    {
     "data": {
      "image/png": "[encoded data removed]",
      "text/plain": [
       "<Figure size 432x288 with 1 Axes>"
      ]
     },
     "metadata": {
      "needs_background": "light"
     },
     "output_type": "display_data"
    }
   ],
   "source": [
    "sns.histplot(data=control)"
   ]
  },
  {
   "cell_type": "markdown",
   "id": "a5ca3926",
   "metadata": {},
   "source": [
    "# data for the treatment group doesnt follow a normal distribution,yet the control group does, but its important to understand that shapiros test is sensitive to larger sample sizes"
   ]
  },
  {
   "cell_type": "code",
   "execution_count": 265,
   "id": "e7901880",
   "metadata": {},
   "outputs": [
    {
     "data": {
      "text/plain": [
       "LeveneResult(statistic=27.7619575087896, pvalue=2.0464247997636104e-07)"
      ]
     },
     "execution_count": 265,
     "metadata": {},
     "output_type": "execute_result"
    }
   ],
   "source": [
    "#Checking the Homogeneity of Variances Assumption\n",
    "stats.levene(treatment, control)"
   ]
  },
  {
   "cell_type": "markdown",
   "id": "c4c33c46",
   "metadata": {},
   "source": [
    "# levenes test shows that the data fails the assumption of equal variances so maybe we could do the welchs test instead of the students ttest"
   ]
  },
  {
   "cell_type": "code",
   "execution_count": 266,
   "id": "24f71a1a",
   "metadata": {},
   "outputs": [
    {
     "data": {
      "text/html": [
       "<div>\n",
       "<style scoped>\n",
       "    .dataframe tbody tr th:only-of-type {\n",
       "        vertical-align: middle;\n",
       "    }\n",
       "\n",
       "    .dataframe tbody tr th {\n",
       "        vertical-align: top;\n",
       "    }\n",
       "\n",
       "    .dataframe thead th {\n",
       "        text-align: right;\n",
       "    }\n",
       "</style>\n",
       "<table border=\"1\" class=\"dataframe\">\n",
       "  <thead>\n",
       "    <tr style=\"text-align: right;\">\n",
       "      <th></th>\n",
       "      <th>T</th>\n",
       "      <th>dof</th>\n",
       "      <th>alternative</th>\n",
       "      <th>p-val</th>\n",
       "      <th>CI95%</th>\n",
       "      <th>cohen-d</th>\n",
       "      <th>BF10</th>\n",
       "      <th>power</th>\n",
       "    </tr>\n",
       "  </thead>\n",
       "  <tbody>\n",
       "    <tr>\n",
       "      <th>T-test</th>\n",
       "      <td>-1.635841</td>\n",
       "      <td>462.27027</td>\n",
       "      <td>two-sided</td>\n",
       "      <td>0.102554</td>\n",
       "      <td>[-16.82, 1.54]</td>\n",
       "      <td>0.144371</td>\n",
       "      <td>0.364</td>\n",
       "      <td>0.363256</td>\n",
       "    </tr>\n",
       "  </tbody>\n",
       "</table>\n",
       "</div>"
      ],
      "text/plain": [
       "               T        dof alternative     p-val           CI95%   cohen-d  \\\n",
       "T-test -1.635841  462.27027   two-sided  0.102554  [-16.82, 1.54]  0.144371   \n",
       "\n",
       "         BF10     power  \n",
       "T-test  0.364  0.363256  "
      ]
     },
     "metadata": {},
     "output_type": "display_data"
    }
   ],
   "source": [
    "import pingouin as pg\n",
    "\n",
    "res = pg.ttest(treatment, control, correction=True)\n",
    "display(res)"
   ]
  },
  {
   "cell_type": "markdown",
   "id": "6e7e5fc9",
   "metadata": {},
   "source": [
    "# #interpretation is that the average solve times of 230 seconds for the treatment group was not statistically significantly higher than the control group, 237, t(498)=-16128, p=0.1074¶"
   ]
  },
  {
   "cell_type": "code",
   "execution_count": 267,
   "id": "53b4724a",
   "metadata": {},
   "outputs": [
    {
     "data": {
      "text/html": [
       "<div>\n",
       "<style scoped>\n",
       "    .dataframe tbody tr th:only-of-type {\n",
       "        vertical-align: middle;\n",
       "    }\n",
       "\n",
       "    .dataframe tbody tr th {\n",
       "        vertical-align: top;\n",
       "    }\n",
       "\n",
       "    .dataframe thead th {\n",
       "        text-align: right;\n",
       "    }\n",
       "</style>\n",
       "<table border=\"1\" class=\"dataframe\">\n",
       "  <thead>\n",
       "    <tr style=\"text-align: right;\">\n",
       "      <th></th>\n",
       "      <th>treat</th>\n",
       "      <th>time</th>\n",
       "      <th>supplement</th>\n",
       "      <th>secs</th>\n",
       "    </tr>\n",
       "  </thead>\n",
       "  <tbody>\n",
       "    <tr>\n",
       "      <th>0</th>\n",
       "      <td>1.0</td>\n",
       "      <td>2.35</td>\n",
       "      <td>B</td>\n",
       "      <td>155</td>\n",
       "    </tr>\n",
       "    <tr>\n",
       "      <th>1</th>\n",
       "      <td>1.0</td>\n",
       "      <td>4.13</td>\n",
       "      <td>B</td>\n",
       "      <td>253</td>\n",
       "    </tr>\n",
       "    <tr>\n",
       "      <th>2</th>\n",
       "      <td>0.0</td>\n",
       "      <td>5.26</td>\n",
       "      <td></td>\n",
       "      <td>326</td>\n",
       "    </tr>\n",
       "    <tr>\n",
       "      <th>3</th>\n",
       "      <td>1.0</td>\n",
       "      <td>3.45</td>\n",
       "      <td>B</td>\n",
       "      <td>225</td>\n",
       "    </tr>\n",
       "    <tr>\n",
       "      <th>4</th>\n",
       "      <td>1.0</td>\n",
       "      <td>3.29</td>\n",
       "      <td>A</td>\n",
       "      <td>209</td>\n",
       "    </tr>\n",
       "  </tbody>\n",
       "</table>\n",
       "</div>"
      ],
      "text/plain": [
       "  treat  time supplement  secs\n",
       "0   1.0  2.35          B   155\n",
       "1   1.0  4.13          B   253\n",
       "2   0.0  5.26              326\n",
       "3   1.0  3.45          B   225\n",
       "4   1.0  3.29          A   209"
      ]
     },
     "execution_count": 267,
     "metadata": {},
     "output_type": "execute_result"
    }
   ],
   "source": [
    "vitamins.head()"
   ]
  },
  {
   "cell_type": "code",
   "execution_count": 268,
   "id": "a6e3007c",
   "metadata": {},
   "outputs": [
    {
     "data": {
      "text/plain": [
       "array(['B', '', 'A', 'C', 'c', 'd', '3', '2', 'D', 'b', 'a', 'n', 'r',\n",
       "       'b ', ' a'], dtype=object)"
      ]
     },
     "execution_count": 268,
     "metadata": {},
     "output_type": "execute_result"
    }
   ],
   "source": [
    "vitamins.supplement.unique()"
   ]
  },
  {
   "cell_type": "code",
   "execution_count": 276,
   "id": "63f3baa3",
   "metadata": {},
   "outputs": [],
   "source": [
    "vitamins.replace({'':'placebo','a':'A','b':\"B\",' a':'A','b ':'B','c':'C','d':'D','n':'E','r':'E','3':\"C\",'2':\"B\"},inplace=True)"
   ]
  },
  {
   "cell_type": "code",
   "execution_count": 277,
   "id": "a40ff9ea",
   "metadata": {},
   "outputs": [
    {
     "data": {
      "text/plain": [
       "array(['B', 'placebo', 'A', 'C', 'D', 'E'], dtype=object)"
      ]
     },
     "execution_count": 277,
     "metadata": {},
     "output_type": "execute_result"
    }
   ],
   "source": [
    "vitamins.supplement.unique()"
   ]
  },
  {
   "cell_type": "code",
   "execution_count": 278,
   "id": "b182f5d5",
   "metadata": {},
   "outputs": [],
   "source": [
    "vitamins_filtered = vitamins[vitamins['supplement'] != 'E']"
   ]
  },
  {
   "cell_type": "code",
   "execution_count": 279,
   "id": "df8dcbe6",
   "metadata": {},
   "outputs": [
    {
     "data": {
      "text/html": [
       "<div>\n",
       "<style scoped>\n",
       "    .dataframe tbody tr th:only-of-type {\n",
       "        vertical-align: middle;\n",
       "    }\n",
       "\n",
       "    .dataframe tbody tr th {\n",
       "        vertical-align: top;\n",
       "    }\n",
       "\n",
       "    .dataframe thead th {\n",
       "        text-align: right;\n",
       "    }\n",
       "</style>\n",
       "<table border=\"1\" class=\"dataframe\">\n",
       "  <thead>\n",
       "    <tr style=\"text-align: right;\">\n",
       "      <th></th>\n",
       "      <th>treat</th>\n",
       "      <th>time</th>\n",
       "      <th>supplement</th>\n",
       "      <th>secs</th>\n",
       "    </tr>\n",
       "  </thead>\n",
       "  <tbody>\n",
       "    <tr>\n",
       "      <th>0</th>\n",
       "      <td>1.0</td>\n",
       "      <td>2.35</td>\n",
       "      <td>B</td>\n",
       "      <td>155</td>\n",
       "    </tr>\n",
       "    <tr>\n",
       "      <th>1</th>\n",
       "      <td>1.0</td>\n",
       "      <td>4.13</td>\n",
       "      <td>B</td>\n",
       "      <td>253</td>\n",
       "    </tr>\n",
       "    <tr>\n",
       "      <th>2</th>\n",
       "      <td>0.0</td>\n",
       "      <td>5.26</td>\n",
       "      <td>placebo</td>\n",
       "      <td>326</td>\n",
       "    </tr>\n",
       "    <tr>\n",
       "      <th>3</th>\n",
       "      <td>1.0</td>\n",
       "      <td>3.45</td>\n",
       "      <td>B</td>\n",
       "      <td>225</td>\n",
       "    </tr>\n",
       "    <tr>\n",
       "      <th>4</th>\n",
       "      <td>1.0</td>\n",
       "      <td>3.29</td>\n",
       "      <td>A</td>\n",
       "      <td>209</td>\n",
       "    </tr>\n",
       "    <tr>\n",
       "      <th>...</th>\n",
       "      <td>...</td>\n",
       "      <td>...</td>\n",
       "      <td>...</td>\n",
       "      <td>...</td>\n",
       "    </tr>\n",
       "    <tr>\n",
       "      <th>495</th>\n",
       "      <td>1.0</td>\n",
       "      <td>3.37</td>\n",
       "      <td>B</td>\n",
       "      <td>217</td>\n",
       "    </tr>\n",
       "    <tr>\n",
       "      <th>496</th>\n",
       "      <td>1.0</td>\n",
       "      <td>3.46</td>\n",
       "      <td>B</td>\n",
       "      <td>226</td>\n",
       "    </tr>\n",
       "    <tr>\n",
       "      <th>497</th>\n",
       "      <td>0.0</td>\n",
       "      <td>4.2</td>\n",
       "      <td>placebo</td>\n",
       "      <td>242</td>\n",
       "    </tr>\n",
       "    <tr>\n",
       "      <th>498</th>\n",
       "      <td>0.0</td>\n",
       "      <td>6.0</td>\n",
       "      <td>placebo</td>\n",
       "      <td>360</td>\n",
       "    </tr>\n",
       "    <tr>\n",
       "      <th>499</th>\n",
       "      <td>1.0</td>\n",
       "      <td>3.36</td>\n",
       "      <td>C</td>\n",
       "      <td>216</td>\n",
       "    </tr>\n",
       "  </tbody>\n",
       "</table>\n",
       "<p>496 rows × 4 columns</p>\n",
       "</div>"
      ],
      "text/plain": [
       "    treat  time supplement  secs\n",
       "0     1.0  2.35          B   155\n",
       "1     1.0  4.13          B   253\n",
       "2     0.0  5.26    placebo   326\n",
       "3     1.0  3.45          B   225\n",
       "4     1.0  3.29          A   209\n",
       "..    ...   ...        ...   ...\n",
       "495   1.0  3.37          B   217\n",
       "496   1.0  3.46          B   226\n",
       "497   0.0   4.2    placebo   242\n",
       "498   0.0   6.0    placebo   360\n",
       "499   1.0  3.36          C   216\n",
       "\n",
       "[496 rows x 4 columns]"
      ]
     },
     "execution_count": 279,
     "metadata": {},
     "output_type": "execute_result"
    }
   ],
   "source": [
    "vitamins_filtered"
   ]
  },
  {
   "cell_type": "markdown",
   "id": "72c3f350",
   "metadata": {},
   "source": [
    "# interpretation is that the average solve times of 230 seconds for the treatment group was not statistically significantly higher than the control group, 237, t(498)=-16128, p=0.1074"
   ]
  },
  {
   "cell_type": "code",
   "execution_count": 280,
   "id": "7b2c4adb",
   "metadata": {},
   "outputs": [
    {
     "name": "stdout",
     "output_type": "stream",
     "text": [
      "<class 'pandas.core.frame.DataFrame'>\n",
      "Int64Index: 496 entries, 0 to 499\n",
      "Data columns (total 4 columns):\n",
      " #   Column      Non-Null Count  Dtype \n",
      "---  ------      --------------  ----- \n",
      " 0   treat       496 non-null    object\n",
      " 1   time        496 non-null    object\n",
      " 2   supplement  496 non-null    object\n",
      " 3   secs        496 non-null    int64 \n",
      "dtypes: int64(1), object(3)\n",
      "memory usage: 19.4+ KB\n"
     ]
    }
   ],
   "source": [
    "vitamins_filtered.info()"
   ]
  },
  {
   "cell_type": "code",
   "execution_count": 281,
   "id": "7434ace4",
   "metadata": {},
   "outputs": [
    {
     "name": "stdout",
     "output_type": "stream",
     "text": [
      "\n",
      "\n"
     ]
    },
    {
     "data": {
      "text/html": [
       "<div>\n",
       "<style scoped>\n",
       "    .dataframe tbody tr th:only-of-type {\n",
       "        vertical-align: middle;\n",
       "    }\n",
       "\n",
       "    .dataframe tbody tr th {\n",
       "        vertical-align: top;\n",
       "    }\n",
       "\n",
       "    .dataframe thead th {\n",
       "        text-align: right;\n",
       "    }\n",
       "</style>\n",
       "<table border=\"1\" class=\"dataframe\">\n",
       "  <thead>\n",
       "    <tr style=\"text-align: right;\">\n",
       "      <th></th>\n",
       "      <th>Variable</th>\n",
       "      <th>N</th>\n",
       "      <th>Mean</th>\n",
       "      <th>SD</th>\n",
       "      <th>SE</th>\n",
       "      <th>95% Conf.</th>\n",
       "      <th>Interval</th>\n",
       "    </tr>\n",
       "  </thead>\n",
       "  <tbody>\n",
       "    <tr>\n",
       "      <th>0</th>\n",
       "      <td>secs</td>\n",
       "      <td>496.0</td>\n",
       "      <td>234.2964</td>\n",
       "      <td>53.1444</td>\n",
       "      <td>2.3863</td>\n",
       "      <td>229.6079</td>\n",
       "      <td>238.9848</td>\n",
       "    </tr>\n",
       "  </tbody>\n",
       "</table>\n",
       "</div>"
      ],
      "text/plain": [
       "  Variable      N      Mean       SD      SE  95% Conf.  Interval\n",
       "0     secs  496.0  234.2964  53.1444  2.3863   229.6079  238.9848"
      ]
     },
     "execution_count": 281,
     "metadata": {},
     "output_type": "execute_result"
    }
   ],
   "source": [
    "rp.summary_cont(vitamins_filtered['secs'])\n"
   ]
  },
  {
   "cell_type": "code",
   "execution_count": 282,
   "id": "43468aa8",
   "metadata": {},
   "outputs": [
    {
     "name": "stdout",
     "output_type": "stream",
     "text": [
      "\n",
      "\n"
     ]
    },
    {
     "data": {
      "text/html": [
       "<div>\n",
       "<style scoped>\n",
       "    .dataframe tbody tr th:only-of-type {\n",
       "        vertical-align: middle;\n",
       "    }\n",
       "\n",
       "    .dataframe tbody tr th {\n",
       "        vertical-align: top;\n",
       "    }\n",
       "\n",
       "    .dataframe thead th {\n",
       "        text-align: right;\n",
       "    }\n",
       "</style>\n",
       "<table border=\"1\" class=\"dataframe\">\n",
       "  <thead>\n",
       "    <tr style=\"text-align: right;\">\n",
       "      <th></th>\n",
       "      <th>N</th>\n",
       "      <th>Mean</th>\n",
       "      <th>SD</th>\n",
       "      <th>SE</th>\n",
       "      <th>95% Conf.</th>\n",
       "      <th>Interval</th>\n",
       "    </tr>\n",
       "    <tr>\n",
       "      <th>supplement</th>\n",
       "      <th></th>\n",
       "      <th></th>\n",
       "      <th></th>\n",
       "      <th></th>\n",
       "      <th></th>\n",
       "      <th></th>\n",
       "    </tr>\n",
       "  </thead>\n",
       "  <tbody>\n",
       "    <tr>\n",
       "      <th>A</th>\n",
       "      <td>40</td>\n",
       "      <td>218.8000</td>\n",
       "      <td>40.0328</td>\n",
       "      <td>6.3297</td>\n",
       "      <td>205.9969</td>\n",
       "      <td>231.6031</td>\n",
       "    </tr>\n",
       "    <tr>\n",
       "      <th>B</th>\n",
       "      <td>83</td>\n",
       "      <td>228.4337</td>\n",
       "      <td>41.7037</td>\n",
       "      <td>4.5776</td>\n",
       "      <td>219.3275</td>\n",
       "      <td>237.5400</td>\n",
       "    </tr>\n",
       "    <tr>\n",
       "      <th>C</th>\n",
       "      <td>78</td>\n",
       "      <td>236.1154</td>\n",
       "      <td>42.6438</td>\n",
       "      <td>4.8285</td>\n",
       "      <td>226.5007</td>\n",
       "      <td>245.7301</td>\n",
       "    </tr>\n",
       "    <tr>\n",
       "      <th>D</th>\n",
       "      <td>35</td>\n",
       "      <td>235.1143</td>\n",
       "      <td>44.8375</td>\n",
       "      <td>7.5789</td>\n",
       "      <td>219.7121</td>\n",
       "      <td>250.5165</td>\n",
       "    </tr>\n",
       "    <tr>\n",
       "      <th>placebo</th>\n",
       "      <td>260</td>\n",
       "      <td>237.8962</td>\n",
       "      <td>61.1486</td>\n",
       "      <td>3.7923</td>\n",
       "      <td>230.4285</td>\n",
       "      <td>245.3638</td>\n",
       "    </tr>\n",
       "  </tbody>\n",
       "</table>\n",
       "</div>"
      ],
      "text/plain": [
       "              N      Mean       SD      SE  95% Conf.  Interval\n",
       "supplement                                                     \n",
       "A            40  218.8000  40.0328  6.3297   205.9969  231.6031\n",
       "B            83  228.4337  41.7037  4.5776   219.3275  237.5400\n",
       "C            78  236.1154  42.6438  4.8285   226.5007  245.7301\n",
       "D            35  235.1143  44.8375  7.5789   219.7121  250.5165\n",
       "placebo     260  237.8962  61.1486  3.7923   230.4285  245.3638"
      ]
     },
     "execution_count": 282,
     "metadata": {},
     "output_type": "execute_result"
    }
   ],
   "source": [
    "rp.summary_cont(vitamins_filtered['secs'].groupby(vitamins_filtered['supplement']))"
   ]
  },
  {
   "cell_type": "code",
   "execution_count": 283,
   "id": "14f321f0",
   "metadata": {},
   "outputs": [
    {
     "data": {
      "text/plain": [
       "F_onewayResult(statistic=1.4308733954613584, pvalue=0.22253927922851788)"
      ]
     },
     "execution_count": 283,
     "metadata": {},
     "output_type": "execute_result"
    }
   ],
   "source": [
    "# one way ANOVA using scipy\n",
    "stats.f_oneway(vitamins_filtered['secs'][vitamins_filtered['supplement'] == 'A'],\n",
    "               vitamins_filtered['secs'][vitamins_filtered['supplement'] == 'B'],\n",
    "               vitamins_filtered['secs'][vitamins_filtered['supplement'] == 'C'],\n",
    "              vitamins_filtered['secs'][vitamins_filtered['supplement'] == 'D'],\n",
    "              vitamins_filtered['secs'][vitamins_filtered['supplement'] == 'placebo'])\n"
   ]
  },
  {
   "cell_type": "markdown",
   "id": "9baaf6c2",
   "metadata": {},
   "source": [
    "# There's no statitically significant difference between the supplements and their effects on solve times"
   ]
  },
  {
   "cell_type": "code",
   "execution_count": 284,
   "id": "9d545493",
   "metadata": {},
   "outputs": [
    {
     "data": {
      "text/html": [
       "<div>\n",
       "<style scoped>\n",
       "    .dataframe tbody tr th:only-of-type {\n",
       "        vertical-align: middle;\n",
       "    }\n",
       "\n",
       "    .dataframe tbody tr th {\n",
       "        vertical-align: top;\n",
       "    }\n",
       "\n",
       "    .dataframe thead th {\n",
       "        text-align: right;\n",
       "    }\n",
       "</style>\n",
       "<table border=\"1\" class=\"dataframe\">\n",
       "  <thead>\n",
       "    <tr style=\"text-align: right;\">\n",
       "      <th></th>\n",
       "      <th>sum_sq</th>\n",
       "      <th>df</th>\n",
       "      <th>F</th>\n",
       "      <th>PR(&gt;F)</th>\n",
       "    </tr>\n",
       "  </thead>\n",
       "  <tbody>\n",
       "    <tr>\n",
       "      <th>C(supplement)</th>\n",
       "      <td>1.639877e+04</td>\n",
       "      <td>5.0</td>\n",
       "      <td>1.168781</td>\n",
       "      <td>0.323397</td>\n",
       "    </tr>\n",
       "    <tr>\n",
       "      <th>Residual</th>\n",
       "      <td>1.386229e+06</td>\n",
       "      <td>494.0</td>\n",
       "      <td>NaN</td>\n",
       "      <td>NaN</td>\n",
       "    </tr>\n",
       "  </tbody>\n",
       "</table>\n",
       "</div>"
      ],
      "text/plain": [
       "                     sum_sq     df         F    PR(>F)\n",
       "C(supplement)  1.639877e+04    5.0  1.168781  0.323397\n",
       "Residual       1.386229e+06  494.0       NaN       NaN"
      ]
     },
     "execution_count": 284,
     "metadata": {},
     "output_type": "execute_result"
    }
   ],
   "source": [
    "import statsmodels.api as sm\n",
    "from statsmodels.formula.api import ols\n",
    "\n",
    "model = ols('secs ~ C(supplement)', data=vitamins).fit()\n",
    "aov_table = sm.stats.anova_lm(model, typ=2)\n",
    "aov_table"
   ]
  },
  {
   "cell_type": "code",
   "execution_count": 285,
   "id": "e2c9382c",
   "metadata": {},
   "outputs": [
    {
     "data": {
      "text/plain": [
       "ShapiroResult(statistic=0.9950874447822571, pvalue=0.11362356692552567)"
      ]
     },
     "execution_count": 285,
     "metadata": {},
     "output_type": "execute_result"
    }
   ],
   "source": [
    "stats.shapiro(model.resid)"
   ]
  },
  {
   "cell_type": "code",
   "execution_count": 286,
   "id": "4f0dc8df",
   "metadata": {},
   "outputs": [
    {
     "data": {
      "text/plain": [
       "LeveneResult(statistic=7.338775294131794, pvalue=9.563443667995217e-06)"
      ]
     },
     "execution_count": 286,
     "metadata": {},
     "output_type": "execute_result"
    }
   ],
   "source": [
    "stats.levene(vitamins_filtered['secs'][vitamins_filtered['supplement'] == 'A'],\n",
    "               vitamins_filtered['secs'][vitamins_filtered['supplement'] == 'B'],\n",
    "               vitamins_filtered['secs'][vitamins_filtered['supplement'] == 'C'],\n",
    "              vitamins_filtered['secs'][vitamins_filtered['supplement'] == 'D'],\n",
    "import matplotlib.pyplot as plt              vitamins_filtered['secs'][vitamins_filtered['supplement'] == 'placebo'])"
   ]
  },
  {
   "cell_type": "code",
   "execution_count": 289,
   "id": "bcd5d807",
   "metadata": {},
   "outputs": [
    {
     "data": {
      "image/png": "[encoded data removed]",
      "text/plain": [
       "<Figure size 720x720 with 1 Axes>"
      ]
     },
     "metadata": {
      "needs_background": "light"
     },
     "output_type": "display_data"
    }
   ],
   "source": [
    "import matplotlib.pyplot as plt\n",
    "fig = plt.figure(figsize= (10, 10))\n",
    "ax = fig.add_subplot(111)\n",
    "\n",
    "ax.set_title(\"Box Plot of solve times by supplement\", fontsize= 20)\n",
    "ax.set\n",
    "\n",
    "data = [vitamins_filtered['secs'][vitamins_filtered['supplement'] == 'A'],\n",
    "               vitamins_filtered['secs'][vitamins_filtered['supplement'] == 'B'],\n",
    "               vitamins_filtered['secs'][vitamins_filtered['supplement'] == 'C'],\n",
    "              vitamins_filtered['secs'][vitamins_filtered['supplement'] == 'D']]\n",
    "\n",
    "ax.boxplot(data,\n",
    "           showmeans= True)\n",
    "\n",
    "plt.xlabel(\"supplement\")\n",
    "plt.ylabel(\"solvetime\")\n",
    "\n",
    "plt.show()"
   ]
  },
  {
   "cell_type": "code",
   "execution_count": 291,
   "id": "18dafc36",
   "metadata": {},
   "outputs": [
    {
     "data": {
      "text/html": [
       "<table class=\"simpletable\">\n",
       "<caption>Multiple Comparison of Means - Tukey HSD, FWER=0.05</caption>\n",
       "<tr>\n",
       "  <th>group1</th> <th>group2</th>  <th>meandiff</th>  <th>p-adj</th>   <th>lower</th>   <th>upper</th>  <th>reject</th>\n",
       "</tr>\n",
       "<tr>\n",
       "     <td>A</td>      <td>B</td>     <td>9.6337</td>    <td>0.9</td>  <td>-19.5367</td> <td>38.8042</td>  <td>False</td>\n",
       "</tr>\n",
       "<tr>\n",
       "     <td>A</td>      <td>C</td>     <td>17.3154</td> <td>0.5388</td> <td>-12.1576</td> <td>46.7883</td>  <td>False</td>\n",
       "</tr>\n",
       "<tr>\n",
       "     <td>A</td>      <td>D</td>     <td>16.3143</td> <td>0.7404</td>  <td>-18.763</td> <td>51.3916</td>  <td>False</td>\n",
       "</tr>\n",
       "<tr>\n",
       "     <td>A</td>      <td>E</td>      <td>6.95</td>     <td>0.9</td>  <td>-72.5242</td> <td>86.4242</td>  <td>False</td>\n",
       "</tr>\n",
       "<tr>\n",
       "     <td>A</td>   <td>placebo</td>  <td>19.0962</td> <td>0.2774</td>  <td>-6.6436</td> <td>44.8359</td>  <td>False</td>\n",
       "</tr>\n",
       "<tr>\n",
       "     <td>B</td>      <td>C</td>     <td>7.6816</td>    <td>0.9</td>  <td>-16.2177</td> <td>31.581</td>   <td>False</td>\n",
       "</tr>\n",
       "<tr>\n",
       "     <td>B</td>      <td>D</td>     <td>6.6806</td>    <td>0.9</td>  <td>-23.8636</td> <td>37.2247</td>  <td>False</td>\n",
       "</tr>\n",
       "<tr>\n",
       "     <td>B</td>      <td>E</td>     <td>-2.6837</td>   <td>0.9</td>  <td>-80.2639</td> <td>74.8964</td>  <td>False</td>\n",
       "</tr>\n",
       "<tr>\n",
       "     <td>B</td>   <td>placebo</td>  <td>9.4624</td>  <td>0.6907</td>  <td>-9.6441</td> <td>28.5689</td>  <td>False</td>\n",
       "</tr>\n",
       "<tr>\n",
       "     <td>C</td>      <td>D</td>     <td>-1.0011</td>   <td>0.9</td>  <td>-31.8342</td> <td>29.832</td>   <td>False</td>\n",
       "</tr>\n",
       "<tr>\n",
       "     <td>C</td>      <td>E</td>    <td>-10.3654</td>   <td>0.9</td>  <td>-88.0598</td> <td>67.329</td>   <td>False</td>\n",
       "</tr>\n",
       "<tr>\n",
       "     <td>C</td>   <td>placebo</td>  <td>1.7808</td>    <td>0.9</td>  <td>-17.7844</td> <td>21.346</td>   <td>False</td>\n",
       "</tr>\n",
       "<tr>\n",
       "     <td>D</td>      <td>E</td>     <td>-9.3643</td>   <td>0.9</td>  <td>-89.3529</td> <td>70.6243</td>  <td>False</td>\n",
       "</tr>\n",
       "<tr>\n",
       "     <td>D</td>   <td>placebo</td>  <td>2.7819</td>    <td>0.9</td>  <td>-24.5048</td> <td>30.0685</td>  <td>False</td>\n",
       "</tr>\n",
       "<tr>\n",
       "     <td>E</td>   <td>placebo</td>  <td>12.1462</td>   <td>0.9</td>  <td>-64.2102</td> <td>88.5025</td>  <td>False</td>\n",
       "</tr>\n",
       "</table>"
      ],
      "text/plain": [
       "<class 'statsmodels.iolib.table.SimpleTable'>"
      ]
     },
     "execution_count": 291,
     "metadata": {},
     "output_type": "execute_result"
    }
   ],
   "source": [
    "#post hoc analysis\n",
    "import statsmodels.stats.multicomp as mc\n",
    "\n",
    "comp = mc.MultiComparison(vitamins['secs'], vitamins['supplement'])\n",
    "post_hoc_res = comp.tukeyhsd()\n",
    "post_hoc_res.summary()"
   ]
  },
  {
   "cell_type": "code",
   "execution_count": 292,
   "id": "cc5e3641",
   "metadata": {},
   "outputs": [
    {
     "data": {
      "text/html": [
       "<table class=\"simpletable\">\n",
       "<caption>Test Multiple Comparison ttest_ind \n",
       "FWER=0.05 method=bonf\n",
       "alphacSidak=0.00, alphacBonf=0.003</caption>\n",
       "<tr>\n",
       "  <th>group1</th> <th>group2</th>   <th>stat</th>    <th>pval</th>  <th>pval_corr</th> <th>reject</th>\n",
       "</tr>\n",
       "<tr>\n",
       "     <td>A</td>      <td>B</td>    <td>-1.2156</td> <td>0.2265</td>    <td>1.0</td>     <td>False</td>\n",
       "</tr>\n",
       "<tr>\n",
       "     <td>A</td>      <td>C</td>    <td>-2.1309</td> <td>0.0352</td>  <td>0.5282</td>    <td>False</td>\n",
       "</tr>\n",
       "<tr>\n",
       "     <td>A</td>      <td>D</td>    <td>-1.6648</td> <td>0.1002</td>    <td>1.0</td>     <td>False</td>\n",
       "</tr>\n",
       "<tr>\n",
       "     <td>A</td>      <td>E</td>    <td>-0.3323</td> <td>0.7413</td>    <td>1.0</td>     <td>False</td>\n",
       "</tr>\n",
       "<tr>\n",
       "     <td>A</td>   <td>placebo</td> <td>-1.9116</td> <td>0.0569</td>  <td>0.8533</td>    <td>False</td>\n",
       "</tr>\n",
       "<tr>\n",
       "     <td>B</td>      <td>C</td>    <td>-1.1553</td> <td>0.2497</td>    <td>1.0</td>     <td>False</td>\n",
       "</tr>\n",
       "<tr>\n",
       "     <td>B</td>      <td>D</td>    <td>-0.7773</td> <td>0.4386</td>    <td>1.0</td>     <td>False</td>\n",
       "</tr>\n",
       "<tr>\n",
       "     <td>B</td>      <td>E</td>    <td>0.1261</td>  <td>0.8999</td>    <td>1.0</td>     <td>False</td>\n",
       "</tr>\n",
       "<tr>\n",
       "     <td>B</td>   <td>placebo</td> <td>-1.3149</td> <td>0.1894</td>    <td>1.0</td>     <td>False</td>\n",
       "</tr>\n",
       "<tr>\n",
       "     <td>C</td>      <td>D</td>    <td>0.1136</td>  <td>0.9098</td>    <td>1.0</td>     <td>False</td>\n",
       "</tr>\n",
       "<tr>\n",
       "     <td>C</td>      <td>E</td>     <td>0.476</td>  <td>0.6353</td>    <td>1.0</td>     <td>False</td>\n",
       "</tr>\n",
       "<tr>\n",
       "     <td>C</td>   <td>placebo</td> <td>-0.2402</td> <td>0.8104</td>    <td>1.0</td>     <td>False</td>\n",
       "</tr>\n",
       "<tr>\n",
       "     <td>D</td>      <td>E</td>    <td>0.4004</td>  <td>0.6912</td>    <td>1.0</td>     <td>False</td>\n",
       "</tr>\n",
       "<tr>\n",
       "     <td>D</td>   <td>placebo</td> <td>-0.2597</td> <td>0.7952</td>    <td>1.0</td>     <td>False</td>\n",
       "</tr>\n",
       "<tr>\n",
       "     <td>E</td>   <td>placebo</td> <td>-0.3956</td> <td>0.6927</td>    <td>1.0</td>     <td>False</td>\n",
       "</tr>\n",
       "</table>"
      ],
      "text/plain": [
       "<class 'statsmodels.iolib.table.SimpleTable'>"
      ]
     },
     "execution_count": 292,
     "metadata": {},
     "output_type": "execute_result"
    }
   ],
   "source": [
    "import statsmodels.stats.multicomp as mc\n",
    "\n",
    "comp = mc.MultiComparison(vitamins['secs'], vitamins['supplement'])\n",
    "tbl, a1, a2 = comp.allpairtest(stats.ttest_ind, method= \"bonf\")\n",
    "\n",
    "tbl"
   ]
  },
  {
   "cell_type": "code",
   "execution_count": null,
   "id": "5e2fe84e",
   "metadata": {},
   "outputs": [],
   "source": []
  }
 ],
 "metadata": {
  "kernelspec": {
   "display_name": "Python 3",
   "language": "python",
   "name": "python3"
  },
  "language_info": {
   "codemirror_mode": {
    "name": "ipython",
    "version": 3
   },
   "file_extension": ".py",
   "mimetype": "text/x-python",
   "name": "python",
   "nbconvert_exporter": "python",
   "pygments_lexer": "ipython3",
   "version": "3.8.8"
  }
 },
 "nbformat": 4,
 "nbformat_minor": 5
}
