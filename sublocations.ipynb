{
 "cells": [
  {
   "cell_type": "code",
   "execution_count": 1,
   "id": "01431cfa",
   "metadata": {},
   "outputs": [],
   "source": [
    "# Importing necesary libs\n",
    "import pandas as pd\n",
    "import numpy as np\n",
    "import seaborn as sns"
   ]
  },
  {
   "cell_type": "code",
   "execution_count": 4,
   "id": "2db3e6e4",
   "metadata": {},
   "outputs": [],
   "source": [
    "data=pd.read_csv('subs.csv')"
   ]
  },
  {
   "cell_type": "code",
   "execution_count": 10,
   "id": "b2ae2ae9",
   "metadata": {},
   "outputs": [
    {
     "data": {
      "text/plain": [
       "Index(['id', 'name', 'hasCoordinatesDown', 'hasCoordinatesUp', 'level',\n",
       "       'grandParentParentGraph', 'grandParentId', 'parentGraph', 'parentId',\n",
       "       'parentName', 'color', 'range', 'value', 'radius', 'type',\n",
       "       'facilities_ANC_SBA_IMM_periodid', 'facilities_ANC_SBA_IMM_periodname',\n",
       "       'facilities_ANC_SBA_IMM_periodcode',\n",
       "       'facilities_ANC_SBA_IMM_perioddescription',\n",
       "       'facilities_ANC_SBA_IMM_organisationunitid',\n",
       "       'facilities_ANC_SBA_IMM_organisationunitcode',\n",
       "       'facilities_ANC_SBA_IMM_organisationunitdescription',\n",
       "       'facilities_ANC_SBA_IMM_DPT/Hep+HiB3(DPT 3 Coverage)',\n",
       "       'facilities_ANC_SBA_IMM_Pneumococal3 coverage',\n",
       "       'facilities_ANC_SBA_IMM_4th Antenatal Care (ANC) Coverage (%)',\n",
       "       'facilities_ANC_SBA_IMM_(%) of Deliveries conducted by Skilled Birth Attendants',\n",
       "       'OBJECTID', 'ID_0', 'ISO', 'NAME_0', 'ID_1', 'NAME_1', 'ID_2', 'NAME_2',\n",
       "       'ID_3', 'NAME_3', 'ID_4', 'NAME_4', 'ID_5', 'NAME_5', 'TYPE_5',\n",
       "       'ENGTYPE_5', 'Shape_Leng', 'Shape__Are', 'Shape__Len'],\n",
       "      dtype='object')"
      ]
     },
     "execution_count": 10,
     "metadata": {},
     "output_type": "execute_result"
    }
   ],
   "source": [
    "data.columns"
   ]
  },
  {
   "cell_type": "code",
   "execution_count": 14,
   "id": "ff9931cc",
   "metadata": {},
   "outputs": [],
   "source": [
    "### selecting only 5 columns that we wish to work with\n",
    "data2 = data.loc[:,['facilities_ANC_SBA_IMM_DPT/Hep+HiB3(DPT 3 Coverage)',\n",
    "       'facilities_ANC_SBA_IMM_Pneumococal3 coverage',\n",
    "       'facilities_ANC_SBA_IMM_4th Antenatal Care (ANC) Coverage (%)',\n",
    "       'facilities_ANC_SBA_IMM_(%) of Deliveries conducted by Skilled Birth Attendants', 'NAME_5']]"
   ]
  },
  {
   "cell_type": "code",
   "execution_count": 15,
   "id": "4f6a3e6d",
   "metadata": {},
   "outputs": [],
   "source": [
    "data2.rename(columns={'facilities_ANC_SBA_IMM_4th Antenatal Care (ANC) Coverage (%)':'ANC','facilities_ANC_SBA_IMM_DPT/Hep+HiB3(DPT 3 Coverage)':'DPT','facilities_ANC_SBA_IMM_Pneumococal3 coverage':'PCV','facilities_ANC_SBA_IMM_(%) of Deliveries conducted by Skilled Birth Attendants':'SBA','NAME_5':'sublocations'},inplace=True)"
   ]
  },
  {
   "cell_type": "code",
   "execution_count": 16,
   "id": "7b61d6fb",
   "metadata": {},
   "outputs": [
    {
     "data": {
      "text/plain": [
       "Index(['DPT', 'PCV', 'ANC', 'SBA', 'sublocations'], dtype='object')"
      ]
     },
     "execution_count": 16,
     "metadata": {},
     "output_type": "execute_result"
    }
   ],
   "source": [
    "data2.columns"
   ]
  },
  {
   "cell_type": "code",
   "execution_count": 19,
   "id": "1d5c6512",
   "metadata": {},
   "outputs": [
    {
     "data": {
      "text/plain": [
       "(151, 5)"
      ]
     },
     "execution_count": 19,
     "metadata": {},
     "output_type": "execute_result"
    }
   ],
   "source": [
    "data2.shape"
   ]
  },
  {
   "cell_type": "code",
   "execution_count": 30,
   "id": "3f45ed3b",
   "metadata": {},
   "outputs": [
    {
     "data": {
      "text/html": [
       "<div>\n",
       "<style scoped>\n",
       "    .dataframe tbody tr th:only-of-type {\n",
       "        vertical-align: middle;\n",
       "    }\n",
       "\n",
       "    .dataframe tbody tr th {\n",
       "        vertical-align: top;\n",
       "    }\n",
       "\n",
       "    .dataframe thead th {\n",
       "        text-align: right;\n",
       "    }\n",
       "</style>\n",
       "<table border=\"1\" class=\"dataframe\">\n",
       "  <thead>\n",
       "    <tr style=\"text-align: right;\">\n",
       "      <th></th>\n",
       "      <th>DPT</th>\n",
       "      <th>PCV</th>\n",
       "      <th>ANC</th>\n",
       "      <th>SBA</th>\n",
       "      <th>sublocations</th>\n",
       "    </tr>\n",
       "  </thead>\n",
       "  <tbody>\n",
       "    <tr>\n",
       "      <th>0</th>\n",
       "      <td>False</td>\n",
       "      <td>False</td>\n",
       "      <td>False</td>\n",
       "      <td>False</td>\n",
       "      <td>False</td>\n",
       "    </tr>\n",
       "    <tr>\n",
       "      <th>1</th>\n",
       "      <td>True</td>\n",
       "      <td>True</td>\n",
       "      <td>False</td>\n",
       "      <td>False</td>\n",
       "      <td>False</td>\n",
       "    </tr>\n",
       "    <tr>\n",
       "      <th>2</th>\n",
       "      <td>False</td>\n",
       "      <td>False</td>\n",
       "      <td>False</td>\n",
       "      <td>False</td>\n",
       "      <td>False</td>\n",
       "    </tr>\n",
       "    <tr>\n",
       "      <th>3</th>\n",
       "      <td>False</td>\n",
       "      <td>False</td>\n",
       "      <td>False</td>\n",
       "      <td>False</td>\n",
       "      <td>False</td>\n",
       "    </tr>\n",
       "    <tr>\n",
       "      <th>4</th>\n",
       "      <td>False</td>\n",
       "      <td>False</td>\n",
       "      <td>False</td>\n",
       "      <td>False</td>\n",
       "      <td>False</td>\n",
       "    </tr>\n",
       "    <tr>\n",
       "      <th>...</th>\n",
       "      <td>...</td>\n",
       "      <td>...</td>\n",
       "      <td>...</td>\n",
       "      <td>...</td>\n",
       "      <td>...</td>\n",
       "    </tr>\n",
       "    <tr>\n",
       "      <th>146</th>\n",
       "      <td>False</td>\n",
       "      <td>False</td>\n",
       "      <td>False</td>\n",
       "      <td>False</td>\n",
       "      <td>False</td>\n",
       "    </tr>\n",
       "    <tr>\n",
       "      <th>147</th>\n",
       "      <td>False</td>\n",
       "      <td>False</td>\n",
       "      <td>False</td>\n",
       "      <td>False</td>\n",
       "      <td>False</td>\n",
       "    </tr>\n",
       "    <tr>\n",
       "      <th>148</th>\n",
       "      <td>False</td>\n",
       "      <td>False</td>\n",
       "      <td>False</td>\n",
       "      <td>False</td>\n",
       "      <td>False</td>\n",
       "    </tr>\n",
       "    <tr>\n",
       "      <th>149</th>\n",
       "      <td>False</td>\n",
       "      <td>False</td>\n",
       "      <td>False</td>\n",
       "      <td>False</td>\n",
       "      <td>False</td>\n",
       "    </tr>\n",
       "    <tr>\n",
       "      <th>150</th>\n",
       "      <td>False</td>\n",
       "      <td>False</td>\n",
       "      <td>False</td>\n",
       "      <td>False</td>\n",
       "      <td>False</td>\n",
       "    </tr>\n",
       "  </tbody>\n",
       "</table>\n",
       "<p>151 rows × 5 columns</p>\n",
       "</div>"
      ],
      "text/plain": [
       "       DPT    PCV    ANC    SBA  sublocations\n",
       "0    False  False  False  False         False\n",
       "1     True   True  False  False         False\n",
       "2    False  False  False  False         False\n",
       "3    False  False  False  False         False\n",
       "4    False  False  False  False         False\n",
       "..     ...    ...    ...    ...           ...\n",
       "146  False  False  False  False         False\n",
       "147  False  False  False  False         False\n",
       "148  False  False  False  False         False\n",
       "149  False  False  False  False         False\n",
       "150  False  False  False  False         False\n",
       "\n",
       "[151 rows x 5 columns]"
      ]
     },
     "execution_count": 30,
     "metadata": {},
     "output_type": "execute_result"
    }
   ],
   "source": [
    "data2.isnull()"
   ]
  },
  {
   "cell_type": "code",
   "execution_count": 36,
   "id": "9b0709e1",
   "metadata": {},
   "outputs": [],
   "source": [
    "data2.dropna(subset=['DPT', 'PCV', 'ANC', 'SBA', 'sublocations'],how='any',inplace=True)"
   ]
  },
  {
   "cell_type": "code",
   "execution_count": 37,
   "id": "6ab3df83",
   "metadata": {},
   "outputs": [
    {
     "data": {
      "text/plain": [
       "(140, 5)"
      ]
     },
     "execution_count": 37,
     "metadata": {},
     "output_type": "execute_result"
    }
   ],
   "source": [
    "data2.shape"
   ]
  },
  {
   "cell_type": "code",
   "execution_count": 48,
   "id": "505c51fb",
   "metadata": {},
   "outputs": [
    {
     "data": {
      "text/plain": [
       "0        Omia Mwalo\n",
       "2      Malunga East\n",
       "3         Onyinyore\n",
       "4            Ngunya\n",
       "5      East Migwena\n",
       "           ...     \n",
       "146           Usigu\n",
       "147           Uyawi\n",
       "148           Wagai\n",
       "149         Kokwiri\n",
       "150       Nyamninia\n",
       "Name: sublocations, Length: 140, dtype: object"
      ]
     },
     "execution_count": 48,
     "metadata": {},
     "output_type": "execute_result"
    }
   ],
   "source": [
    "data2.sublocations"
   ]
  },
  {
   "cell_type": "code",
   "execution_count": 49,
   "id": "a2bf5c4f",
   "metadata": {},
   "outputs": [
    {
     "data": {
      "text/html": [
       "<div>\n",
       "<style scoped>\n",
       "    .dataframe tbody tr th:only-of-type {\n",
       "        vertical-align: middle;\n",
       "    }\n",
       "\n",
       "    .dataframe tbody tr th {\n",
       "        vertical-align: top;\n",
       "    }\n",
       "\n",
       "    .dataframe thead th {\n",
       "        text-align: right;\n",
       "    }\n",
       "</style>\n",
       "<table border=\"1\" class=\"dataframe\">\n",
       "  <thead>\n",
       "    <tr style=\"text-align: right;\">\n",
       "      <th></th>\n",
       "      <th>DPT</th>\n",
       "      <th>PCV</th>\n",
       "      <th>ANC</th>\n",
       "      <th>SBA</th>\n",
       "    </tr>\n",
       "  </thead>\n",
       "  <tbody>\n",
       "    <tr>\n",
       "      <th>DPT</th>\n",
       "      <td>1.000000</td>\n",
       "      <td>0.996995</td>\n",
       "      <td>0.777958</td>\n",
       "      <td>0.532260</td>\n",
       "    </tr>\n",
       "    <tr>\n",
       "      <th>PCV</th>\n",
       "      <td>0.996995</td>\n",
       "      <td>1.000000</td>\n",
       "      <td>0.779074</td>\n",
       "      <td>0.532558</td>\n",
       "    </tr>\n",
       "    <tr>\n",
       "      <th>ANC</th>\n",
       "      <td>0.777958</td>\n",
       "      <td>0.779074</td>\n",
       "      <td>1.000000</td>\n",
       "      <td>0.723257</td>\n",
       "    </tr>\n",
       "    <tr>\n",
       "      <th>SBA</th>\n",
       "      <td>0.532260</td>\n",
       "      <td>0.532558</td>\n",
       "      <td>0.723257</td>\n",
       "      <td>1.000000</td>\n",
       "    </tr>\n",
       "  </tbody>\n",
       "</table>\n",
       "</div>"
      ],
      "text/plain": [
       "          DPT       PCV       ANC       SBA\n",
       "DPT  1.000000  0.996995  0.777958  0.532260\n",
       "PCV  0.996995  1.000000  0.779074  0.532558\n",
       "ANC  0.777958  0.779074  1.000000  0.723257\n",
       "SBA  0.532260  0.532558  0.723257  1.000000"
      ]
     },
     "execution_count": 49,
     "metadata": {},
     "output_type": "execute_result"
    }
   ],
   "source": [
    "data2.corr()"
   ]
  },
  {
   "cell_type": "code",
   "execution_count": 50,
   "id": "e0c80fb6",
   "metadata": {},
   "outputs": [
    {
     "data": {
      "text/plain": [
       "array([[<AxesSubplot:title={'center':'DPT'}>,\n",
       "        <AxesSubplot:title={'center':'PCV'}>],\n",
       "       [<AxesSubplot:title={'center':'ANC'}>,\n",
       "        <AxesSubplot:title={'center':'SBA'}>]], dtype=object)"
      ]
     },
     "execution_count": 50,
     "metadata": {},
     "output_type": "execute_result"
    },
    {
     "data": {
      "image/png": "[encoded data removed]",
      "text/plain": [
       "<Figure size 432x288 with 4 Axes>"
      ]
     },
     "metadata": {
      "needs_background": "light"
     },
     "output_type": "display_data"
    }
   ],
   "source": [
    "data2.hist()"
   ]
  },
  {
   "cell_type": "code",
   "execution_count": 51,
   "id": "c190424e",
   "metadata": {},
   "outputs": [
    {
     "data": {
      "text/plain": [
       "<seaborn.axisgrid.PairGrid at 0x1a06f415b50>"
      ]
     },
     "execution_count": 51,
     "metadata": {},
     "output_type": "execute_result"
    },
    {
     "data": {
      "image/png": "[encoded data removed]",
      "text/plain": [
       "<Figure size 720x720 with 20 Axes>"
      ]
     },
     "metadata": {
      "needs_background": "light"
     },
     "output_type": "display_data"
    }
   ],
   "source": [
    "sns.pairplot(data2)"
   ]
  },
  {
   "cell_type": "code",
   "execution_count": 55,
   "id": "000de136",
   "metadata": {},
   "outputs": [
    {
     "data": {
      "text/html": [
       "<div>\n",
       "<style scoped>\n",
       "    .dataframe tbody tr th:only-of-type {\n",
       "        vertical-align: middle;\n",
       "    }\n",
       "\n",
       "    .dataframe tbody tr th {\n",
       "        vertical-align: top;\n",
       "    }\n",
       "\n",
       "    .dataframe thead th {\n",
       "        text-align: right;\n",
       "    }\n",
       "</style>\n",
       "<table border=\"1\" class=\"dataframe\">\n",
       "  <thead>\n",
       "    <tr style=\"text-align: right;\">\n",
       "      <th></th>\n",
       "      <th>DPT</th>\n",
       "      <th>PCV</th>\n",
       "      <th>ANC</th>\n",
       "      <th>SBA</th>\n",
       "      <th>sublocations</th>\n",
       "    </tr>\n",
       "  </thead>\n",
       "  <tbody>\n",
       "    <tr>\n",
       "      <th>0</th>\n",
       "      <td>66.8</td>\n",
       "      <td>66.8</td>\n",
       "      <td>65.1</td>\n",
       "      <td>83.1</td>\n",
       "      <td>Omia Mwalo</td>\n",
       "    </tr>\n",
       "    <tr>\n",
       "      <th>2</th>\n",
       "      <td>155.5</td>\n",
       "      <td>155.5</td>\n",
       "      <td>123.7</td>\n",
       "      <td>214.9</td>\n",
       "      <td>Malunga East</td>\n",
       "    </tr>\n",
       "    <tr>\n",
       "      <th>3</th>\n",
       "      <td>426.8</td>\n",
       "      <td>426.8</td>\n",
       "      <td>459.0</td>\n",
       "      <td>476.9</td>\n",
       "      <td>Onyinyore</td>\n",
       "    </tr>\n",
       "    <tr>\n",
       "      <th>4</th>\n",
       "      <td>98.2</td>\n",
       "      <td>98.2</td>\n",
       "      <td>90.0</td>\n",
       "      <td>131.1</td>\n",
       "      <td>Ngunya</td>\n",
       "    </tr>\n",
       "    <tr>\n",
       "      <th>5</th>\n",
       "      <td>112.2</td>\n",
       "      <td>115.9</td>\n",
       "      <td>102.1</td>\n",
       "      <td>22.8</td>\n",
       "      <td>East Migwena</td>\n",
       "    </tr>\n",
       "    <tr>\n",
       "      <th>...</th>\n",
       "      <td>...</td>\n",
       "      <td>...</td>\n",
       "      <td>...</td>\n",
       "      <td>...</td>\n",
       "      <td>...</td>\n",
       "    </tr>\n",
       "    <tr>\n",
       "      <th>146</th>\n",
       "      <td>147.1</td>\n",
       "      <td>147.1</td>\n",
       "      <td>108.8</td>\n",
       "      <td>190.8</td>\n",
       "      <td>Usigu</td>\n",
       "    </tr>\n",
       "    <tr>\n",
       "      <th>147</th>\n",
       "      <td>118.2</td>\n",
       "      <td>118.2</td>\n",
       "      <td>91.9</td>\n",
       "      <td>155.0</td>\n",
       "      <td>Uyawi</td>\n",
       "    </tr>\n",
       "    <tr>\n",
       "      <th>148</th>\n",
       "      <td>287.0</td>\n",
       "      <td>287.0</td>\n",
       "      <td>200.4</td>\n",
       "      <td>163.3</td>\n",
       "      <td>Wagai</td>\n",
       "    </tr>\n",
       "    <tr>\n",
       "      <th>149</th>\n",
       "      <td>90.7</td>\n",
       "      <td>90.7</td>\n",
       "      <td>55.7</td>\n",
       "      <td>17.6</td>\n",
       "      <td>Kokwiri</td>\n",
       "    </tr>\n",
       "    <tr>\n",
       "      <th>150</th>\n",
       "      <td>91.3</td>\n",
       "      <td>91.3</td>\n",
       "      <td>72.1</td>\n",
       "      <td>220.2</td>\n",
       "      <td>Nyamninia</td>\n",
       "    </tr>\n",
       "  </tbody>\n",
       "</table>\n",
       "<p>140 rows × 5 columns</p>\n",
       "</div>"
      ],
      "text/plain": [
       "       DPT    PCV    ANC    SBA  sublocations\n",
       "0     66.8   66.8   65.1   83.1    Omia Mwalo\n",
       "2    155.5  155.5  123.7  214.9  Malunga East\n",
       "3    426.8  426.8  459.0  476.9     Onyinyore\n",
       "4     98.2   98.2   90.0  131.1        Ngunya\n",
       "5    112.2  115.9  102.1   22.8  East Migwena\n",
       "..     ...    ...    ...    ...           ...\n",
       "146  147.1  147.1  108.8  190.8         Usigu\n",
       "147  118.2  118.2   91.9  155.0         Uyawi\n",
       "148  287.0  287.0  200.4  163.3         Wagai\n",
       "149   90.7   90.7   55.7   17.6       Kokwiri\n",
       "150   91.3   91.3   72.1  220.2     Nyamninia\n",
       "\n",
       "[140 rows x 5 columns]"
      ]
     },
     "execution_count": 55,
     "metadata": {},
     "output_type": "execute_result"
    }
   ],
   "source": [
    "data2"
   ]
  },
  {
   "cell_type": "code",
   "execution_count": 60,
   "id": "3d014311",
   "metadata": {},
   "outputs": [
    {
     "data": {
      "text/plain": [
       "Ugunja          4\n",
       "Katwenga        4\n",
       "Barding         3\n",
       "Karapul         3\n",
       "Sega            3\n",
       "               ..\n",
       "Ramunde         1\n",
       "Mahaya          1\n",
       "BAR-KOWINO      1\n",
       "Bumala          1\n",
       "Malunga East    1\n",
       "Name: sublocations, Length: 94, dtype: int64"
      ]
     },
     "execution_count": 60,
     "metadata": {},
     "output_type": "execute_result"
    }
   ],
   "source": [
    "data2.sublocations.value_counts()"
   ]
  },
  {
   "cell_type": "code",
   "execution_count": 63,
   "id": "b4245010",
   "metadata": {},
   "outputs": [],
   "source": [
    "sublocations=data2.groupby('sublocations')"
   ]
  },
  {
   "cell_type": "code",
   "execution_count": 64,
   "id": "a5111e9b",
   "metadata": {},
   "outputs": [
    {
     "data": {
      "text/plain": [
       "<pandas.core.groupby.generic.DataFrameGroupBy object at 0x000001A07055DCD0>"
      ]
     },
     "execution_count": 64,
     "metadata": {},
     "output_type": "execute_result"
    }
   ],
   "source": [
    "sublocations"
   ]
  },
  {
   "cell_type": "code",
   "execution_count": 65,
   "id": "e09cd368",
   "metadata": {},
   "outputs": [
    {
     "name": "stdout",
     "output_type": "stream",
     "text": [
      "<pandas.core.groupby.generic.DataFrameGroupBy object at 0x000001A07055DCD0>\n"
     ]
    }
   ],
   "source": [
    "print(sublocations)"
   ]
  },
  {
   "cell_type": "code",
   "execution_count": 69,
   "id": "db8c1421",
   "metadata": {},
   "outputs": [
    {
     "ename": "SyntaxError",
     "evalue": "invalid syntax (<ipython-input-69-d3fd641a60d1>, line 1)",
     "output_type": "error",
     "traceback": [
      "\u001b[1;36m  File \u001b[1;32m\"<ipython-input-69-d3fd641a60d1>\"\u001b[1;36m, line \u001b[1;32m1\u001b[0m\n\u001b[1;33m    for sublocations:\u001b[0m\n\u001b[1;37m                    ^\u001b[0m\n\u001b[1;31mSyntaxError\u001b[0m\u001b[1;31m:\u001b[0m invalid syntax\n"
     ]
    }
   ],
   "source": [
    "for sublocations:\n",
    "    print(sublocations)\n",
    " "
   ]
  },
  {
   "cell_type": "code",
   "execution_count": 70,
   "id": "ad7f988b",
   "metadata": {},
   "outputs": [
    {
     "data": {
      "text/html": [
       "<div>\n",
       "<style scoped>\n",
       "    .dataframe tbody tr th:only-of-type {\n",
       "        vertical-align: middle;\n",
       "    }\n",
       "\n",
       "    .dataframe tbody tr th {\n",
       "        vertical-align: top;\n",
       "    }\n",
       "\n",
       "    .dataframe thead th {\n",
       "        text-align: right;\n",
       "    }\n",
       "</style>\n",
       "<table border=\"1\" class=\"dataframe\">\n",
       "  <thead>\n",
       "    <tr style=\"text-align: right;\">\n",
       "      <th></th>\n",
       "      <th>DPT</th>\n",
       "      <th>PCV</th>\n",
       "      <th>ANC</th>\n",
       "      <th>SBA</th>\n",
       "    </tr>\n",
       "    <tr>\n",
       "      <th>sublocations</th>\n",
       "      <th></th>\n",
       "      <th></th>\n",
       "      <th></th>\n",
       "      <th></th>\n",
       "    </tr>\n",
       "  </thead>\n",
       "  <tbody>\n",
       "    <tr>\n",
       "      <th>Anyiko</th>\n",
       "      <td>90.1</td>\n",
       "      <td>90.1</td>\n",
       "      <td>47.1</td>\n",
       "      <td>24.9</td>\n",
       "    </tr>\n",
       "    <tr>\n",
       "      <th>Asayi</th>\n",
       "      <td>34.3</td>\n",
       "      <td>34.3</td>\n",
       "      <td>37.5</td>\n",
       "      <td>23.4</td>\n",
       "    </tr>\n",
       "    <tr>\n",
       "      <th>BAR-AGULU</th>\n",
       "      <td>95.1</td>\n",
       "      <td>95.7</td>\n",
       "      <td>45.9</td>\n",
       "      <td>1.1</td>\n",
       "    </tr>\n",
       "    <tr>\n",
       "      <th>BAR-KOWINO</th>\n",
       "      <td>443.6</td>\n",
       "      <td>440.2</td>\n",
       "      <td>119.7</td>\n",
       "      <td>69.8</td>\n",
       "    </tr>\n",
       "    <tr>\n",
       "      <th>Bar Kanyango</th>\n",
       "      <td>94.2</td>\n",
       "      <td>94.2</td>\n",
       "      <td>44.3</td>\n",
       "      <td>36.7</td>\n",
       "    </tr>\n",
       "    <tr>\n",
       "      <th>...</th>\n",
       "      <td>...</td>\n",
       "      <td>...</td>\n",
       "      <td>...</td>\n",
       "      <td>...</td>\n",
       "    </tr>\n",
       "    <tr>\n",
       "      <th>Utonga</th>\n",
       "      <td>112.4</td>\n",
       "      <td>112.4</td>\n",
       "      <td>99.7</td>\n",
       "      <td>97.1</td>\n",
       "    </tr>\n",
       "    <tr>\n",
       "      <th>Uyawi</th>\n",
       "      <td>118.2</td>\n",
       "      <td>118.2</td>\n",
       "      <td>91.9</td>\n",
       "      <td>155.0</td>\n",
       "    </tr>\n",
       "    <tr>\n",
       "      <th>Wagai</th>\n",
       "      <td>287.0</td>\n",
       "      <td>287.0</td>\n",
       "      <td>200.4</td>\n",
       "      <td>163.3</td>\n",
       "    </tr>\n",
       "    <tr>\n",
       "      <th>West Migwena</th>\n",
       "      <td>96.8</td>\n",
       "      <td>99.7</td>\n",
       "      <td>43.5</td>\n",
       "      <td>7.0</td>\n",
       "    </tr>\n",
       "    <tr>\n",
       "      <th>Yiro</th>\n",
       "      <td>95.5</td>\n",
       "      <td>95.5</td>\n",
       "      <td>63.1</td>\n",
       "      <td>57.8</td>\n",
       "    </tr>\n",
       "  </tbody>\n",
       "</table>\n",
       "<p>94 rows × 4 columns</p>\n",
       "</div>"
      ],
      "text/plain": [
       "                DPT    PCV    ANC    SBA\n",
       "sublocations                            \n",
       "Anyiko         90.1   90.1   47.1   24.9\n",
       "Asayi          34.3   34.3   37.5   23.4\n",
       "BAR-AGULU      95.1   95.7   45.9    1.1\n",
       "BAR-KOWINO    443.6  440.2  119.7   69.8\n",
       "Bar Kanyango   94.2   94.2   44.3   36.7\n",
       "...             ...    ...    ...    ...\n",
       "Utonga        112.4  112.4   99.7   97.1\n",
       "Uyawi         118.2  118.2   91.9  155.0\n",
       "Wagai         287.0  287.0  200.4  163.3\n",
       "West Migwena   96.8   99.7   43.5    7.0\n",
       "Yiro           95.5   95.5   63.1   57.8\n",
       "\n",
       "[94 rows x 4 columns]"
      ]
     },
     "execution_count": 70,
     "metadata": {},
     "output_type": "execute_result"
    }
   ],
   "source": [
    "sublocations.max()"
   ]
  },
  {
   "cell_type": "code",
   "execution_count": null,
   "id": "adeca572",
   "metadata": {},
   "outputs": [],
   "source": []
  }
 ],
 "metadata": {
  "kernelspec": {
   "display_name": "Python 3",
   "language": "python",
   "name": "python3"
  },
  "language_info": {
   "codemirror_mode": {
    "name": "ipython",
    "version": 3
   },
   "file_extension": ".py",
   "mimetype": "text/x-python",
   "name": "python",
   "nbconvert_exporter": "python",
   "pygments_lexer": "ipython3",
   "version": "3.8.8"
  }
 },
 "nbformat": 4,
 "nbformat_minor": 5
}
